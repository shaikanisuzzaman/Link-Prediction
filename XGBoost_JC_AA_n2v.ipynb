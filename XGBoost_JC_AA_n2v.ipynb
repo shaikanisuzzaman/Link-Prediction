{
 "cells": [
  {
   "cell_type": "code",
   "execution_count": 64,
   "metadata": {},
   "outputs": [],
   "source": [
    "import pandas as pd\n",
    "import numpy as np\n",
    "import random\n",
    "import networkx as nx\n",
    "from tqdm import tqdm\n",
    "import re\n",
    "import matplotlib.pyplot as plt\n",
    "import itertools\n",
    "import csv\n",
    "\n",
    "from sklearn.metrics import classification_report, roc_auc_score\n",
    "from sklearn.model_selection import train_test_split\n",
    "\n",
    "from sklearn.model_selection import RandomizedSearchCV\n",
    "from time import time\n",
    "from xgboost import XGBClassifier\n",
    "\n",
    "from node2vec import Node2Vec\n",
    "from sklearn.preprocessing import StandardScaler\n",
    "import xgboost as xgb\n",
    "import optuna\n",
    "from sklearn.metrics import accuracy_score\n",
    "from sklearn.metrics import roc_auc_score"
   ]
  },
  {
   "cell_type": "markdown",
   "metadata": {},
   "source": [
    "# Counting all nodes"
   ]
  },
  {
   "cell_type": "code",
   "execution_count": 65,
   "metadata": {},
   "outputs": [
    {
     "name": "stdout",
     "output_type": "stream",
     "text": [
      "16087\n"
     ]
    }
   ],
   "source": [
    "nodes = dict()\n",
    "\n",
    "with open(\"train-mod.txt\") as file :\n",
    "    end = file.seek(0, 2)\n",
    "    file.seek(0)\n",
    "    while file.tell() != end:\n",
    "        line = file.readline().split()\n",
    "        edges = list(itertools.combinations(line,2))\n",
    "        for i in edges:\n",
    "            if nodes.get(i) == None:\n",
    "                node1 = i[0]\n",
    "                node2 = i[1]\n",
    "                if nodes.get((node2,node1)) == None:\n",
    "                    nodes[i] = 1\n",
    "                else:\n",
    "                    nodes[(node2,node1)] += 1\n",
    "            else:\n",
    "                nodes[i] +=1\n",
    "\n",
    "print(len(nodes))"
   ]
  },
  {
   "cell_type": "code",
   "execution_count": 66,
   "metadata": {},
   "outputs": [],
   "source": [
    "with open(\"weighted_graph.csv\", \"w\", newline=\"\") as a_file:\n",
    "\n",
    "    writer = csv.writer(a_file)\n",
    "    for key, value in nodes.items():\n",
    "        writer.writerow([key[0], key[1], value])\n",
    "\n",
    "    a_file.close()"
   ]
  },
  {
   "cell_type": "code",
   "execution_count": 67,
   "metadata": {},
   "outputs": [],
   "source": [
    "g = nx.read_weighted_edgelist('weighted_graph.csv', delimiter=',', nodetype=int)"
   ]
  },
  {
   "cell_type": "code",
   "execution_count": 68,
   "metadata": {},
   "outputs": [
    {
     "name": "stdout",
     "output_type": "stream",
     "text": [
      "Name: \n",
      "Type: Graph\n",
      "Number of nodes: 3816\n",
      "Number of edges: 16087\n",
      "Average degree:   8.4313\n",
      "None\n"
     ]
    }
   ],
   "source": [
    "print(nx.info(g))"
   ]
  },
  {
   "cell_type": "markdown",
   "metadata": {},
   "source": [
    "# Positive edges"
   ]
  },
  {
   "cell_type": "code",
   "execution_count": 70,
   "metadata": {},
   "outputs": [],
   "source": [
    "edges_pos = list(nodes.keys())"
   ]
  },
  {
   "cell_type": "code",
   "execution_count": 71,
   "metadata": {},
   "outputs": [],
   "source": [
    "with open(\"edges_pos_all.csv\",\"w\",newline=\"\") as csvfile:\n",
    "    writer=csv.writer(csvfile)\n",
    "    writer.writerow([\"Source\",\"Target\", \"Label\"])\n",
    "    for edge in edges_pos:\n",
    "        writer.writerow([edge[0], edge[1], 1])"
   ]
  },
  {
   "cell_type": "markdown",
   "metadata": {},
   "source": [
    "# Generating negative edges (random sampling)"
   ]
  },
  {
   "cell_type": "code",
   "execution_count": 72,
   "metadata": {},
   "outputs": [],
   "source": [
    "i = 0\n",
    "num_test_edges = 16087\n",
    "edges_neg = []\n",
    "while i < num_test_edges:\n",
    "    edge = random.sample(g.nodes(), 2)\n",
    "    try:\n",
    "        edge_exists = g.has_edge(edge[0],edge[1])\n",
    "        if edge_exists == False:\n",
    "            edges_neg.append([edge[0],edge[1]])\n",
    "            i = i+1\n",
    "    except Exception as e:\n",
    "        pass"
   ]
  },
  {
   "cell_type": "code",
   "execution_count": 73,
   "metadata": {},
   "outputs": [],
   "source": [
    "with open(\"edges_neg_16k.csv\",\"w\",newline=\"\") as csvfile:\n",
    "    writer=csv.writer(csvfile)\n",
    "    writer.writerow([\"Source\",\"Target\", \"Label\"])\n",
    "    for edge in edges_neg:\n",
    "        writer.writerow([edge[0], edge[1], 0])"
   ]
  },
  {
   "cell_type": "markdown",
   "metadata": {},
   "source": [
    "# Train/Test split"
   ]
  },
  {
   "cell_type": "code",
   "execution_count": 75,
   "metadata": {},
   "outputs": [],
   "source": [
    "edges_positive = pd.read_csv('edges_pos_all.csv').to_numpy()\n",
    "edges_negative = pd.read_csv('edges_neg_16k.csv').to_numpy()"
   ]
  },
  {
   "cell_type": "code",
   "execution_count": 78,
   "metadata": {},
   "outputs": [],
   "source": [
    "#reading total data df\n",
    "df_pos = pd.DataFrame(edges_positive, columns=['source_node', 'destination_node', 'label'])\n",
    "df_neg = pd.DataFrame(edges_negative, columns=['source_node', 'destination_node', 'label'])"
   ]
  },
  {
   "cell_type": "code",
   "execution_count": 81,
   "metadata": {},
   "outputs": [],
   "source": [
    "df_pos_n2v =  df_pos[['source_node', 'destination_node']].copy()"
   ]
  },
  {
   "cell_type": "code",
   "execution_count": 83,
   "metadata": {},
   "outputs": [
    {
     "name": "stderr",
     "output_type": "stream",
     "text": [
      "Computing transition probabilities: 100%|██████████| 3816/3816 [00:02<00:00, 1722.57it/s]\n",
      "Generating walks (CPU: 1): 100%|██████████| 50/50 [01:07<00:00,  1.36s/it]\n"
     ]
    }
   ],
   "source": [
    "# Generate walks\n",
    "node2vec = Node2Vec(g, dimensions=30, walk_length=16, num_walks=50)\n",
    "\n",
    "# train node2vec model\n",
    "n2w_model = node2vec.fit(window=10, min_count=1)"
   ]
  },
  {
   "cell_type": "code",
   "execution_count": 84,
   "metadata": {},
   "outputs": [],
   "source": [
    "data = pd.concat([df_pos, df_neg], ignore_index=True)"
   ]
  },
  {
   "cell_type": "code",
   "execution_count": 85,
   "metadata": {},
   "outputs": [
    {
     "name": "stderr",
     "output_type": "stream",
     "text": [
      "<ipython-input-85-6d09be66ec01>:1: DeprecationWarning: Call to deprecated `__getitem__` (Method will be removed in 4.0.0, use self.wv.__getitem__() instead).\n",
      "  x_train_n2v = [(n2w_model[str(i)]+n2w_model[str(j)]) for i,j in zip(data['source_node'], data['destination_node'])]\n"
     ]
    }
   ],
   "source": [
    "x_train_n2v = [(n2w_model[str(i)]+n2w_model[str(j)]) for i,j in zip(data['source_node'], data['destination_node'])]"
   ]
  },
  {
   "cell_type": "code",
   "execution_count": 87,
   "metadata": {},
   "outputs": [],
   "source": [
    "def generate_features(sample_list, test = False):\n",
    "    features = []\n",
    "    i = 0\n",
    "    for sample in sample_list:\n",
    "        #print(sample)\n",
    "        source = sample[0]\n",
    "        target = sample[1]\n",
    "        if test == False:\n",
    "            label = sample[2]\n",
    "        else:\n",
    "            label = -1\n",
    "        \n",
    "        feature = []\n",
    "        try:\n",
    "            i = i+1\n",
    "            #print(i)\n",
    "            \n",
    "            #p = nx.common_neighbors(g, source, target)\n",
    "            #feature.append(len(p))\n",
    "            \n",
    "            #p = nx.simrank_similarity(g, source, target)\n",
    "            #feature.append(p)\n",
    "            \n",
    "            #preds = nx.resource_allocation_index(g, [(source, target)])\n",
    "            #for u, v, p in preds:\n",
    "            #    feature.append(p)\n",
    "\n",
    "            preds = nx.jaccard_coefficient(g, [(source, target)])\n",
    "            for u, v, p in preds:\n",
    "                feature.append(p)\n",
    "\n",
    "            preds = nx.adamic_adar_index(g, [(source, target)])\n",
    "            for u, v, p in preds:\n",
    "                feature.append(p)\n",
    "\n",
    "            #preds = nx.preferential_attachment(g, [(source, target)])\n",
    "            #for u, v, p in preds:\n",
    "            #    feature.append(p)\n",
    "            \n",
    "            feature.append(label)  # append label\n",
    "            \n",
    "        except Exception as e:\n",
    "            #print(e)\n",
    "            pass\n",
    "        features.append(feature)\n",
    "    print(\"features: \"+str(len(features)))\n",
    "    return features"
   ]
  },
  {
   "cell_type": "code",
   "execution_count": 88,
   "metadata": {},
   "outputs": [
    {
     "name": "stdout",
     "output_type": "stream",
     "text": [
      "features: 16087\n",
      "features: 16087\n"
     ]
    }
   ],
   "source": [
    "features_pos = generate_features(edges_positive)\n",
    "features_neg = generate_features(edges_negative)"
   ]
  },
  {
   "cell_type": "code",
   "execution_count": 89,
   "metadata": {},
   "outputs": [],
   "source": [
    "features = features_pos + features_neg"
   ]
  },
  {
   "cell_type": "code",
   "execution_count": 91,
   "metadata": {},
   "outputs": [],
   "source": [
    "def write_train_to_csv(features):\n",
    "    with open(\"train_16k_sim.csv\",\"w\",newline=\"\") as csvfile:\n",
    "        writer=csv.writer(csvfile)\n",
    "        writer.writerow([\"JC\",\"AA\",\"Label\"])\n",
    "        writer.writerows(features)\n",
    "        \n",
    "write_train_to_csv(features)"
   ]
  },
  {
   "cell_type": "code",
   "execution_count": 92,
   "metadata": {},
   "outputs": [],
   "source": [
    "dataset_sim = pd.read_csv('train_16k_sim.csv')\n",
    "FEATURE_SIZE=2\n",
    "\n",
    "X_sim = dataset_sim.iloc[:,:FEATURE_SIZE].values\n",
    "y_sim = dataset_sim.iloc[:,FEATURE_SIZE].values"
   ]
  },
  {
   "cell_type": "code",
   "execution_count": 95,
   "metadata": {},
   "outputs": [],
   "source": [
    "x_train_n2v_1 = np.array(x_train_n2v)"
   ]
  },
  {
   "cell_type": "code",
   "execution_count": 98,
   "metadata": {},
   "outputs": [],
   "source": [
    "# Feature Scaling\n",
    "sc = StandardScaler()\n",
    "X_sim_1 = sc.fit_transform(X_sim)"
   ]
  },
  {
   "cell_type": "code",
   "execution_count": 100,
   "metadata": {},
   "outputs": [],
   "source": [
    "all_feats = np.concatenate((X_sim_1,x_train_n2v_1),axis=1)"
   ]
  },
  {
   "cell_type": "code",
   "execution_count": 103,
   "metadata": {},
   "outputs": [
    {
     "name": "stderr",
     "output_type": "stream",
     "text": [
      "\u001b[32m[I 2021-04-07 14:22:42,587]\u001b[0m A new study created in memory with name: no-name-f0b67ce3-52a3-4b3c-a897-1a0cd0aa5023\u001b[0m\n",
      "\u001b[32m[I 2021-04-07 14:22:42,951]\u001b[0m Trial 0 finished with value: 0.9504273504273504 and parameters: {'n_estimators': 580, 'learning_rate': 0.01077115841659831, 'booster': 'dart', 'reg_lambda': 5.9212808550032955e-08, 'alpha': 0.004091007062787086, 'subsample': 0.4222548094578822, 'colsample_bytree': 0.9654809755684464, 'max_depth': 9, 'min_child_weight': 4, 'eta': 0.2984297932009338, 'gamma': 4.645132783671683e-06, 'grow_policy': 'depthwise', 'sample_type': 'weighted', 'normalize_type': 'tree', 'rate_drop': 4.164933836636822e-06, 'skip_drop': 1.471597612907046e-05}. Best is trial 0 with value: 0.9504273504273504.\u001b[0m\n",
      "\u001b[32m[I 2021-04-07 14:22:43,083]\u001b[0m Trial 1 finished with value: 0.949028749028749 and parameters: {'n_estimators': 189, 'learning_rate': 0.017145201976796056, 'booster': 'gbtree', 'reg_lambda': 7.667834881776991e-06, 'alpha': 0.28710102277616006, 'subsample': 0.5167977020329084, 'colsample_bytree': 0.22519555570509403, 'max_depth': 5, 'min_child_weight': 10, 'eta': 0.0055527589735746025, 'gamma': 2.1733667046973304e-05, 'grow_policy': 'depthwise'}. Best is trial 0 with value: 0.9504273504273504.\u001b[0m\n",
      "\u001b[32m[I 2021-04-07 14:22:43,630]\u001b[0m Trial 2 finished with value: 0.9513597513597514 and parameters: {'n_estimators': 982, 'learning_rate': 0.005566225003468367, 'booster': 'dart', 'reg_lambda': 0.03932819592452892, 'alpha': 1.6426377118829344e-05, 'subsample': 0.9654168623695532, 'colsample_bytree': 0.9621692983991679, 'max_depth': 9, 'min_child_weight': 4, 'eta': 0.0004354096143247001, 'gamma': 1.3379048505007542e-06, 'grow_policy': 'depthwise', 'sample_type': 'uniform', 'normalize_type': 'tree', 'rate_drop': 0.10628442117992484, 'skip_drop': 0.00011969620196534655}. Best is trial 2 with value: 0.9513597513597514.\u001b[0m\n",
      "\u001b[32m[I 2021-04-07 14:22:43,758]\u001b[0m Trial 3 finished with value: 0.9501165501165502 and parameters: {'n_estimators': 550, 'learning_rate': 0.03506592745287929, 'booster': 'gbtree', 'reg_lambda': 0.002355855490845843, 'alpha': 0.11207060243748435, 'subsample': 0.24619678239451873, 'colsample_bytree': 0.8371705616024354, 'max_depth': 3, 'min_child_weight': 7, 'eta': 0.004085293438624708, 'gamma': 0.0001643006880608299, 'grow_policy': 'lossguide'}. Best is trial 2 with value: 0.9513597513597514.\u001b[0m\n",
      "\u001b[32m[I 2021-04-07 14:22:43,798]\u001b[0m Trial 4 finished with value: 0.8128982128982128 and parameters: {'n_estimators': 69, 'learning_rate': 0.02943164236612028, 'booster': 'gblinear', 'reg_lambda': 0.020362668309842232, 'alpha': 0.00044958092326146916, 'subsample': 0.819249418891203, 'colsample_bytree': 0.6142259343723171}. Best is trial 2 with value: 0.9513597513597514.\u001b[0m\n",
      "\u001b[32m[I 2021-04-07 14:22:43,931]\u001b[0m Trial 5 finished with value: 0.9491841491841492 and parameters: {'n_estimators': 13, 'learning_rate': 0.17243150141487681, 'booster': 'dart', 'reg_lambda': 3.1688426523113573e-07, 'alpha': 2.121539837255049e-07, 'subsample': 0.22308600695033656, 'colsample_bytree': 0.32408847874016455, 'max_depth': 3, 'min_child_weight': 6, 'eta': 0.3062942178821516, 'gamma': 2.510430703086511e-07, 'grow_policy': 'depthwise', 'sample_type': 'weighted', 'normalize_type': 'tree', 'rate_drop': 0.07688671975950663, 'skip_drop': 4.732590136495892e-05}. Best is trial 2 with value: 0.9513597513597514.\u001b[0m\n",
      "\u001b[32m[I 2021-04-07 14:22:44,212]\u001b[0m Trial 6 finished with value: 0.9516705516705517 and parameters: {'n_estimators': 801, 'learning_rate': 0.15916589999615932, 'booster': 'dart', 'reg_lambda': 0.17297107810375598, 'alpha': 5.205641774752661e-06, 'subsample': 0.7571517238544756, 'colsample_bytree': 0.39454571401619154, 'max_depth': 7, 'min_child_weight': 5, 'eta': 0.012124822511514385, 'gamma': 0.012306379298191462, 'grow_policy': 'lossguide', 'sample_type': 'uniform', 'normalize_type': 'tree', 'rate_drop': 1.6116240628536883e-07, 'skip_drop': 0.00508152420667856}. Best is trial 6 with value: 0.9516705516705517.\u001b[0m\n",
      "\u001b[32m[I 2021-04-07 14:22:44,253]\u001b[0m Trial 7 finished with value: 0.7734265734265734 and parameters: {'n_estimators': 830, 'learning_rate': 0.033952856040601304, 'booster': 'gblinear', 'reg_lambda': 0.26300960455711125, 'alpha': 0.06003826846319612, 'subsample': 0.7231271902061815, 'colsample_bytree': 0.8158228712802138}. Best is trial 6 with value: 0.9516705516705517.\u001b[0m\n",
      "\u001b[32m[I 2021-04-07 14:22:44,419]\u001b[0m Trial 8 finished with value: 0.9156177156177157 and parameters: {'n_estimators': 501, 'learning_rate': 0.022150887615006186, 'booster': 'dart', 'reg_lambda': 0.11317639455985021, 'alpha': 8.963622593467902e-07, 'subsample': 0.20279518191592807, 'colsample_bytree': 0.3866901082200805, 'max_depth': 7, 'min_child_weight': 9, 'eta': 0.0001803865088080122, 'gamma': 0.0005209172662796947, 'grow_policy': 'lossguide', 'sample_type': 'weighted', 'normalize_type': 'tree', 'rate_drop': 4.20334951223797e-07, 'skip_drop': 0.19908815131221613}. Best is trial 6 with value: 0.9516705516705517.\u001b[0m\n",
      "\u001b[32m[I 2021-04-07 14:22:44,455]\u001b[0m Trial 9 finished with value: 0.7954933954933955 and parameters: {'n_estimators': 85, 'learning_rate': 0.006877695905443199, 'booster': 'gblinear', 'reg_lambda': 1.98205778047535e-06, 'alpha': 0.0031644648069772564, 'subsample': 0.2198567823366794, 'colsample_bytree': 0.228584360184217}. Best is trial 6 with value: 0.9516705516705517.\u001b[0m\n",
      "\u001b[32m[I 2021-04-07 14:22:44,811]\u001b[0m Trial 10 finished with value: 0.9521367521367521 and parameters: {'n_estimators': 768, 'learning_rate': 0.483225533790131, 'booster': 'dart', 'reg_lambda': 0.0004262751375063346, 'alpha': 2.2461859541161238e-08, 'subsample': 0.9771167275907915, 'colsample_bytree': 0.5214086023030949, 'max_depth': 7, 'min_child_weight': 2, 'eta': 1.4721706613516877e-07, 'gamma': 0.6824700787563678, 'grow_policy': 'lossguide', 'sample_type': 'uniform', 'normalize_type': 'forest', 'rate_drop': 2.121590960206693e-08, 'skip_drop': 0.29580994398077615}. Best is trial 10 with value: 0.9521367521367521.\u001b[0m\n",
      "\u001b[32m[I 2021-04-07 14:22:45,153]\u001b[0m Trial 11 finished with value: 0.9527583527583527 and parameters: {'n_estimators': 775, 'learning_rate': 0.4950728783506779, 'booster': 'dart', 'reg_lambda': 0.0001837484658243264, 'alpha': 1.0238832492287372e-08, 'subsample': 0.9982052889847546, 'colsample_bytree': 0.506284348487155, 'max_depth': 7, 'min_child_weight': 2, 'eta': 9.121520556613755e-08, 'gamma': 0.7801396759939946, 'grow_policy': 'lossguide', 'sample_type': 'uniform', 'normalize_type': 'forest', 'rate_drop': 1.752148141011184e-08, 'skip_drop': 0.3171599693701652}. Best is trial 11 with value: 0.9527583527583527.\u001b[0m\n",
      "\u001b[32m[I 2021-04-07 14:22:45,522]\u001b[0m Trial 12 finished with value: 0.9533799533799534 and parameters: {'n_estimators': 740, 'learning_rate': 0.45406616600603456, 'booster': 'dart', 'reg_lambda': 0.00030011110175767443, 'alpha': 1.1392146817980107e-08, 'subsample': 0.9840189118516802, 'colsample_bytree': 0.534341275159625, 'max_depth': 7, 'min_child_weight': 2, 'eta': 3.2891365692686584e-08, 'gamma': 0.7410993296958397, 'grow_policy': 'lossguide', 'sample_type': 'uniform', 'normalize_type': 'forest', 'rate_drop': 1.519426951162595e-08, 'skip_drop': 0.8794105761356246}. Best is trial 12 with value: 0.9533799533799534.\u001b[0m\n",
      "\u001b[32m[I 2021-04-07 14:22:45,788]\u001b[0m Trial 13 finished with value: 0.951048951048951 and parameters: {'n_estimators': 983, 'learning_rate': 0.48634057090035565, 'booster': 'dart', 'reg_lambda': 5.3162187135313624e-05, 'alpha': 1.6602198252573587e-08, 'subsample': 0.8957329131921401, 'colsample_bytree': 0.5879680648063459, 'max_depth': 5, 'min_child_weight': 2, 'eta': 1.1018848782700673e-08, 'gamma': 0.4553201501607722, 'grow_policy': 'lossguide', 'sample_type': 'uniform', 'normalize_type': 'forest', 'rate_drop': 0.0002125466710028538, 'skip_drop': 0.7457780803875811}. Best is trial 12 with value: 0.9533799533799534.\u001b[0m\n",
      "\u001b[32m[I 2021-04-07 14:22:46,132]\u001b[0m Trial 14 finished with value: 0.951981351981352 and parameters: {'n_estimators': 675, 'learning_rate': 0.20452346864822368, 'booster': 'dart', 'reg_lambda': 7.13311907450661e-05, 'alpha': 1.1676955968064474e-08, 'subsample': 0.6445274687077073, 'colsample_bytree': 0.6974764010741605, 'max_depth': 7, 'min_child_weight': 2, 'eta': 8.115759266422883e-07, 'gamma': 0.02070167978803394, 'grow_policy': 'lossguide', 'sample_type': 'uniform', 'normalize_type': 'forest', 'rate_drop': 2.3842155297581662e-08, 'skip_drop': 1.1068668927203011e-07}. Best is trial 12 with value: 0.9533799533799534.\u001b[0m\n",
      "\u001b[32m[I 2021-04-07 14:22:46,553]\u001b[0m Trial 15 finished with value: 0.9513597513597514 and parameters: {'n_estimators': 317, 'learning_rate': 0.08268356087708102, 'booster': 'gbtree', 'reg_lambda': 0.0017265181866682794, 'alpha': 1.9147291511652954e-07, 'subsample': 0.9902622393381035, 'colsample_bytree': 0.4943288091441869, 'max_depth': 9, 'min_child_weight': 3, 'eta': 2.2625532572040374e-06, 'gamma': 0.039024941067640366, 'grow_policy': 'lossguide'}. Best is trial 12 with value: 0.9533799533799534.\u001b[0m\n",
      "\u001b[32m[I 2021-04-07 14:22:46,855]\u001b[0m Trial 16 finished with value: 0.9507381507381507 and parameters: {'n_estimators': 681, 'learning_rate': 0.33297856574818613, 'booster': 'dart', 'reg_lambda': 1.540438344570412e-05, 'alpha': 9.624318280640711e-08, 'subsample': 0.8753482065313195, 'colsample_bytree': 0.700758549409858, 'max_depth': 5, 'min_child_weight': 3, 'eta': 1.2492539287342918e-08, 'gamma': 1.0132179756086275e-08, 'grow_policy': 'lossguide', 'sample_type': 'uniform', 'normalize_type': 'forest', 'rate_drop': 4.053267388468523e-05, 'skip_drop': 0.013354354893585592}. Best is trial 12 with value: 0.9533799533799534.\u001b[0m\n",
      "\u001b[32m[I 2021-04-07 14:22:47,182]\u001b[0m Trial 17 finished with value: 0.9512043512043512 and parameters: {'n_estimators': 896, 'learning_rate': 0.06880749839931208, 'booster': 'dart', 'reg_lambda': 0.0006174587397073392, 'alpha': 3.048587117453793e-06, 'subsample': 0.8908986322726145, 'colsample_bytree': 0.4608137715543862, 'max_depth': 7, 'min_child_weight': 8, 'eta': 6.490097729110783e-06, 'gamma': 0.6133947230532018, 'grow_policy': 'lossguide', 'sample_type': 'uniform', 'normalize_type': 'forest', 'rate_drop': 2.2609637825023635e-08, 'skip_drop': 0.014446667579514667}. Best is trial 12 with value: 0.9533799533799534.\u001b[0m\n",
      "\u001b[32m[I 2021-04-07 14:22:47,476]\u001b[0m Trial 18 finished with value: 0.9527583527583527 and parameters: {'n_estimators': 417, 'learning_rate': 0.28817022221392413, 'booster': 'dart', 'reg_lambda': 0.004386009352039593, 'alpha': 4.240569016162476e-05, 'subsample': 0.9990025008955253, 'colsample_bytree': 0.619950493159221, 'max_depth': 5, 'min_child_weight': 3, 'eta': 1.0366224355289174e-07, 'gamma': 0.006169007589156279, 'grow_policy': 'lossguide', 'sample_type': 'uniform', 'normalize_type': 'forest', 'rate_drop': 0.0052767635458447, 'skip_drop': 0.43236917087366444}. Best is trial 12 with value: 0.9533799533799534.\u001b[0m\n",
      "\u001b[32m[I 2021-04-07 14:22:47,681]\u001b[0m Trial 19 finished with value: 0.951048951048951 and parameters: {'n_estimators': 369, 'learning_rate': 0.29448736460133595, 'booster': 'dart', 'reg_lambda': 0.00838185482755753, 'alpha': 9.803560477532267e-05, 'subsample': 0.38131638515096405, 'colsample_bytree': 0.6802266319895851, 'max_depth': 5, 'min_child_weight': 4, 'eta': 8.949204958838296e-08, 'gamma': 0.0016340981651309296, 'grow_policy': 'lossguide', 'sample_type': 'uniform', 'normalize_type': 'forest', 'rate_drop': 0.0021096746042736764, 'skip_drop': 1.668994329645986e-08}. Best is trial 12 with value: 0.9533799533799534.\u001b[0m\n",
      "\u001b[32m[I 2021-04-07 14:22:47,723]\u001b[0m Trial 20 finished with value: 0.7710955710955711 and parameters: {'n_estimators': 384, 'learning_rate': 0.1072989343529806, 'booster': 'gblinear', 'reg_lambda': 0.6946785798588443, 'alpha': 5.8283229259304294e-05, 'subsample': 0.6286280311912624, 'colsample_bytree': 0.7946056510715118}. Best is trial 12 with value: 0.9533799533799534.\u001b[0m\n",
      "\u001b[32m[I 2021-04-07 14:22:48,001]\u001b[0m Trial 21 finished with value: 0.9512043512043512 and parameters: {'n_estimators': 664, 'learning_rate': 0.49831292080656203, 'booster': 'dart', 'reg_lambda': 0.00023628186243292523, 'alpha': 1.1342009189583473e-08, 'subsample': 0.9767493052526054, 'colsample_bytree': 0.5565479156323412, 'max_depth': 5, 'min_child_weight': 2, 'eta': 1.0402546559290183e-07, 'gamma': 0.13992710046213216, 'grow_policy': 'lossguide', 'sample_type': 'uniform', 'normalize_type': 'forest', 'rate_drop': 0.01569039343483557, 'skip_drop': 0.881408432704576}. Best is trial 12 with value: 0.9533799533799534.\u001b[0m\n",
      "\u001b[32m[I 2021-04-07 14:22:48,350]\u001b[0m Trial 22 finished with value: 0.9530691530691531 and parameters: {'n_estimators': 406, 'learning_rate': 0.3126357041256377, 'booster': 'dart', 'reg_lambda': 0.004134762070856965, 'alpha': 6.288128700437744e-08, 'subsample': 0.8304029618380094, 'colsample_bytree': 0.6451245288291718, 'max_depth': 7, 'min_child_weight': 3, 'eta': 1.6265923244797718e-05, 'gamma': 0.0018711236070653374, 'grow_policy': 'lossguide', 'sample_type': 'uniform', 'normalize_type': 'forest', 'rate_drop': 0.002849501898130858, 'skip_drop': 0.04575891465015088}. Best is trial 12 with value: 0.9533799533799534.\u001b[0m\n",
      "\u001b[32m[I 2021-04-07 14:22:48,695]\u001b[0m Trial 23 finished with value: 0.9515151515151515 and parameters: {'n_estimators': 272, 'learning_rate': 0.30615231991792513, 'booster': 'dart', 'reg_lambda': 0.004273556738354726, 'alpha': 7.998757859622503e-07, 'subsample': 0.8113410965588468, 'colsample_bytree': 0.621053370233973, 'max_depth': 7, 'min_child_weight': 3, 'eta': 1.1941518518319581e-05, 'gamma': 0.00406790308087995, 'grow_policy': 'lossguide', 'sample_type': 'uniform', 'normalize_type': 'forest', 'rate_drop': 0.0018275351076767062, 'skip_drop': 0.03356808364543608}. Best is trial 12 with value: 0.9533799533799534.\u001b[0m\n",
      "\u001b[32m[I 2021-04-07 14:22:49,086]\u001b[0m Trial 24 finished with value: 0.9502719502719502 and parameters: {'n_estimators': 885, 'learning_rate': 0.496359930813866, 'booster': 'dart', 'reg_lambda': 2.322741501096704e-05, 'alpha': 7.073447488015274e-08, 'subsample': 0.9156071931175838, 'colsample_bytree': 0.44228436101119617, 'max_depth': 9, 'min_child_weight': 5, 'eta': 3.8081441708490365e-05, 'gamma': 0.09382211047146662, 'grow_policy': 'lossguide', 'sample_type': 'uniform', 'normalize_type': 'forest', 'rate_drop': 0.00015475612159457632, 'skip_drop': 0.0015666425607317371}. Best is trial 12 with value: 0.9533799533799534.\u001b[0m\n",
      "\u001b[32m[I 2021-04-07 14:22:49,371]\u001b[0m Trial 25 finished with value: 0.9522921522921522 and parameters: {'n_estimators': 448, 'learning_rate': 0.2552398685219763, 'booster': 'gbtree', 'reg_lambda': 0.015192283382328958, 'alpha': 0.0008476901667067946, 'subsample': 0.8144894827229888, 'colsample_bytree': 0.7337503947865869, 'max_depth': 5, 'min_child_weight': 3, 'eta': 6.714008878273848e-07, 'gamma': 0.0016589445405456448, 'grow_policy': 'lossguide'}. Best is trial 12 with value: 0.9533799533799534.\u001b[0m\n",
      "\u001b[32m[I 2021-04-07 14:22:49,562]\u001b[0m Trial 26 finished with value: 0.9501165501165502 and parameters: {'n_estimators': 204, 'learning_rate': 0.1342132838806161, 'booster': 'dart', 'reg_lambda': 0.0007718228561145687, 'alpha': 1.0019403626283983e-06, 'subsample': 0.7080729681937787, 'colsample_bytree': 0.6248623821673608, 'max_depth': 3, 'min_child_weight': 5, 'eta': 1.7248442920126053e-08, 'gamma': 5.385612334195856e-05, 'grow_policy': 'lossguide', 'sample_type': 'uniform', 'normalize_type': 'forest', 'rate_drop': 0.6086065928049154, 'skip_drop': 0.0800925396964323}. Best is trial 12 with value: 0.9533799533799534.\u001b[0m\n",
      "\u001b[32m[I 2021-04-07 14:22:50,033]\u001b[0m Trial 27 finished with value: 0.9533799533799534 and parameters: {'n_estimators': 458, 'learning_rate': 0.35913030748201025, 'booster': 'dart', 'reg_lambda': 0.053710977077764156, 'alpha': 1.770782511201438e-05, 'subsample': 0.9351291140350608, 'colsample_bytree': 0.8958062830780767, 'max_depth': 7, 'min_child_weight': 4, 'eta': 3.918428882539149e-07, 'gamma': 0.005515597683113358, 'grow_policy': 'lossguide', 'sample_type': 'uniform', 'normalize_type': 'forest', 'rate_drop': 0.004172477502624831, 'skip_drop': 0.0011573992104677716}. Best is trial 12 with value: 0.9533799533799534.\u001b[0m\n",
      "\u001b[32m[I 2021-04-07 14:22:50,478]\u001b[0m Trial 28 finished with value: 0.9521367521367521 and parameters: {'n_estimators': 592, 'learning_rate': 0.37285643160445825, 'booster': 'dart', 'reg_lambda': 0.05658671982987352, 'alpha': 9.696491282055026e-06, 'subsample': 0.9308791576117004, 'colsample_bytree': 0.8922974847577848, 'max_depth': 7, 'min_child_weight': 4, 'eta': 7.117302290546247e-07, 'gamma': 0.0005333595519462175, 'grow_policy': 'lossguide', 'sample_type': 'uniform', 'normalize_type': 'forest', 'rate_drop': 0.0005965555643587441, 'skip_drop': 0.000834772557207991}. Best is trial 12 with value: 0.9533799533799534.\u001b[0m\n",
      "\u001b[32m[I 2021-04-07 14:22:51,024]\u001b[0m Trial 29 finished with value: 0.9529137529137529 and parameters: {'n_estimators': 515, 'learning_rate': 0.22736049084347962, 'booster': 'dart', 'reg_lambda': 2.008483633502439e-08, 'alpha': 4.327842375628602e-08, 'subsample': 0.846866741804651, 'colsample_bytree': 0.9980268588593515, 'max_depth': 9, 'min_child_weight': 6, 'eta': 2.7930656127098303e-05, 'gamma': 0.10274768406666092, 'grow_policy': 'lossguide', 'sample_type': 'weighted', 'normalize_type': 'forest', 'rate_drop': 2.181521402512001e-05, 'skip_drop': 0.0003671856671302706}. Best is trial 12 with value: 0.9533799533799534.\u001b[0m\n",
      "\u001b[32m[I 2021-04-07 14:22:51,381]\u001b[0m Trial 30 finished with value: 0.9493395493395493 and parameters: {'n_estimators': 626, 'learning_rate': 0.10678824463159305, 'booster': 'dart', 'reg_lambda': 0.4343037402538397, 'alpha': 0.014839536771118881, 'subsample': 0.5427013776924032, 'colsample_bytree': 0.9108330403543218, 'max_depth': 7, 'min_child_weight': 4, 'eta': 3.319027154539209e-06, 'gamma': 0.0001905571137180951, 'grow_policy': 'lossguide', 'sample_type': 'uniform', 'normalize_type': 'forest', 'rate_drop': 0.008820118764816505, 'skip_drop': 3.2339303930226176e-06}. Best is trial 12 with value: 0.9533799533799534.\u001b[0m\n",
      "\u001b[32m[I 2021-04-07 14:22:51,934]\u001b[0m Trial 31 finished with value: 0.954001554001554 and parameters: {'n_estimators': 511, 'learning_rate': 0.22552090148838483, 'booster': 'dart', 'reg_lambda': 4.023782740486175e-08, 'alpha': 3.891520373054093e-08, 'subsample': 0.8555899591942971, 'colsample_bytree': 0.948083583480532, 'max_depth': 9, 'min_child_weight': 6, 'eta': 3.364863984761845e-05, 'gamma': 0.06516890082865344, 'grow_policy': 'lossguide', 'sample_type': 'weighted', 'normalize_type': 'forest', 'rate_drop': 1.1507180560665554e-05, 'skip_drop': 0.0006772724670837954}. Best is trial 31 with value: 0.954001554001554.\u001b[0m\n",
      "\u001b[32m[I 2021-04-07 14:22:52,435]\u001b[0m Trial 32 finished with value: 0.9533799533799534 and parameters: {'n_estimators': 468, 'learning_rate': 0.37467193409505295, 'booster': 'dart', 'reg_lambda': 3.7071801669795154e-06, 'alpha': 3.21529762275284e-07, 'subsample': 0.7602628534737321, 'colsample_bytree': 0.9502615432130606, 'max_depth': 9, 'min_child_weight': 6, 'eta': 0.0004781490621576116, 'gamma': 0.04037124948225383, 'grow_policy': 'lossguide', 'sample_type': 'weighted', 'normalize_type': 'forest', 'rate_drop': 1.0909105890848335e-06, 'skip_drop': 0.0027334974997252804}. Best is trial 31 with value: 0.954001554001554.\u001b[0m\n",
      "\u001b[32m[I 2021-04-07 14:22:52,926]\u001b[0m Trial 33 finished with value: 0.9538461538461539 and parameters: {'n_estimators': 463, 'learning_rate': 0.38699428642828015, 'booster': 'dart', 'reg_lambda': 2.988995377303875e-07, 'alpha': 4.5646832655841814e-07, 'subsample': 0.7557970572557018, 'colsample_bytree': 0.9523539249159241, 'max_depth': 9, 'min_child_weight': 7, 'eta': 0.000764757989502048, 'gamma': 0.03506209703821295, 'grow_policy': 'lossguide', 'sample_type': 'weighted', 'normalize_type': 'forest', 'rate_drop': 2.8708953986156963e-06, 'skip_drop': 0.0028240138714623127}. Best is trial 31 with value: 0.954001554001554.\u001b[0m\n",
      "\u001b[32m[I 2021-04-07 14:22:53,411]\u001b[0m Trial 34 finished with value: 0.9532245532245532 and parameters: {'n_estimators': 468, 'learning_rate': 0.2018402927827371, 'booster': 'gbtree', 'reg_lambda': 1.7510518037522905e-07, 'alpha': 4.7210672233811277e-07, 'subsample': 0.7507644539550317, 'colsample_bytree': 0.9504071402557828, 'max_depth': 9, 'min_child_weight': 7, 'eta': 0.00080503442387054, 'gamma': 0.035913306967623085, 'grow_policy': 'depthwise'}. Best is trial 31 with value: 0.954001554001554.\u001b[0m\n",
      "\u001b[32m[I 2021-04-07 14:22:53,897]\u001b[0m Trial 35 finished with value: 0.9507381507381507 and parameters: {'n_estimators': 545, 'learning_rate': 0.0572342368430147, 'booster': 'dart', 'reg_lambda': 2.2962457409070957e-06, 'alpha': 2.3649394298266023e-06, 'subsample': 0.6715643951062036, 'colsample_bytree': 0.9889218179080688, 'max_depth': 9, 'min_child_weight': 7, 'eta': 0.039186164074342285, 'gamma': 0.2476178883880677, 'grow_policy': 'lossguide', 'sample_type': 'weighted', 'normalize_type': 'forest', 'rate_drop': 3.2012595735222944e-06, 'skip_drop': 0.004483996945232006}. Best is trial 31 with value: 0.954001554001554.\u001b[0m\n",
      "\u001b[32m[I 2021-04-07 14:22:54,412]\u001b[0m Trial 36 finished with value: 0.9524475524475524 and parameters: {'n_estimators': 326, 'learning_rate': 0.40992751834262425, 'booster': 'dart', 'reg_lambda': 1.1202886955937905e-08, 'alpha': 1.5929759375203207e-05, 'subsample': 0.9400117258644182, 'colsample_bytree': 0.8709366127282756, 'max_depth': 9, 'min_child_weight': 8, 'eta': 6.427146532455471e-05, 'gamma': 0.01409762837150275, 'grow_policy': 'depthwise', 'sample_type': 'weighted', 'normalize_type': 'forest', 'rate_drop': 1.325939968645405e-05, 'skip_drop': 0.0002714384720874325}. Best is trial 31 with value: 0.954001554001554.\u001b[0m\n",
      "\u001b[32m[I 2021-04-07 14:22:54,850]\u001b[0m Trial 37 finished with value: 0.9515151515151515 and parameters: {'n_estimators': 584, 'learning_rate': 0.13805099985269134, 'booster': 'dart', 'reg_lambda': 6.821469975104111e-08, 'alpha': 2.5286106689462154e-07, 'subsample': 0.5583283002733119, 'colsample_bytree': 0.9327283580754427, 'max_depth': 9, 'min_child_weight': 6, 'eta': 0.0011015943621189362, 'gamma': 0.053281352901519675, 'grow_policy': 'lossguide', 'sample_type': 'weighted', 'normalize_type': 'forest', 'rate_drop': 6.105992141323807e-07, 'skip_drop': 0.0020584398804632115}. Best is trial 31 with value: 0.954001554001554.\u001b[0m\n",
      "\u001b[32m[I 2021-04-07 14:22:54,897]\u001b[0m Trial 38 finished with value: 0.8857808857808858 and parameters: {'n_estimators': 482, 'learning_rate': 0.1764548066685565, 'booster': 'gblinear', 'reg_lambda': 1.014516712146055e-06, 'alpha': 0.00038701912391709566, 'subsample': 0.7612796671665194, 'colsample_bytree': 0.7774232484149732}. Best is trial 31 with value: 0.954001554001554.\u001b[0m\n",
      "\u001b[32m[I 2021-04-07 14:22:55,268]\u001b[0m Trial 39 finished with value: 0.9505827505827505 and parameters: {'n_estimators': 721, 'learning_rate': 0.012617005690998287, 'booster': 'gbtree', 'reg_lambda': 4.367305915027869e-07, 'alpha': 3.299427131317186e-08, 'subsample': 0.4577847953270503, 'colsample_bytree': 0.8524170148977988, 'max_depth': 9, 'min_child_weight': 8, 'eta': 0.003079416950829003, 'gamma': 1.043917290153345e-05, 'grow_policy': 'depthwise'}. Best is trial 31 with value: 0.954001554001554.\u001b[0m\n",
      "\u001b[32m[I 2021-04-07 14:22:55,828]\u001b[0m Trial 40 finished with value: 0.9526029526029526 and parameters: {'n_estimators': 226, 'learning_rate': 0.2533454861299975, 'booster': 'dart', 'reg_lambda': 6.666473400693701e-08, 'alpha': 5.908359896851979e-06, 'subsample': 0.8649079818343182, 'colsample_bytree': 0.9882719234569451, 'max_depth': 9, 'min_child_weight': 5, 'eta': 0.00015346752568766848, 'gamma': 0.2596079673360988, 'grow_policy': 'lossguide', 'sample_type': 'weighted', 'normalize_type': 'forest', 'rate_drop': 1.7782724646606068e-07, 'skip_drop': 2.161645539348934e-05}. Best is trial 31 with value: 0.954001554001554.\u001b[0m\n",
      "\u001b[32m[I 2021-04-07 14:22:56,321]\u001b[0m Trial 41 finished with value: 0.954001554001554 and parameters: {'n_estimators': 518, 'learning_rate': 0.4113274647436664, 'booster': 'dart', 'reg_lambda': 4.275159559162571e-06, 'alpha': 1.4837387052495087e-07, 'subsample': 0.7904998721836803, 'colsample_bytree': 0.9462287147545597, 'max_depth': 9, 'min_child_weight': 7, 'eta': 0.0003061231405704955, 'gamma': 0.006470756538118768, 'grow_policy': 'lossguide', 'sample_type': 'weighted', 'normalize_type': 'forest', 'rate_drop': 2.769069181962516e-06, 'skip_drop': 0.000609364085108504}. Best is trial 31 with value: 0.954001554001554.\u001b[0m\n",
      "\u001b[32m[I 2021-04-07 14:22:56,839]\u001b[0m Trial 42 finished with value: 0.9532245532245532 and parameters: {'n_estimators': 542, 'learning_rate': 0.39444839401071286, 'booster': 'dart', 'reg_lambda': 5.208549171715454e-06, 'alpha': 1.3320606393069325e-07, 'subsample': 0.7872752597392891, 'colsample_bytree': 0.949765747402128, 'max_depth': 9, 'min_child_weight': 7, 'eta': 0.00041719001912276707, 'gamma': 0.06302313608460788, 'grow_policy': 'lossguide', 'sample_type': 'weighted', 'normalize_type': 'forest', 'rate_drop': 2.8507369790696313e-06, 'skip_drop': 0.0001506730132389942}. Best is trial 31 with value: 0.954001554001554.\u001b[0m\n",
      "\u001b[32m[I 2021-04-07 14:22:57,313]\u001b[0m Trial 43 finished with value: 0.9538461538461539 and parameters: {'n_estimators': 625, 'learning_rate': 0.41435011957394513, 'booster': 'dart', 'reg_lambda': 5.57461382616043e-07, 'alpha': 1.770944567720884e-06, 'subsample': 0.7028830546834154, 'colsample_bytree': 0.889220452483044, 'max_depth': 9, 'min_child_weight': 7, 'eta': 0.008710150615587768, 'gamma': 0.004694083365872621, 'grow_policy': 'lossguide', 'sample_type': 'weighted', 'normalize_type': 'forest', 'rate_drop': 1.0875170592089373e-05, 'skip_drop': 6.270624126022368e-06}. Best is trial 31 with value: 0.954001554001554.\u001b[0m\n",
      "\u001b[32m[I 2021-04-07 14:22:57,782]\u001b[0m Trial 44 finished with value: 0.9543123543123543 and parameters: {'n_estimators': 614, 'learning_rate': 0.37285255877680357, 'booster': 'dart', 'reg_lambda': 6.140688504132022e-07, 'alpha': 1.8928761858019888e-06, 'subsample': 0.7019995132653476, 'colsample_bytree': 0.8272092147910652, 'max_depth': 9, 'min_child_weight': 7, 'eta': 0.018253183035730716, 'gamma': 0.006003580113874936, 'grow_policy': 'lossguide', 'sample_type': 'weighted', 'normalize_type': 'forest', 'rate_drop': 8.152725992584374e-06, 'skip_drop': 3.3306196913628565e-06}. Best is trial 44 with value: 0.9543123543123543.\u001b[0m\n",
      "\u001b[32m[I 2021-04-07 14:22:58,387]\u001b[0m Trial 45 finished with value: 0.9530691530691531 and parameters: {'n_estimators': 613, 'learning_rate': 0.24872047591614488, 'booster': 'dart', 'reg_lambda': 5.807182696569869e-07, 'alpha': 1.919990780164785e-06, 'subsample': 0.6870095659858354, 'colsample_bytree': 0.8289775708809757, 'max_depth': 9, 'min_child_weight': 7, 'eta': 0.08648034491796683, 'gamma': 0.00043064165885016523, 'grow_policy': 'lossguide', 'sample_type': 'weighted', 'normalize_type': 'tree', 'rate_drop': 8.71801133256824e-06, 'skip_drop': 3.5022656464296325e-06}. Best is trial 44 with value: 0.9543123543123543.\u001b[0m\n",
      "\u001b[32m[I 2021-04-07 14:22:58,811]\u001b[0m Trial 46 finished with value: 0.9515151515151515 and parameters: {'n_estimators': 635, 'learning_rate': 0.16821887169370434, 'booster': 'dart', 'reg_lambda': 1.55942722112875e-07, 'alpha': 6.295916285127673e-07, 'subsample': 0.5971312729023818, 'colsample_bytree': 0.7549749271657593, 'max_depth': 9, 'min_child_weight': 9, 'eta': 0.012809165829752974, 'gamma': 0.011052141592315521, 'grow_policy': 'lossguide', 'sample_type': 'weighted', 'normalize_type': 'forest', 'rate_drop': 1.8881244205286784e-06, 'skip_drop': 4.194054974763535e-06}. Best is trial 44 with value: 0.9543123543123543.\u001b[0m\n",
      "\u001b[32m[I 2021-04-07 14:22:58,859]\u001b[0m Trial 47 finished with value: 0.9184149184149184 and parameters: {'n_estimators': 555, 'learning_rate': 0.4252419510993998, 'booster': 'gblinear', 'reg_lambda': 3.017256235010734e-08, 'alpha': 1.3636901051197425e-06, 'subsample': 0.7137807048044469, 'colsample_bytree': 0.873363522124075}. Best is trial 44 with value: 0.9543123543123543.\u001b[0m\n",
      "\u001b[32m[I 2021-04-07 14:22:59,439]\u001b[0m Trial 48 finished with value: 0.9527583527583527 and parameters: {'n_estimators': 515, 'learning_rate': 0.1939282146874675, 'booster': 'dart', 'reg_lambda': 1.086887218396552e-06, 'alpha': 4.715809572870269e-06, 'subsample': 0.6630399013510685, 'colsample_bytree': 0.9237739985046155, 'max_depth': 9, 'min_child_weight': 8, 'eta': 0.9724061221873853, 'gamma': 0.003167279517422262, 'grow_policy': 'depthwise', 'sample_type': 'weighted', 'normalize_type': 'tree', 'rate_drop': 6.373380242220265e-05, 'skip_drop': 1.0245095389159238e-06}. Best is trial 44 with value: 0.9543123543123543.\u001b[0m\n",
      "\u001b[32m[I 2021-04-07 14:22:59,905]\u001b[0m Trial 49 finished with value: 0.9512043512043512 and parameters: {'n_estimators': 710, 'learning_rate': 0.23267664119923123, 'booster': 'dart', 'reg_lambda': 1.7298511678837833e-07, 'alpha': 2.190672234371735e-08, 'subsample': 0.6026826497571631, 'colsample_bytree': 0.9964406802965763, 'max_depth': 9, 'min_child_weight': 7, 'eta': 0.0029194603580429963, 'gamma': 0.02045938706533405, 'grow_policy': 'lossguide', 'sample_type': 'weighted', 'normalize_type': 'forest', 'rate_drop': 7.050906924277877e-06, 'skip_drop': 3.666881840611152e-05}. Best is trial 44 with value: 0.9543123543123543.\u001b[0m\n",
      "\u001b[32m[I 2021-04-07 14:23:00,403]\u001b[0m Trial 50 finished with value: 0.9533799533799534 and parameters: {'n_estimators': 653, 'learning_rate': 0.4865044866321461, 'booster': 'dart', 'reg_lambda': 1.2749053621368836e-05, 'alpha': 1.53858315275936e-07, 'subsample': 0.798733804891967, 'colsample_bytree': 0.8178974423882153, 'max_depth': 9, 'min_child_weight': 9, 'eta': 0.013553483967695668, 'gamma': 0.0008007688760267588, 'grow_policy': 'lossguide', 'sample_type': 'weighted', 'normalize_type': 'forest', 'rate_drop': 2.7831374872192656e-05, 'skip_drop': 8.586091046498225e-07}. Best is trial 44 with value: 0.9543123543123543.\u001b[0m\n",
      "\u001b[32m[I 2021-04-07 14:23:00,860]\u001b[0m Trial 51 finished with value: 0.9522921522921522 and parameters: {'n_estimators': 668, 'learning_rate': 0.4976641494134205, 'booster': 'dart', 'reg_lambda': 1.0257432190292576e-05, 'alpha': 1.4098619289175554e-07, 'subsample': 0.7895342419871304, 'colsample_bytree': 0.8133623358412482, 'max_depth': 9, 'min_child_weight': 10, 'eta': 0.009765719343015924, 'gamma': 0.0010018242078655595, 'grow_policy': 'lossguide', 'sample_type': 'weighted', 'normalize_type': 'forest', 'rate_drop': 2.2043308690208322e-05, 'skip_drop': 1.9810627089673063e-07}. Best is trial 44 with value: 0.9543123543123543.\u001b[0m\n",
      "\u001b[32m[I 2021-04-07 14:23:01,360]\u001b[0m Trial 52 finished with value: 0.951048951048951 and parameters: {'n_estimators': 573, 'learning_rate': 0.04109169402439622, 'booster': 'dart', 'reg_lambda': 2.9340356019196596e-05, 'alpha': 2.3131071823097766e-07, 'subsample': 0.7343614987530709, 'colsample_bytree': 0.8582807689372789, 'max_depth': 9, 'min_child_weight': 9, 'eta': 0.03269483941452432, 'gamma': 0.00931531209191047, 'grow_policy': 'lossguide', 'sample_type': 'weighted', 'normalize_type': 'forest', 'rate_drop': 8.45450459698534e-06, 'skip_drop': 6.836882213185833e-07}. Best is trial 44 with value: 0.9543123543123543.\u001b[0m\n",
      "\u001b[32m[I 2021-04-07 14:23:01,864]\u001b[0m Trial 53 finished with value: 0.9527583527583527 and parameters: {'n_estimators': 812, 'learning_rate': 0.3513500115487246, 'booster': 'dart', 'reg_lambda': 1.0914518482865232e-06, 'alpha': 4.5067339048041037e-07, 'subsample': 0.7869686928741201, 'colsample_bytree': 0.9041646245467674, 'max_depth': 9, 'min_child_weight': 6, 'eta': 0.2799171060025946, 'gamma': 0.0003392843437021884, 'grow_policy': 'lossguide', 'sample_type': 'weighted', 'normalize_type': 'forest', 'rate_drop': 3.4811957532861645e-07, 'skip_drop': 8.898016551377863e-06}. Best is trial 44 with value: 0.9543123543123543.\u001b[0m\n",
      "\u001b[32m[I 2021-04-07 14:23:02,337]\u001b[0m Trial 54 finished with value: 0.9524475524475524 and parameters: {'n_estimators': 628, 'learning_rate': 0.4399132824920676, 'booster': 'dart', 'reg_lambda': 7.435150902053171e-06, 'alpha': 8.516762587270582e-08, 'subsample': 0.696047717019679, 'colsample_bytree': 0.9740166432327328, 'max_depth': 9, 'min_child_weight': 8, 'eta': 0.0011909010320590766, 'gamma': 4.880384788591288e-05, 'grow_policy': 'lossguide', 'sample_type': 'weighted', 'normalize_type': 'forest', 'rate_drop': 4.915893290841467e-05, 'skip_drop': 7.488998099666478e-05}. Best is trial 44 with value: 0.9543123543123543.\u001b[0m\n",
      "\u001b[32m[I 2021-04-07 14:23:02,867]\u001b[0m Trial 55 finished with value: 0.9529137529137529 and parameters: {'n_estimators': 434, 'learning_rate': 0.2839679184304616, 'booster': 'dart', 'reg_lambda': 2.685066660188112e-07, 'alpha': 2.678880735513132e-05, 'subsample': 0.8758628829210822, 'colsample_bytree': 0.8993298126405508, 'max_depth': 9, 'min_child_weight': 7, 'eta': 0.00031008683062241444, 'gamma': 0.005906848417762779, 'grow_policy': 'lossguide', 'sample_type': 'weighted', 'normalize_type': 'tree', 'rate_drop': 1.4707453761932303e-06, 'skip_drop': 0.0005917614911252064}. Best is trial 44 with value: 0.9543123543123543.\u001b[0m\n",
      "\u001b[32m[I 2021-04-07 14:23:03,273]\u001b[0m Trial 56 finished with value: 0.9532245532245532 and parameters: {'n_estimators': 327, 'learning_rate': 0.3488974195167304, 'booster': 'dart', 'reg_lambda': 3.327617296144769e-08, 'alpha': 0.6428667074376813, 'subsample': 0.8497659749390197, 'colsample_bytree': 0.8805195718371187, 'max_depth': 7, 'min_child_weight': 6, 'eta': 9.320541924770315e-05, 'gamma': 1.1320312565634747e-06, 'grow_policy': 'lossguide', 'sample_type': 'weighted', 'normalize_type': 'forest', 'rate_drop': 0.0004048322209042271, 'skip_drop': 0.00020060407723902776}. Best is trial 44 with value: 0.9543123543123543.\u001b[0m\n",
      "\u001b[32m[I 2021-04-07 14:23:03,661]\u001b[0m Trial 57 finished with value: 0.9502719502719502 and parameters: {'n_estimators': 751, 'learning_rate': 0.0060439209649360325, 'booster': 'dart', 'reg_lambda': 0.00014706113127985548, 'alpha': 3.951718343578993e-08, 'subsample': 0.7353930532074725, 'colsample_bytree': 0.5710090828782246, 'max_depth': 9, 'min_child_weight': 7, 'eta': 0.005570501937664013, 'gamma': 0.26961279423680207, 'grow_policy': 'lossguide', 'sample_type': 'weighted', 'normalize_type': 'forest', 'rate_drop': 7.858413888395817e-08, 'skip_drop': 1.5910110293275725e-05}. Best is trial 44 with value: 0.9543123543123543.\u001b[0m\n",
      "\u001b[32m[I 2021-04-07 14:23:03,713]\u001b[0m Trial 58 finished with value: 0.8147630147630147 and parameters: {'n_estimators': 861, 'learning_rate': 0.025785168374768932, 'booster': 'gblinear', 'reg_lambda': 8.151839185693628e-08, 'alpha': 1.1103883311693812e-08, 'subsample': 0.6559320512911038, 'colsample_bytree': 0.45813816548648223}. Best is trial 44 with value: 0.9543123543123543.\u001b[0m\n",
      "\u001b[32m[I 2021-04-07 14:23:04,217]\u001b[0m Trial 59 finished with value: 0.9533799533799534 and parameters: {'n_estimators': 365, 'learning_rate': 0.2896323049673157, 'booster': 'dart', 'reg_lambda': 1.0148281642924936e-08, 'alpha': 4.199093826908754e-06, 'subsample': 0.768118099853827, 'colsample_bytree': 0.9465583187267889, 'max_depth': 9, 'min_child_weight': 6, 'eta': 0.0002677263348839419, 'gamma': 0.021006565820403552, 'grow_policy': 'lossguide', 'sample_type': 'weighted', 'normalize_type': 'forest', 'rate_drop': 8.149330679421153e-07, 'skip_drop': 0.002862000798292503}. Best is trial 44 with value: 0.9543123543123543.\u001b[0m\n",
      "\u001b[32m[I 2021-04-07 14:23:04,653]\u001b[0m Trial 60 finished with value: 0.9529137529137529 and parameters: {'n_estimators': 401, 'learning_rate': 0.28120310971234963, 'booster': 'gbtree', 'reg_lambda': 1.0921051158116814e-08, 'alpha': 4.080557561163086e-06, 'subsample': 0.62617450538203, 'colsample_bytree': 0.9663370033954205, 'max_depth': 9, 'min_child_weight': 6, 'eta': 0.0018180414164881943, 'gamma': 0.02377066418102078, 'grow_policy': 'lossguide'}. Best is trial 44 with value: 0.9543123543123543.\u001b[0m\n",
      "\u001b[32m[I 2021-04-07 14:23:05,136]\u001b[0m Trial 61 finished with value: 0.9530691530691531 and parameters: {'n_estimators': 489, 'learning_rate': 0.44141396170780856, 'booster': 'dart', 'reg_lambda': 3.902670909118353e-06, 'alpha': 3.3182239229832814e-07, 'subsample': 0.8212435555331137, 'colsample_bytree': 0.8359384963211982, 'max_depth': 9, 'min_child_weight': 7, 'eta': 0.015740569081997186, 'gamma': 0.0019404564834781513, 'grow_policy': 'lossguide', 'sample_type': 'weighted', 'normalize_type': 'forest', 'rate_drop': 3.761658255111553e-06, 'skip_drop': 8.379068979409878e-07}. Best is trial 44 with value: 0.9543123543123543.\u001b[0m\n",
      "\u001b[32m[I 2021-04-07 14:23:05,653]\u001b[0m Trial 62 finished with value: 0.9550893550893551 and parameters: {'n_estimators': 353, 'learning_rate': 0.3174860212382065, 'booster': 'dart', 'reg_lambda': 2.548760316995246e-06, 'alpha': 1.396115461581221e-06, 'subsample': 0.7650541084907425, 'colsample_bytree': 0.939472139483901, 'max_depth': 9, 'min_child_weight': 5, 'eta': 0.0006675303875329913, 'gamma': 0.033061257031159204, 'grow_policy': 'lossguide', 'sample_type': 'weighted', 'normalize_type': 'forest', 'rate_drop': 9.059411979167552e-07, 'skip_drop': 0.004241954435261522}. Best is trial 62 with value: 0.9550893550893551.\u001b[0m\n",
      "\u001b[32m[I 2021-04-07 14:23:06,152]\u001b[0m Trial 63 finished with value: 0.9541569541569541 and parameters: {'n_estimators': 275, 'learning_rate': 0.33607629492212043, 'booster': 'dart', 'reg_lambda': 2.32045465673841e-06, 'alpha': 1.3228586527485275e-06, 'subsample': 0.7286539270512716, 'colsample_bytree': 0.93035222180875, 'max_depth': 9, 'min_child_weight': 5, 'eta': 0.0005200224937244344, 'gamma': 0.13869117016884416, 'grow_policy': 'lossguide', 'sample_type': 'weighted', 'normalize_type': 'forest', 'rate_drop': 2.457968312460075e-07, 'skip_drop': 0.005946172635383659}. Best is trial 62 with value: 0.9550893550893551.\u001b[0m\n",
      "\u001b[32m[I 2021-04-07 14:23:06,640]\u001b[0m Trial 64 finished with value: 0.9532245532245532 and parameters: {'n_estimators': 281, 'learning_rate': 0.32848631632268377, 'booster': 'dart', 'reg_lambda': 1.9190080662555024e-06, 'alpha': 1.392680058463648e-06, 'subsample': 0.7262487892730703, 'colsample_bytree': 0.924805511027649, 'max_depth': 9, 'min_child_weight': 5, 'eta': 0.0007279175762851922, 'gamma': 0.11510111511383236, 'grow_policy': 'lossguide', 'sample_type': 'weighted', 'normalize_type': 'forest', 'rate_drop': 6.556721528240631e-08, 'skip_drop': 0.012823468775866605}. Best is trial 62 with value: 0.9550893550893551.\u001b[0m\n",
      "\u001b[32m[I 2021-04-07 14:23:07,194]\u001b[0m Trial 65 finished with value: 0.9527583527583527 and parameters: {'n_estimators': 68, 'learning_rate': 0.22805356224303466, 'booster': 'dart', 'reg_lambda': 5.151383282540398e-07, 'alpha': 7.133232888779472e-07, 'subsample': 0.838736135846496, 'colsample_bytree': 0.9658921738290762, 'max_depth': 9, 'min_child_weight': 5, 'eta': 0.00018128747894988274, 'gamma': 0.19885045093663248, 'grow_policy': 'lossguide', 'sample_type': 'weighted', 'normalize_type': 'forest', 'rate_drop': 2.685908429139485e-07, 'skip_drop': 0.009419435707274425}. Best is trial 62 with value: 0.9550893550893551.\u001b[0m\n",
      "\u001b[32m[I 2021-04-07 14:23:07,664]\u001b[0m Trial 66 finished with value: 0.9538461538461539 and parameters: {'n_estimators': 247, 'learning_rate': 0.4157617185356991, 'booster': 'dart', 'reg_lambda': 2.05060266648845e-06, 'alpha': 7.027872939031531e-06, 'subsample': 0.6908164989498501, 'colsample_bytree': 0.9244381620709988, 'max_depth': 9, 'min_child_weight': 5, 'eta': 7.200421857739827e-05, 'gamma': 0.9484567324757753, 'grow_policy': 'lossguide', 'sample_type': 'weighted', 'normalize_type': 'forest', 'rate_drop': 4.913071198648919e-06, 'skip_drop': 0.0006055221820718331}. Best is trial 62 with value: 0.9550893550893551.\u001b[0m\n",
      "\u001b[32m[I 2021-04-07 14:23:08,146]\u001b[0m Trial 67 finished with value: 0.9546231546231546 and parameters: {'n_estimators': 349, 'learning_rate': 0.3247105185780597, 'booster': 'dart', 'reg_lambda': 8.05665301341219e-07, 'alpha': 1.7121512615582246e-06, 'subsample': 0.7458467029590461, 'colsample_bytree': 0.9976283991421676, 'max_depth': 9, 'min_child_weight': 8, 'eta': 0.005141102438006912, 'gamma': 0.05876259761292152, 'grow_policy': 'lossguide', 'sample_type': 'weighted', 'normalize_type': 'forest', 'rate_drop': 1.815480012352887e-06, 'skip_drop': 0.006518571369079305}. Best is trial 62 with value: 0.9550893550893551.\u001b[0m\n",
      "\u001b[32m[I 2021-04-07 14:23:08,428]\u001b[0m Trial 68 finished with value: 0.9428127428127429 and parameters: {'n_estimators': 154, 'learning_rate': 0.20475054245283944, 'booster': 'dart', 'reg_lambda': 3.146511917273106e-05, 'alpha': 1.1869617119112115e-05, 'subsample': 0.7149631783534464, 'colsample_bytree': 0.2790662840505866, 'max_depth': 9, 'min_child_weight': 5, 'eta': 0.002013523516024624, 'gamma': 0.44672674695067205, 'grow_policy': 'lossguide', 'sample_type': 'weighted', 'normalize_type': 'forest', 'rate_drop': 8.042197179765007e-08, 'skip_drop': 0.006908167279525501}. Best is trial 62 with value: 0.9550893550893551.\u001b[0m\n",
      "\u001b[32m[I 2021-04-07 14:23:08,933]\u001b[0m Trial 69 finished with value: 0.9505827505827505 and parameters: {'n_estimators': 312, 'learning_rate': 0.3132584202509369, 'booster': 'dart', 'reg_lambda': 2.678667266322348e-07, 'alpha': 9.073703024266528e-07, 'subsample': 0.7739067505177141, 'colsample_bytree': 0.9960233682143971, 'max_depth': 9, 'min_child_weight': 8, 'eta': 3.632471718445637e-05, 'gamma': 0.07315624056049914, 'grow_policy': 'lossguide', 'sample_type': 'weighted', 'normalize_type': 'forest', 'rate_drop': 2.1090496939938443e-06, 'skip_drop': 0.0268496372537901}. Best is trial 62 with value: 0.9550893550893551.\u001b[0m\n",
      "\u001b[32m[I 2021-04-07 14:23:09,331]\u001b[0m Trial 70 finished with value: 0.9530691530691531 and parameters: {'n_estimators': 244, 'learning_rate': 0.2628844561117436, 'booster': 'dart', 'reg_lambda': 1.7953012533160983e-06, 'alpha': 4.881415269636424e-05, 'subsample': 0.6736945517737258, 'colsample_bytree': 0.9224100701370355, 'max_depth': 7, 'min_child_weight': 5, 'eta': 1.3727352995908815e-05, 'gamma': 0.6937076857609608, 'grow_policy': 'lossguide', 'sample_type': 'weighted', 'normalize_type': 'forest', 'rate_drop': 5.5256430627576166e-06, 'skip_drop': 0.0004872113644778439}. Best is trial 62 with value: 0.9550893550893551.\u001b[0m\n",
      "\u001b[32m[I 2021-04-07 14:23:09,762]\u001b[0m Trial 71 finished with value: 0.9529137529137529 and parameters: {'n_estimators': 159, 'learning_rate': 0.4080732744609556, 'booster': 'dart', 'reg_lambda': 2.956852922883644e-06, 'alpha': 8.395449196675311e-06, 'subsample': 0.6344058525509229, 'colsample_bytree': 0.8612251271242463, 'max_depth': 9, 'min_child_weight': 6, 'eta': 0.005856763075264161, 'gamma': 0.9260276607002756, 'grow_policy': 'lossguide', 'sample_type': 'weighted', 'normalize_type': 'forest', 'rate_drop': 5.208591292982321e-07, 'skip_drop': 0.000959061773618951}. Best is trial 62 with value: 0.9550893550893551.\u001b[0m\n",
      "\u001b[32m[I 2021-04-07 14:23:10,261]\u001b[0m Trial 72 finished with value: 0.9538461538461539 and parameters: {'n_estimators': 365, 'learning_rate': 0.340306657956563, 'booster': 'dart', 'reg_lambda': 8.778778598295666e-07, 'alpha': 1.8497927577993418e-06, 'subsample': 0.7051064843626926, 'colsample_bytree': 0.9752985708674423, 'max_depth': 9, 'min_child_weight': 4, 'eta': 7.224680449760732e-05, 'gamma': 0.008789329775955786, 'grow_policy': 'lossguide', 'sample_type': 'weighted', 'normalize_type': 'forest', 'rate_drop': 1.2629133056648579e-05, 'skip_drop': 0.005102356189298076}. Best is trial 62 with value: 0.9550893550893551.\u001b[0m\n",
      "\u001b[32m[I 2021-04-07 14:23:10,784]\u001b[0m Trial 73 finished with value: 0.9513597513597514 and parameters: {'n_estimators': 352, 'learning_rate': 0.14040752320963315, 'booster': 'dart', 'reg_lambda': 1.1223367997677926e-06, 'alpha': 1.8049709441345924e-06, 'subsample': 0.7479216899112344, 'colsample_bytree': 0.9813322570671533, 'max_depth': 9, 'min_child_weight': 4, 'eta': 0.06349572086992968, 'gamma': 0.003666735533946624, 'grow_policy': 'lossguide', 'sample_type': 'weighted', 'normalize_type': 'forest', 'rate_drop': 1.234051264498366e-05, 'skip_drop': 0.07947960675666803}. Best is trial 62 with value: 0.9550893550893551.\u001b[0m\n",
      "\u001b[32m[I 2021-04-07 14:23:11,246]\u001b[0m Trial 74 finished with value: 0.9533799533799534 and parameters: {'n_estimators': 280, 'learning_rate': 0.47365424328152117, 'booster': 'dart', 'reg_lambda': 6.089009005271429e-06, 'alpha': 3.3462934296658554e-06, 'subsample': 0.6925066995936082, 'colsample_bytree': 0.9358574511688195, 'max_depth': 9, 'min_child_weight': 5, 'eta': 0.00018918663210739127, 'gamma': 0.1577145737171711, 'grow_policy': 'lossguide', 'sample_type': 'weighted', 'normalize_type': 'forest', 'rate_drop': 1.2143287738437376e-06, 'skip_drop': 0.0001034455666694941}. Best is trial 62 with value: 0.9550893550893551.\u001b[0m\n",
      "\u001b[32m[I 2021-04-07 14:23:11,477]\u001b[0m Trial 75 finished with value: 0.9508935508935509 and parameters: {'n_estimators': 415, 'learning_rate': 0.31508327574852285, 'booster': 'dart', 'reg_lambda': 7.280817293827407e-07, 'alpha': 2.47637728910367e-06, 'subsample': 0.8145446553605774, 'colsample_bytree': 0.8865251948484778, 'max_depth': 3, 'min_child_weight': 4, 'eta': 0.00012834160592548223, 'gamma': 0.016891018722394024, 'grow_policy': 'lossguide', 'sample_type': 'weighted', 'normalize_type': 'forest', 'rate_drop': 9.694894742526283e-05, 'skip_drop': 0.0047876442536795676}. Best is trial 62 with value: 0.9550893550893551.\u001b[0m\n",
      "\u001b[32m[I 2021-04-07 14:23:12,034]\u001b[0m Trial 76 finished with value: 0.9526029526029526 and parameters: {'n_estimators': 386, 'learning_rate': 0.20674674833237502, 'booster': 'dart', 'reg_lambda': 1.3445249855449664e-07, 'alpha': 4.3608229127763953e-07, 'subsample': 0.9083575705181575, 'colsample_bytree': 0.959970094928275, 'max_depth': 9, 'min_child_weight': 8, 'eta': 0.0006578525038451797, 'gamma': 0.0350041950757539, 'grow_policy': 'lossguide', 'sample_type': 'weighted', 'normalize_type': 'forest', 'rate_drop': 8.098692687068767e-07, 'skip_drop': 0.0192051835357462}. Best is trial 62 with value: 0.9550893550893551.\u001b[0m\n",
      "\u001b[32m[I 2021-04-07 14:23:12,486]\u001b[0m Trial 77 finished with value: 0.9536907536907537 and parameters: {'n_estimators': 229, 'learning_rate': 0.3514593272969077, 'booster': 'dart', 'reg_lambda': 1.677884149232955e-05, 'alpha': 7.1643554460427675e-06, 'subsample': 0.5916143942893416, 'colsample_bytree': 0.9148586427612871, 'max_depth': 9, 'min_child_weight': 4, 'eta': 6.744345910354339e-05, 'gamma': 0.009627961769941597, 'grow_policy': 'lossguide', 'sample_type': 'weighted', 'normalize_type': 'forest', 'rate_drop': 3.9250069557218496e-06, 'skip_drop': 0.0013441807564618978}. Best is trial 62 with value: 0.9550893550893551.\u001b[0m\n",
      "\u001b[32m[I 2021-04-07 14:23:12,985]\u001b[0m Trial 78 finished with value: 0.9544677544677544 and parameters: {'n_estimators': 344, 'learning_rate': 0.2568970502407352, 'booster': 'dart', 'reg_lambda': 3.6807337201349164e-07, 'alpha': 6.211913383806558e-08, 'subsample': 0.7384233128086397, 'colsample_bytree': 0.9788604432066641, 'max_depth': 9, 'min_child_weight': 7, 'eta': 0.0011764426347113533, 'gamma': 0.0679950897128241, 'grow_policy': 'lossguide', 'sample_type': 'weighted', 'normalize_type': 'forest', 'rate_drop': 1.664461772044051e-07, 'skip_drop': 0.0034002453939024685}. Best is trial 62 with value: 0.9550893550893551.\u001b[0m\n",
      "\u001b[32m[I 2021-04-07 14:23:13,466]\u001b[0m Trial 79 finished with value: 0.9502719502719502 and parameters: {'n_estimators': 439, 'learning_rate': 0.1509977488582386, 'booster': 'gbtree', 'reg_lambda': 9.385744431225105e-08, 'alpha': 7.356142110136432e-08, 'subsample': 0.7383921102407697, 'colsample_bytree': 0.9542447844455297, 'max_depth': 9, 'min_child_weight': 7, 'eta': 0.0015668631918830955, 'gamma': 0.3841182048766052, 'grow_policy': 'lossguide'}. Best is trial 62 with value: 0.9550893550893551.\u001b[0m\n",
      "\u001b[32m[I 2021-04-07 14:23:14,022]\u001b[0m Trial 80 finished with value: 0.9527583527583527 and parameters: {'n_estimators': 506, 'learning_rate': 0.2655805723016899, 'booster': 'dart', 'reg_lambda': 4.1682137340888704e-08, 'alpha': 4.420513415020312e-08, 'subsample': 0.8673688997652083, 'colsample_bytree': 0.9941470097587553, 'max_depth': 9, 'min_child_weight': 6, 'eta': 0.0027420152608806083, 'gamma': 0.07228811094991411, 'grow_policy': 'depthwise', 'sample_type': 'weighted', 'normalize_type': 'forest', 'rate_drop': 1.7482430423482217e-07, 'skip_drop': 0.0026804995572319444}. Best is trial 62 with value: 0.9550893550893551.\u001b[0m\n",
      "\u001b[32m[I 2021-04-07 14:23:14,512]\u001b[0m Trial 81 finished with value: 0.9538461538461539 and parameters: {'n_estimators': 294, 'learning_rate': 0.325870084952154, 'booster': 'dart', 'reg_lambda': 1.5024235655753863e-06, 'alpha': 1.044100011752777e-06, 'subsample': 0.6815009826782, 'colsample_bytree': 0.9795704709142605, 'max_depth': 9, 'min_child_weight': 5, 'eta': 2.5400544243361584e-05, 'gamma': 0.12848256631478996, 'grow_policy': 'lossguide', 'sample_type': 'weighted', 'normalize_type': 'forest', 'rate_drop': 4.224132962610186e-08, 'skip_drop': 0.005212984825819879}. Best is trial 62 with value: 0.9550893550893551.\u001b[0m\n",
      "\u001b[32m[I 2021-04-07 14:23:14,995]\u001b[0m Trial 82 finished with value: 0.9535353535353536 and parameters: {'n_estimators': 247, 'learning_rate': 0.3886505908579865, 'booster': 'dart', 'reg_lambda': 3.043552914885954e-07, 'alpha': 1.0605739945964506e-07, 'subsample': 0.7690959379582021, 'colsample_bytree': 0.9339677703042203, 'max_depth': 9, 'min_child_weight': 7, 'eta': 0.00032389233752075353, 'gamma': 0.034354858731770556, 'grow_policy': 'lossguide', 'sample_type': 'weighted', 'normalize_type': 'forest', 'rate_drop': 2.1273000852751694e-06, 'skip_drop': 0.0005160346200302178}. Best is trial 62 with value: 0.9550893550893551.\u001b[0m\n",
      "\u001b[32m[I 2021-04-07 14:23:15,484]\u001b[0m Trial 83 finished with value: 0.9516705516705517 and parameters: {'n_estimators': 352, 'learning_rate': 0.18180693288061056, 'booster': 'dart', 'reg_lambda': 7.727199693324592e-07, 'alpha': 2.316912093373645e-08, 'subsample': 0.6472173401613784, 'colsample_bytree': 0.9977331177080031, 'max_depth': 9, 'min_child_weight': 4, 'eta': 4.126175265384906e-05, 'gamma': 0.00835043967985948, 'grow_policy': 'lossguide', 'sample_type': 'weighted', 'normalize_type': 'forest', 'rate_drop': 3.912895376610398e-07, 'skip_drop': 0.0014624560625353495}. Best is trial 62 with value: 0.9550893550893551.\u001b[0m\n",
      "\u001b[32m[I 2021-04-07 14:23:15,970]\u001b[0m Trial 84 finished with value: 0.9532245532245532 and parameters: {'n_estimators': 342, 'learning_rate': 0.23159051238285064, 'booster': 'dart', 'reg_lambda': 5.031797960542234e-07, 'alpha': 1.4132249131438642e-06, 'subsample': 0.7143607865494539, 'colsample_bytree': 0.8456597177439196, 'max_depth': 9, 'min_child_weight': 7, 'eta': 0.008212572712608352, 'gamma': 0.0030846259458708293, 'grow_policy': 'lossguide', 'sample_type': 'weighted', 'normalize_type': 'forest', 'rate_drop': 1.4106320274915008e-05, 'skip_drop': 0.00820292655148981}. Best is trial 62 with value: 0.9550893550893551.\u001b[0m\n",
      "\u001b[32m[I 2021-04-07 14:23:16,493]\u001b[0m Trial 85 finished with value: 0.9544677544677544 and parameters: {'n_estimators': 298, 'learning_rate': 0.3084332763864863, 'booster': 'dart', 'reg_lambda': 1.4270504488034642e-06, 'alpha': 1.0234055585258188e-06, 'subsample': 0.7972879454590568, 'colsample_bytree': 0.970634763917307, 'max_depth': 9, 'min_child_weight': 5, 'eta': 5.95983000386475e-06, 'gamma': 0.12581609487854067, 'grow_policy': 'lossguide', 'sample_type': 'weighted', 'normalize_type': 'forest', 'rate_drop': 1.6971975469695075e-08, 'skip_drop': 0.004872703291464806}. Best is trial 62 with value: 0.9550893550893551.\u001b[0m\n",
      "\u001b[32m[I 2021-04-07 14:23:16,545]\u001b[0m Trial 86 finished with value: 0.9062937062937063 and parameters: {'n_estimators': 299, 'learning_rate': 0.3024556671019814, 'booster': 'gblinear', 'reg_lambda': 1.5235433716626394e-06, 'alpha': 1.8699639519542693e-07, 'subsample': 0.7975591622012164, 'colsample_bytree': 0.9737588734571738}. Best is trial 62 with value: 0.9550893550893551.\u001b[0m\n",
      "\u001b[32m[I 2021-04-07 14:23:16,875]\u001b[0m Trial 87 finished with value: 0.951048951048951 and parameters: {'n_estimators': 389, 'learning_rate': 0.10328062401999429, 'booster': 'dart', 'reg_lambda': 3.875177330087284e-06, 'alpha': 2.8596016649226783e-07, 'subsample': 0.31601972780737253, 'colsample_bytree': 0.9999921509489932, 'max_depth': 9, 'min_child_weight': 6, 'eta': 7.837679166379684e-06, 'gamma': 0.05772822194674867, 'grow_policy': 'lossguide', 'sample_type': 'weighted', 'normalize_type': 'forest', 'rate_drop': 3.637145289989156e-08, 'skip_drop': 0.0542782488527374}. Best is trial 62 with value: 0.9550893550893551.\u001b[0m\n",
      "\u001b[32m[I 2021-04-07 14:23:17,405]\u001b[0m Trial 88 finished with value: 0.9530691530691531 and parameters: {'n_estimators': 168, 'learning_rate': 0.2412137813606853, 'booster': 'dart', 'reg_lambda': 2.752906366717085e-07, 'alpha': 4.840786148278895e-07, 'subsample': 0.8316984450453386, 'colsample_bytree': 0.907143734006798, 'max_depth': 9, 'min_child_weight': 8, 'eta': 5.105946230621215e-06, 'gamma': 0.030496034557031315, 'grow_policy': 'lossguide', 'sample_type': 'weighted', 'normalize_type': 'tree', 'rate_drop': 1.0333771815557595e-08, 'skip_drop': 0.003290650434342189}. Best is trial 62 with value: 0.9550893550893551.\u001b[0m\n",
      "\u001b[32m[I 2021-04-07 14:23:17,920]\u001b[0m Trial 89 finished with value: 0.9526029526029526 and parameters: {'n_estimators': 425, 'learning_rate': 0.12223657032424401, 'booster': 'dart', 'reg_lambda': 2.1334775426822188e-08, 'alpha': 6.461570710560592e-07, 'subsample': 0.7504541909160656, 'colsample_bytree': 0.9454108097911988, 'max_depth': 9, 'min_child_weight': 6, 'eta': 0.0005947529274802397, 'gamma': 0.10011687635377284, 'grow_policy': 'lossguide', 'sample_type': 'weighted', 'normalize_type': 'forest', 'rate_drop': 2.277242008368672e-07, 'skip_drop': 0.022516918173614606}. Best is trial 62 with value: 0.9550893550893551.\u001b[0m\n",
      "\u001b[32m[I 2021-04-07 14:23:18,403]\u001b[0m Trial 90 finished with value: 0.9536907536907537 and parameters: {'n_estimators': 600, 'learning_rate': 0.3705005497738666, 'booster': 'dart', 'reg_lambda': 4.3005667414659634e-07, 'alpha': 5.6845377671695746e-08, 'subsample': 0.8082300737680989, 'colsample_bytree': 0.799681966654953, 'max_depth': 9, 'min_child_weight': 7, 'eta': 0.023588489376050667, 'gamma': 0.013392479102140666, 'grow_policy': 'lossguide', 'sample_type': 'weighted', 'normalize_type': 'forest', 'rate_drop': 1.120559222580679e-06, 'skip_drop': 0.01125407791575227}. Best is trial 62 with value: 0.9550893550893551.\u001b[0m\n",
      "\u001b[32m[I 2021-04-07 14:23:18,884]\u001b[0m Trial 91 finished with value: 0.9535353535353536 and parameters: {'n_estimators': 534, 'learning_rate': 0.44687488141443377, 'booster': 'dart', 'reg_lambda': 1.1070345917988071e-07, 'alpha': 1.0632163196473833e-06, 'subsample': 0.7828206892771358, 'colsample_bytree': 0.8924366872596221, 'max_depth': 9, 'min_child_weight': 7, 'eta': 0.003845457476854937, 'gamma': 0.05492552816368614, 'grow_policy': 'lossguide', 'sample_type': 'weighted', 'normalize_type': 'forest', 'rate_drop': 1.0415940309384539e-07, 'skip_drop': 1.8137017119615385e-06}. Best is trial 62 with value: 0.9550893550893551.\u001b[0m\n",
      "\u001b[32m[I 2021-04-07 14:23:19,391]\u001b[0m Trial 92 finished with value: 0.9536907536907537 and parameters: {'n_estimators': 460, 'learning_rate': 0.2747128822327643, 'booster': 'dart', 'reg_lambda': 2.5971764485579677e-06, 'alpha': 2.6697998214921655e-06, 'subsample': 0.7517974692614949, 'colsample_bytree': 0.9574078674074709, 'max_depth': 9, 'min_child_weight': 8, 'eta': 0.0010030330649652371, 'gamma': 0.19363884606321352, 'grow_policy': 'lossguide', 'sample_type': 'weighted', 'normalize_type': 'forest', 'rate_drop': 3.0355462933036113e-05, 'skip_drop': 1.0470222134718208e-08}. Best is trial 62 with value: 0.9550893550893551.\u001b[0m\n",
      "\u001b[32m[I 2021-04-07 14:23:19,859]\u001b[0m Trial 93 finished with value: 0.9521367521367521 and parameters: {'n_estimators': 255, 'learning_rate': 0.4976877963079409, 'booster': 'dart', 'reg_lambda': 9.257759139335088e-06, 'alpha': 0.00024381366075537587, 'subsample': 0.7300833762162982, 'colsample_bytree': 0.9172826676273741, 'max_depth': 9, 'min_child_weight': 5, 'eta': 0.00011315606807933233, 'gamma': 0.4196456965971012, 'grow_policy': 'lossguide', 'sample_type': 'weighted', 'normalize_type': 'forest', 'rate_drop': 5.1410159129281005e-06, 'skip_drop': 0.00030398781383051185}. Best is trial 62 with value: 0.9550893550893551.\u001b[0m\n",
      "\u001b[32m[I 2021-04-07 14:23:20,418]\u001b[0m Trial 94 finished with value: 0.9538461538461539 and parameters: {'n_estimators': 196, 'learning_rate': 0.34227038591788056, 'booster': 'dart', 'reg_lambda': 8.651778166111966e-07, 'alpha': 5.3044906811846246e-06, 'subsample': 0.8534579103324278, 'colsample_bytree': 0.9345798473751135, 'max_depth': 9, 'min_child_weight': 5, 'eta': 8.98930688337904e-05, 'gamma': 2.1781069830629966e-08, 'grow_policy': 'lossguide', 'sample_type': 'weighted', 'normalize_type': 'forest', 'rate_drop': 1.755874330775614e-05, 'skip_drop': 0.001575711522017637}. Best is trial 62 with value: 0.9550893550893551.\u001b[0m\n",
      "\u001b[32m[I 2021-04-07 14:23:20,902]\u001b[0m Trial 95 finished with value: 0.9538461538461539 and parameters: {'n_estimators': 332, 'learning_rate': 0.3968044468079587, 'booster': 'dart', 'reg_lambda': 1.9054191037347652e-07, 'alpha': 1.1897325110563234e-07, 'subsample': 0.7672564971645218, 'colsample_bytree': 0.875087636614674, 'max_depth': 9, 'min_child_weight': 7, 'eta': 1.73002590693585e-06, 'gamma': 0.022856924017777704, 'grow_policy': 'lossguide', 'sample_type': 'weighted', 'normalize_type': 'forest', 'rate_drop': 2.6482280066534034e-06, 'skip_drop': 0.0009605544832045921}. Best is trial 62 with value: 0.9550893550893551.\u001b[0m\n",
      "\u001b[32m[I 2021-04-07 14:23:21,431]\u001b[0m Trial 96 finished with value: 0.9513597513597514 and parameters: {'n_estimators': 326, 'learning_rate': 0.2105200721690854, 'booster': 'dart', 'reg_lambda': 1.9356717428089407e-07, 'alpha': 2.846799560025151e-08, 'subsample': 0.7734285548922031, 'colsample_bytree': 0.9755756823740224, 'max_depth': 9, 'min_child_weight': 6, 'eta': 3.2299249087454783e-06, 'gamma': 0.016301993365388942, 'grow_policy': 'lossguide', 'sample_type': 'weighted', 'normalize_type': 'forest', 'rate_drop': 4.855574252407721e-07, 'skip_drop': 0.0059734517252170004}. Best is trial 62 with value: 0.9550893550893551.\u001b[0m\n",
      "\u001b[32m[I 2021-04-07 14:23:21,933]\u001b[0m Trial 97 finished with value: 0.9546231546231546 and parameters: {'n_estimators': 699, 'learning_rate': 0.260519613610834, 'booster': 'dart', 'reg_lambda': 5.045267464694042e-06, 'alpha': 1.5593218309489268e-08, 'subsample': 0.7134116276732111, 'colsample_bytree': 0.9020765241282185, 'max_depth': 9, 'min_child_weight': 3, 'eta': 0.007310436724367331, 'gamma': 0.0063288872678888605, 'grow_policy': 'lossguide', 'sample_type': 'weighted', 'normalize_type': 'forest', 'rate_drop': 1.0264755737174132e-05, 'skip_drop': 5.5968020945272694e-05}. Best is trial 62 with value: 0.9550893550893551.\u001b[0m\n",
      "\u001b[32m[I 2021-04-07 14:23:22,521]\u001b[0m Trial 98 finished with value: 0.9538461538461539 and parameters: {'n_estimators': 565, 'learning_rate': 0.18430026594460044, 'booster': 'dart', 'reg_lambda': 4.975144551455315e-08, 'alpha': 1.4373370192421301e-08, 'subsample': 0.892301060970652, 'colsample_bytree': 0.9434479509891348, 'max_depth': 9, 'min_child_weight': 3, 'eta': 0.0004132874095522845, 'gamma': 0.048805112869374064, 'grow_policy': 'depthwise', 'sample_type': 'weighted', 'normalize_type': 'forest', 'rate_drop': 8.405564181803796e-07, 'skip_drop': 0.0021780757656655555}. Best is trial 62 with value: 0.9550893550893551.\u001b[0m\n",
      "\u001b[32m[I 2021-04-07 14:23:22,916]\u001b[0m Trial 99 finished with value: 0.9522921522921522 and parameters: {'n_estimators': 700, 'learning_rate': 0.2676946391470345, 'booster': 'dart', 'reg_lambda': 4.9544822851620685e-06, 'alpha': 1.7514600368406455e-08, 'subsample': 0.7091123731476789, 'colsample_bytree': 0.9076776845526129, 'max_depth': 7, 'min_child_weight': 2, 'eta': 0.0012777904256277475, 'gamma': 0.08355732748028034, 'grow_policy': 'lossguide', 'sample_type': 'weighted', 'normalize_type': 'forest', 'rate_drop': 7.719271083959188e-06, 'skip_drop': 3.072315207192099e-05}. Best is trial 62 with value: 0.9550893550893551.\u001b[0m\n",
      "\u001b[32m[I 2021-04-07 14:23:23,376]\u001b[0m Trial 100 finished with value: 0.9516705516705517 and parameters: {'n_estimators': 306, 'learning_rate': 0.3198344120435826, 'booster': 'dart', 'reg_lambda': 1.6636919255730103e-06, 'alpha': 2.5378110678548395e-05, 'subsample': 0.6676718709173638, 'colsample_bytree': 0.9780504709011592, 'max_depth': 9, 'min_child_weight': 9, 'eta': 2.633100777467579e-05, 'gamma': 0.14863934389652342, 'grow_policy': 'lossguide', 'sample_type': 'weighted', 'normalize_type': 'forest', 'rate_drop': 3.1985876006861714e-08, 'skip_drop': 7.110379203771276e-05}. Best is trial 62 with value: 0.9550893550893551.\u001b[0m\n",
      "\u001b[32m[I 2021-04-07 14:23:23,899]\u001b[0m Trial 101 finished with value: 0.9522921522921522 and parameters: {'n_estimators': 364, 'learning_rate': 0.36723767958057, 'booster': 'dart', 'reg_lambda': 3.960111080016238e-07, 'alpha': 3.410227882146851e-07, 'subsample': 0.7280956320190173, 'colsample_bytree': 0.9556170078307913, 'max_depth': 9, 'min_child_weight': 3, 'eta': 0.00023368567943619114, 'gamma': 0.0071133428892807766, 'grow_policy': 'lossguide', 'sample_type': 'weighted', 'normalize_type': 'forest', 'rate_drop': 1.6847770515790281e-06, 'skip_drop': 0.004441224602644383}. Best is trial 62 with value: 0.9550893550893551.\u001b[0m\n",
      "\u001b[32m[I 2021-04-07 14:23:24,462]\u001b[0m Trial 102 finished with value: 0.9526029526029526 and parameters: {'n_estimators': 566, 'learning_rate': 0.16413543900179903, 'booster': 'dart', 'reg_lambda': 5.2505801701163636e-08, 'alpha': 2.080803521669564e-08, 'subsample': 0.880999656778264, 'colsample_bytree': 0.8757698772252056, 'max_depth': 9, 'min_child_weight': 3, 'eta': 0.0004588739346343142, 'gamma': 0.0026899120709067523, 'grow_policy': 'depthwise', 'sample_type': 'weighted', 'normalize_type': 'forest', 'rate_drop': 7.04263512178537e-07, 'skip_drop': 1.1969528725856403e-05}. Best is trial 62 with value: 0.9550893550893551.\u001b[0m\n",
      "\u001b[32m[I 2021-04-07 14:23:24,967]\u001b[0m Trial 103 finished with value: 0.9546231546231546 and parameters: {'n_estimators': 218, 'learning_rate': 0.44111987394732693, 'booster': 'dart', 'reg_lambda': 2.838855030904501e-06, 'alpha': 1.750572415716691e-07, 'subsample': 0.8013398525832083, 'colsample_bytree': 0.9232625713383377, 'max_depth': 9, 'min_child_weight': 5, 'eta': 0.00249994453807854, 'gamma': 0.2899164434370434, 'grow_policy': 'lossguide', 'sample_type': 'weighted', 'normalize_type': 'forest', 'rate_drop': 4.593127799228548e-06, 'skip_drop': 0.0006962371612460795}. Best is trial 62 with value: 0.9550893550893551.\u001b[0m\n",
      "\u001b[32m[I 2021-04-07 14:23:25,474]\u001b[0m Trial 104 finished with value: 0.9532245532245532 and parameters: {'n_estimators': 651, 'learning_rate': 0.22031350667391247, 'booster': 'dart', 'reg_lambda': 5.451946110754784e-06, 'alpha': 1.871637075895139e-07, 'subsample': 0.7994804072693985, 'colsample_bytree': 0.8882866523881924, 'max_depth': 9, 'min_child_weight': 8, 'eta': 0.007145802971576735, 'gamma': 0.30721882668042644, 'grow_policy': 'lossguide', 'sample_type': 'weighted', 'normalize_type': 'forest', 'rate_drop': 1.0854863329305748e-05, 'skip_drop': 6.135704060194699e-06}. Best is trial 62 with value: 0.9550893550893551.\u001b[0m\n",
      "\u001b[32m[I 2021-04-07 14:23:26,002]\u001b[0m Trial 105 finished with value: 0.9522921522921522 and parameters: {'n_estimators': 72, 'learning_rate': 0.2959696791102783, 'booster': 'dart', 'reg_lambda': 2.8336965719667136e-06, 'alpha': 5.4694481088298246e-08, 'subsample': 0.8512795961958536, 'colsample_bytree': 0.9313867918028849, 'max_depth': 9, 'min_child_weight': 5, 'eta': 0.0023418906704980955, 'gamma': 0.18835435117453686, 'grow_policy': 'lossguide', 'sample_type': 'weighted', 'normalize_type': 'forest', 'rate_drop': 1.9393400264712297e-05, 'skip_drop': 0.0001753733407926247}. Best is trial 62 with value: 0.9550893550893551.\u001b[0m\n",
      "\u001b[32m[I 2021-04-07 14:23:26,540]\u001b[0m Trial 106 finished with value: 0.954001554001554 and parameters: {'n_estimators': 200, 'learning_rate': 0.24824214977767708, 'booster': 'dart', 'reg_lambda': 4.803673155819617e-05, 'alpha': 8.370510383312464e-08, 'subsample': 0.8520883984364858, 'colsample_bytree': 0.9369135411042773, 'max_depth': 9, 'min_child_weight': 5, 'eta': 0.004288088408471242, 'gamma': 1.2098318215069523e-08, 'grow_policy': 'lossguide', 'sample_type': 'weighted', 'normalize_type': 'forest', 'rate_drop': 4.685868987779894e-05, 'skip_drop': 0.001717160790619879}. Best is trial 62 with value: 0.9550893550893551.\u001b[0m\n",
      "\u001b[32m[I 2021-04-07 14:23:27,046]\u001b[0m Trial 107 finished with value: 0.9527583527583527 and parameters: {'n_estimators': 223, 'learning_rate': 0.2485724045087959, 'booster': 'gbtree', 'reg_lambda': 1.4968502524758515e-05, 'alpha': 3.644144536478365e-08, 'subsample': 0.8248835875305637, 'colsample_bytree': 0.8611158037285582, 'max_depth': 9, 'min_child_weight': 5, 'eta': 0.017197003643462033, 'gamma': 1.7623585145661534e-06, 'grow_policy': 'lossguide'}. Best is trial 62 with value: 0.9550893550893551.\u001b[0m\n",
      "\u001b[32m[I 2021-04-07 14:23:27,103]\u001b[0m Trial 108 finished with value: 0.9209013209013209 and parameters: {'n_estimators': 118, 'learning_rate': 0.4530372338546978, 'booster': 'gblinear', 'reg_lambda': 6.196418082071985e-05, 'alpha': 8.342876737095104e-08, 'subsample': 0.7822498788522482, 'colsample_bytree': 0.9112555720030048}. Best is trial 62 with value: 0.9550893550893551.\u001b[0m\n",
      "\u001b[32m[I 2021-04-07 14:23:27,669]\u001b[0m Trial 109 finished with value: 0.9513597513597514 and parameters: {'n_estimators': 183, 'learning_rate': 0.018376051421593136, 'booster': 'dart', 'reg_lambda': 2.807363961383282e-05, 'alpha': 2.278274623188055e-07, 'subsample': 0.9465654895859328, 'colsample_bytree': 0.8996588466033646, 'max_depth': 9, 'min_child_weight': 5, 'eta': 0.003980080396262555, 'gamma': 7.010897192922524e-08, 'grow_policy': 'lossguide', 'sample_type': 'weighted', 'normalize_type': 'tree', 'rate_drop': 5.6558696749710536e-05, 'skip_drop': 0.000652186582832761}. Best is trial 62 with value: 0.9550893550893551.\u001b[0m\n",
      "\u001b[32m[I 2021-04-07 14:23:28,187]\u001b[0m Trial 110 finished with value: 0.9543123543123543 and parameters: {'n_estimators': 274, 'learning_rate': 0.2905409267092984, 'booster': 'dart', 'reg_lambda': 0.00010497605282893317, 'alpha': 1.2415387308019759e-07, 'subsample': 0.8082243700006445, 'colsample_bytree': 0.8431513793690002, 'max_depth': 9, 'min_child_weight': 4, 'eta': 0.005046354092391176, 'gamma': 0.09871883848874363, 'grow_policy': 'lossguide', 'sample_type': 'weighted', 'normalize_type': 'forest', 'rate_drop': 0.00010583451699386897, 'skip_drop': 0.001956952725618801}. Best is trial 62 with value: 0.9550893550893551.\u001b[0m\n",
      "\u001b[32m[I 2021-04-07 14:23:28,710]\u001b[0m Trial 111 finished with value: 0.9544677544677544 and parameters: {'n_estimators': 272, 'learning_rate': 0.28120778399101076, 'booster': 'dart', 'reg_lambda': 8.203337978489462e-05, 'alpha': 1.3913584958824569e-07, 'subsample': 0.8384645896472376, 'colsample_bytree': 0.8283965304276064, 'max_depth': 9, 'min_child_weight': 4, 'eta': 0.004217177285369279, 'gamma': 0.5822231606155669, 'grow_policy': 'lossguide', 'sample_type': 'weighted', 'normalize_type': 'forest', 'rate_drop': 0.0001920601576041577, 'skip_drop': 0.001989203282917575}. Best is trial 62 with value: 0.9550893550893551.\u001b[0m\n",
      "\u001b[32m[I 2021-04-07 14:23:29,202]\u001b[0m Trial 112 finished with value: 0.9535353535353536 and parameters: {'n_estimators': 269, 'learning_rate': 0.29606889193742697, 'booster': 'dart', 'reg_lambda': 0.0017850433115815846, 'alpha': 1.268972512483701e-07, 'subsample': 0.8121678211440574, 'colsample_bytree': 0.7793230370699855, 'max_depth': 9, 'min_child_weight': 4, 'eta': 0.02726212184970408, 'gamma': 0.529608606549336, 'grow_policy': 'lossguide', 'sample_type': 'weighted', 'normalize_type': 'forest', 'rate_drop': 0.0012156441373479996, 'skip_drop': 0.0008507822835566038}. Best is trial 62 with value: 0.9550893550893551.\u001b[0m\n",
      "\u001b[32m[I 2021-04-07 14:23:29,681]\u001b[0m Trial 113 finished with value: 0.9535353535353536 and parameters: {'n_estimators': 264, 'learning_rate': 0.2879624407451838, 'booster': 'dart', 'reg_lambda': 0.00025116090618056234, 'alpha': 6.144583121946628e-07, 'subsample': 0.7421923522011984, 'colsample_bytree': 0.7510720175432006, 'max_depth': 9, 'min_child_weight': 4, 'eta': 0.002074601122478195, 'gamma': 0.3033351454993495, 'grow_policy': 'lossguide', 'sample_type': 'weighted', 'normalize_type': 'forest', 'rate_drop': 0.0002889065726217762, 'skip_drop': 0.00034700620149716007}. Best is trial 62 with value: 0.9550893550893551.\u001b[0m\n",
      "\u001b[32m[I 2021-04-07 14:23:30,186]\u001b[0m Trial 114 finished with value: 0.9535353535353536 and parameters: {'n_estimators': 290, 'learning_rate': 0.37158416797630833, 'booster': 'dart', 'reg_lambda': 0.00013269244620926573, 'alpha': 2.882178642763472e-08, 'subsample': 0.7990124293762866, 'colsample_bytree': 0.8204282475991966, 'max_depth': 9, 'min_child_weight': 3, 'eta': 0.0009816374107447894, 'gamma': 0.08301705513836424, 'grow_policy': 'lossguide', 'sample_type': 'weighted', 'normalize_type': 'forest', 'rate_drop': 0.00017587386847366156, 'skip_drop': 0.0037055373869202997}. Best is trial 62 with value: 0.9550893550893551.\u001b[0m\n",
      "\u001b[32m[I 2021-04-07 14:23:30,684]\u001b[0m Trial 115 finished with value: 0.9544677544677544 and parameters: {'n_estimators': 775, 'learning_rate': 0.3330888719151131, 'booster': 'dart', 'reg_lambda': 7.648428178974378e-06, 'alpha': 5.147872187151943e-08, 'subsample': 0.7599851472955416, 'colsample_bytree': 0.7961255627909806, 'max_depth': 9, 'min_child_weight': 4, 'eta': 0.057854855750021, 'gamma': 0.11168802370693044, 'grow_policy': 'lossguide', 'sample_type': 'weighted', 'normalize_type': 'forest', 'rate_drop': 0.00010403491297632719, 'skip_drop': 0.015553131004880259}. Best is trial 62 with value: 0.9550893550893551.\u001b[0m\n",
      "\u001b[32m[I 2021-04-07 14:23:31,165]\u001b[0m Trial 116 finished with value: 0.9518259518259519 and parameters: {'n_estimators': 200, 'learning_rate': 0.24777085768854987, 'booster': 'dart', 'reg_lambda': 0.00045912209868798537, 'alpha': 1.017683313724264e-08, 'subsample': 0.8423143785838956, 'colsample_bytree': 0.7106945237909238, 'max_depth': 9, 'min_child_weight': 4, 'eta': 0.11860620741155492, 'gamma': 0.22378396356017008, 'grow_policy': 'lossguide', 'sample_type': 'weighted', 'normalize_type': 'forest', 'rate_drop': 9.951607684436923e-05, 'skip_drop': 0.015714674013123785}. Best is trial 62 with value: 0.9550893550893551.\u001b[0m\n",
      "\u001b[32m[I 2021-04-07 14:23:31,676]\u001b[0m Trial 117 finished with value: 0.9543123543123543 and parameters: {'n_estimators': 759, 'learning_rate': 0.32748746192344225, 'booster': 'dart', 'reg_lambda': 9.23853970877198e-05, 'alpha': 5.179031209308196e-08, 'subsample': 0.8276990184872938, 'colsample_bytree': 0.8431416343151115, 'max_depth': 9, 'min_child_weight': 4, 'eta': 0.05150399901435908, 'gamma': 0.0011298376489106902, 'grow_policy': 'lossguide', 'sample_type': 'weighted', 'normalize_type': 'forest', 'rate_drop': 0.0007905988615960743, 'skip_drop': 0.037951822674280704}. Best is trial 62 with value: 0.9550893550893551.\u001b[0m\n",
      "\u001b[32m[I 2021-04-07 14:23:32,176]\u001b[0m Trial 118 finished with value: 0.9543123543123543 and parameters: {'n_estimators': 799, 'learning_rate': 0.3450636865604644, 'booster': 'dart', 'reg_lambda': 7.899161335188294e-05, 'alpha': 6.003547877332922e-08, 'subsample': 0.8235265410151063, 'colsample_bytree': 0.8043761892612964, 'max_depth': 9, 'min_child_weight': 4, 'eta': 0.06554662052766358, 'gamma': 0.0009524628223472632, 'grow_policy': 'lossguide', 'sample_type': 'weighted', 'normalize_type': 'forest', 'rate_drop': 0.0002577380070152479, 'skip_drop': 0.0347018359011458}. Best is trial 62 with value: 0.9550893550893551.\u001b[0m\n",
      "\u001b[32m[I 2021-04-07 14:23:32,667]\u001b[0m Trial 119 finished with value: 0.9549339549339549 and parameters: {'n_estimators': 774, 'learning_rate': 0.31266276237951157, 'booster': 'dart', 'reg_lambda': 7.751423031838514e-05, 'alpha': 5.4379541594120434e-08, 'subsample': 0.8285152297698957, 'colsample_bytree': 0.7895574818218299, 'max_depth': 9, 'min_child_weight': 4, 'eta': 0.16607225467933076, 'gamma': 0.001266283879711628, 'grow_policy': 'lossguide', 'sample_type': 'weighted', 'normalize_type': 'forest', 'rate_drop': 0.0007377407490145991, 'skip_drop': 0.1323084672287064}. Best is trial 62 with value: 0.9550893550893551.\u001b[0m\n",
      "\u001b[32m[I 2021-04-07 14:23:33,171]\u001b[0m Trial 120 finished with value: 0.9529137529137529 and parameters: {'n_estimators': 785, 'learning_rate': 0.2762970074418348, 'booster': 'dart', 'reg_lambda': 4.8579396099764123e-05, 'alpha': 1.0409968448861559e-07, 'subsample': 0.7639422659872338, 'colsample_bytree': 0.803641210885246, 'max_depth': 9, 'min_child_weight': 4, 'eta': 0.15460053064447654, 'gamma': 0.00015234743564424157, 'grow_policy': 'lossguide', 'sample_type': 'weighted', 'normalize_type': 'forest', 'rate_drop': 0.0002991698641800934, 'skip_drop': 0.050725998547511204}. Best is trial 62 with value: 0.9550893550893551.\u001b[0m\n",
      "\u001b[32m[I 2021-04-07 14:23:33,701]\u001b[0m Trial 121 finished with value: 0.9524475524475524 and parameters: {'n_estimators': 830, 'learning_rate': 0.319979972794593, 'booster': 'dart', 'reg_lambda': 0.0008869265285598325, 'alpha': 5.1837291739794447e-08, 'subsample': 0.8264345990612642, 'colsample_bytree': 0.7748216726720352, 'max_depth': 9, 'min_child_weight': 4, 'eta': 0.06127887240562798, 'gamma': 0.0020000770991573887, 'grow_policy': 'lossguide', 'sample_type': 'weighted', 'normalize_type': 'forest', 'rate_drop': 0.0007508905385189853, 'skip_drop': 0.18143973210726583}. Best is trial 62 with value: 0.9550893550893551.\u001b[0m\n",
      "\u001b[32m[I 2021-04-07 14:23:34,209]\u001b[0m Trial 122 finished with value: 0.9530691530691531 and parameters: {'n_estimators': 780, 'learning_rate': 0.37105081589300426, 'booster': 'dart', 'reg_lambda': 8.176394534061687e-05, 'alpha': 6.393878965531606e-08, 'subsample': 0.8298441218950019, 'colsample_bytree': 0.8322658688453562, 'max_depth': 9, 'min_child_weight': 4, 'eta': 0.19875154151827687, 'gamma': 0.0013271663577110624, 'grow_policy': 'lossguide', 'sample_type': 'weighted', 'normalize_type': 'forest', 'rate_drop': 0.0006890802300831821, 'skip_drop': 0.15524399344415743}. Best is trial 62 with value: 0.9550893550893551.\u001b[0m\n",
      "\u001b[32m[I 2021-04-07 14:23:34,692]\u001b[0m Trial 123 finished with value: 0.9513597513597514 and parameters: {'n_estimators': 750, 'learning_rate': 0.4272087098626205, 'booster': 'dart', 'reg_lambda': 0.0001137766452403841, 'alpha': 3.338257939699917e-08, 'subsample': 0.8073672342514283, 'colsample_bytree': 0.7847878458981192, 'max_depth': 9, 'min_child_weight': 3, 'eta': 0.3589499686169563, 'gamma': 0.0008856810847120241, 'grow_policy': 'lossguide', 'sample_type': 'weighted', 'normalize_type': 'forest', 'rate_drop': 8.343373579932736e-05, 'skip_drop': 0.023811255241308258}. Best is trial 62 with value: 0.9550893550893551.\u001b[0m\n",
      "\u001b[32m[I 2021-04-07 14:23:35,215]\u001b[0m Trial 124 finished with value: 0.9541569541569541 and parameters: {'n_estimators': 733, 'learning_rate': 0.34200244584424805, 'booster': 'dart', 'reg_lambda': 0.00016946228096122848, 'alpha': 1.6577481602197175e-08, 'subsample': 0.8794562611807604, 'colsample_bytree': 0.8499356763258152, 'max_depth': 9, 'min_child_weight': 4, 'eta': 0.040259713730784144, 'gamma': 0.0012455193745566115, 'grow_policy': 'lossguide', 'sample_type': 'weighted', 'normalize_type': 'forest', 'rate_drop': 0.00023215977920433738, 'skip_drop': 0.11389111745881804}. Best is trial 62 with value: 0.9550893550893551.\u001b[0m\n",
      "\u001b[32m[I 2021-04-07 14:23:35,736]\u001b[0m Trial 125 finished with value: 0.9533799533799534 and parameters: {'n_estimators': 812, 'learning_rate': 0.3059397300065577, 'booster': 'dart', 'reg_lambda': 3.971143129800093e-05, 'alpha': 1.908166974958437e-07, 'subsample': 0.9080279947592023, 'colsample_bytree': 0.7384614512041392, 'max_depth': 9, 'min_child_weight': 4, 'eta': 0.5474320630228514, 'gamma': 0.00458381797179845, 'grow_policy': 'lossguide', 'sample_type': 'weighted', 'normalize_type': 'forest', 'rate_drop': 0.0009987535353171229, 'skip_drop': 0.037849239116020485}. Best is trial 62 with value: 0.9550893550893551.\u001b[0m\n",
      "\u001b[32m[I 2021-04-07 14:23:36,250]\u001b[0m Trial 126 finished with value: 0.9535353535353536 and parameters: {'n_estimators': 850, 'learning_rate': 0.2262792094134599, 'booster': 'dart', 'reg_lambda': 2.339937974520935e-05, 'alpha': 3.2033184281676663e-07, 'subsample': 0.8128522566659274, 'colsample_bytree': 0.8134444189654835, 'max_depth': 9, 'min_child_weight': 4, 'eta': 0.05359959068748804, 'gamma': 0.0007638041207096691, 'grow_policy': 'lossguide', 'sample_type': 'weighted', 'normalize_type': 'forest', 'rate_drop': 0.0003900098991858293, 'skip_drop': 0.07148280882521148}. Best is trial 62 with value: 0.9550893550893551.\u001b[0m\n",
      "\u001b[32m[I 2021-04-07 14:23:36,746]\u001b[0m Trial 127 finished with value: 0.9538461538461539 and parameters: {'n_estimators': 888, 'learning_rate': 0.2625665063353408, 'booster': 'dart', 'reg_lambda': 8.953858465053588e-05, 'alpha': 6.490089574211571e-08, 'subsample': 0.7555821146333331, 'colsample_bytree': 0.7652324521443788, 'max_depth': 9, 'min_child_weight': 4, 'eta': 0.021014549622544402, 'gamma': 0.0002310509858295696, 'grow_policy': 'lossguide', 'sample_type': 'weighted', 'normalize_type': 'forest', 'rate_drop': 0.00014231340889393898, 'skip_drop': 0.010795421673326004}. Best is trial 62 with value: 0.9550893550893551.\u001b[0m\n",
      "\u001b[32m[I 2021-04-07 14:23:37,236]\u001b[0m Trial 128 finished with value: 0.951981351981352 and parameters: {'n_estimators': 692, 'learning_rate': 0.3912183965284402, 'booster': 'dart', 'reg_lambda': 0.000276770989202693, 'alpha': 1.462753436217712e-07, 'subsample': 0.7851561682532409, 'colsample_bytree': 0.8363467686338, 'max_depth': 9, 'min_child_weight': 3, 'eta': 0.11074343258498628, 'gamma': 0.00032162415525040195, 'grow_policy': 'lossguide', 'sample_type': 'weighted', 'normalize_type': 'forest', 'rate_drop': 0.002552875842411265, 'skip_drop': 0.034087057736858925}. Best is trial 62 with value: 0.9550893550893551.\u001b[0m\n",
      "\u001b[32m[I 2021-04-07 14:23:37,727]\u001b[0m Trial 129 finished with value: 0.9541569541569541 and parameters: {'n_estimators': 712, 'learning_rate': 0.19116321377070686, 'booster': 'dart', 'reg_lambda': 0.00037133114853675904, 'alpha': 4.6066826124936164e-08, 'subsample': 0.86071338823884, 'colsample_bytree': 0.8085321341770282, 'max_depth': 9, 'min_child_weight': 3, 'eta': 0.010951873162333788, 'gamma': 0.0006947742612535423, 'grow_policy': 'lossguide', 'sample_type': 'weighted', 'normalize_type': 'forest', 'rate_drop': 0.0013363555577629276, 'skip_drop': 0.008464628415147614}. Best is trial 62 with value: 0.9550893550893551.\u001b[0m\n",
      "\u001b[32m[I 2021-04-07 14:23:38,215]\u001b[0m Trial 130 finished with value: 0.9532245532245532 and parameters: {'n_estimators': 929, 'learning_rate': 0.3402574589662024, 'booster': 'dart', 'reg_lambda': 1.10232466089039e-05, 'alpha': 2.2840677225028952e-08, 'subsample': 0.8310285157467838, 'colsample_bytree': 0.7900709275113115, 'max_depth': 9, 'min_child_weight': 4, 'eta': 0.04516769962120395, 'gamma': 0.11630914848640724, 'grow_policy': 'lossguide', 'sample_type': 'uniform', 'normalize_type': 'forest', 'rate_drop': 0.0004568473744252709, 'skip_drop': 2.910191909159499e-07}. Best is trial 62 with value: 0.9550893550893551.\u001b[0m\n",
      "\u001b[32m[I 2021-04-07 14:23:38,680]\u001b[0m Trial 131 finished with value: 0.9521367521367521 and parameters: {'n_estimators': 773, 'learning_rate': 0.30344559840397084, 'booster': 'dart', 'reg_lambda': 7.288735794214042e-06, 'alpha': 1.024676856829922e-07, 'subsample': 0.7206416179478415, 'colsample_bytree': 0.8630688558941159, 'max_depth': 9, 'min_child_weight': 5, 'eta': 0.0074885644195945116, 'gamma': 0.041416013993710345, 'grow_policy': 'lossguide', 'sample_type': 'weighted', 'normalize_type': 'forest', 'rate_drop': 0.00017120197963147753, 'skip_drop': 0.017591259138003537}. Best is trial 62 with value: 0.9550893550893551.\u001b[0m\n",
      "\u001b[32m[I 2021-04-07 14:23:39,200]\u001b[0m Trial 132 finished with value: 0.9557109557109557 and parameters: {'n_estimators': 732, 'learning_rate': 0.3457514150889657, 'booster': 'dart', 'reg_lambda': 0.00016865179895899724, 'alpha': 1.4947467817690516e-08, 'subsample': 0.8791903578935802, 'colsample_bytree': 0.8471976363664844, 'max_depth': 9, 'min_child_weight': 4, 'eta': 0.0810820166423831, 'gamma': 0.0015705840691329189, 'grow_policy': 'lossguide', 'sample_type': 'weighted', 'normalize_type': 'forest', 'rate_drop': 0.00024307271471011983, 'skip_drop': 0.3888112443945095}. Best is trial 132 with value: 0.9557109557109557.\u001b[0m\n",
      "\u001b[32m[I 2021-04-07 14:23:39,663]\u001b[0m Trial 133 finished with value: 0.9512043512043512 and parameters: {'n_estimators': 792, 'learning_rate': 0.49673662011656255, 'booster': 'dart', 'reg_lambda': 0.0009253527956017332, 'alpha': 1.040963068398796e-08, 'subsample': 0.7907085768498789, 'colsample_bytree': 0.8447537881880484, 'max_depth': 9, 'min_child_weight': 4, 'eta': 0.22399623949446582, 'gamma': 0.0022743951313406647, 'grow_policy': 'lossguide', 'sample_type': 'weighted', 'normalize_type': 'forest', 'rate_drop': 3.139890650646635e-05, 'skip_drop': 0.247155641275634}. Best is trial 132 with value: 0.9557109557109557.\u001b[0m\n",
      "\u001b[32m[I 2021-04-07 14:23:40,171]\u001b[0m Trial 134 finished with value: 0.9521367521367521 and parameters: {'n_estimators': 751, 'learning_rate': 0.44942186804375217, 'booster': 'dart', 'reg_lambda': 0.00019409251229370213, 'alpha': 1.4138245507231631e-08, 'subsample': 0.838943814509388, 'colsample_bytree': 0.8270504624742756, 'max_depth': 9, 'min_child_weight': 4, 'eta': 0.08050699933813585, 'gamma': 0.0012751823988246724, 'grow_policy': 'lossguide', 'sample_type': 'weighted', 'normalize_type': 'forest', 'rate_drop': 7.338071588563357e-05, 'skip_drop': 0.9768480054810356}. Best is trial 132 with value: 0.9557109557109557.\u001b[0m\n",
      "\u001b[32m[I 2021-04-07 14:23:40,749]\u001b[0m Trial 135 finished with value: 0.9543123543123543 and parameters: {'n_estimators': 732, 'learning_rate': 0.26654267192687864, 'booster': 'dart', 'reg_lambda': 9.590329529335613e-05, 'alpha': 2.4945869482076214e-08, 'subsample': 0.9246880417739379, 'colsample_bytree': 0.7963936544338291, 'max_depth': 9, 'min_child_weight': 4, 'eta': 0.030123697494322317, 'gamma': 0.0005589976556933825, 'grow_policy': 'lossguide', 'sample_type': 'weighted', 'normalize_type': 'forest', 'rate_drop': 0.00013387386652918332, 'skip_drop': 0.002389789450656212}. Best is trial 132 with value: 0.9557109557109557.\u001b[0m\n",
      "\u001b[32m[I 2021-04-07 14:23:41,305]\u001b[0m Trial 136 finished with value: 0.9521367521367521 and parameters: {'n_estimators': 835, 'learning_rate': 0.00857640193821555, 'booster': 'dart', 'reg_lambda': 1.2647091238822345e-06, 'alpha': 3.243770043521978e-08, 'subsample': 0.8697799878869854, 'colsample_bytree': 0.7630897242244317, 'max_depth': 9, 'min_child_weight': 4, 'eta': 0.012640447327015329, 'gamma': 0.004484209141021646, 'grow_policy': 'lossguide', 'sample_type': 'weighted', 'normalize_type': 'forest', 'rate_drop': 0.0004614924082261978, 'skip_drop': 0.6767923929691942}. Best is trial 132 with value: 0.9557109557109557.\u001b[0m\n",
      "\u001b[32m[I 2021-04-07 14:23:41,799]\u001b[0m Trial 137 finished with value: 0.9541569541569541 and parameters: {'n_estimators': 676, 'learning_rate': 0.269729495857373, 'booster': 'dart', 'reg_lambda': 3.893241516042607e-05, 'alpha': 2.1199069942972517e-08, 'subsample': 0.9030842878546649, 'colsample_bytree': 0.726738749302681, 'max_depth': 9, 'min_child_weight': 4, 'eta': 0.030733793399610892, 'gamma': 0.0004008130161805383, 'grow_policy': 'lossguide', 'sample_type': 'weighted', 'normalize_type': 'forest', 'rate_drop': 0.00021518585286875322, 'skip_drop': 0.0020460237518329003}. Best is trial 132 with value: 0.9557109557109557.\u001b[0m\n",
      "\u001b[32m[I 2021-04-07 14:23:42,331]\u001b[0m Trial 138 finished with value: 0.9532245532245532 and parameters: {'n_estimators': 761, 'learning_rate': 0.2827698367356496, 'booster': 'dart', 'reg_lambda': 7.057988337511079e-05, 'alpha': 7.574700522476596e-08, 'subsample': 0.9268695469936922, 'colsample_bytree': 0.8002664552159858, 'max_depth': 9, 'min_child_weight': 2, 'eta': 0.00490160570818461, 'gamma': 0.00010072074631936362, 'grow_policy': 'lossguide', 'sample_type': 'weighted', 'normalize_type': 'forest', 'rate_drop': 0.00012662357867814208, 'skip_drop': 0.5120651502829374}. Best is trial 132 with value: 0.9557109557109557.\u001b[0m\n",
      "\u001b[32m[I 2021-04-07 14:23:42,893]\u001b[0m Trial 139 finished with value: 0.9543123543123543 and parameters: {'n_estimators': 731, 'learning_rate': 0.23783054736490944, 'booster': 'gbtree', 'reg_lambda': 0.00013243688956963574, 'alpha': 4.2280711803931984e-08, 'subsample': 0.9645930909306414, 'colsample_bytree': 0.8459004874015099, 'max_depth': 9, 'min_child_weight': 3, 'eta': 0.01927512591250855, 'gamma': 0.0274860344537645, 'grow_policy': 'lossguide'}. Best is trial 132 with value: 0.9557109557109557.\u001b[0m\n",
      "\u001b[32m[I 2021-04-07 14:23:43,416]\u001b[0m Trial 140 finished with value: 0.9541569541569541 and parameters: {'n_estimators': 804, 'learning_rate': 0.3654387260241031, 'booster': 'gbtree', 'reg_lambda': 0.000179137751966414, 'alpha': 0.006476272039583287, 'subsample': 0.9678665252436075, 'colsample_bytree': 0.870305301112242, 'max_depth': 9, 'min_child_weight': 3, 'eta': 0.0029191058702812732, 'gamma': 0.029675508115191797, 'grow_policy': 'lossguide'}. Best is trial 132 with value: 0.9557109557109557.\u001b[0m\n",
      "\u001b[32m[I 2021-04-07 14:23:43,863]\u001b[0m Trial 141 finished with value: 0.9536907536907537 and parameters: {'n_estimators': 733, 'learning_rate': 0.2153578962516648, 'booster': 'gbtree', 'reg_lambda': 0.0006141445564659026, 'alpha': 3.880882279033797e-08, 'subsample': 0.9455000616499672, 'colsample_bytree': 0.6657136338140835, 'max_depth': 9, 'min_child_weight': 3, 'eta': 0.016726109748621598, 'gamma': 0.0005626033568580718, 'grow_policy': 'lossguide'}. Best is trial 132 with value: 0.9557109557109557.\u001b[0m\n",
      "\u001b[32m[I 2021-04-07 14:23:44,352]\u001b[0m Trial 142 finished with value: 0.954001554001554 and parameters: {'n_estimators': 767, 'learning_rate': 0.3272076206561039, 'booster': 'dart', 'reg_lambda': 8.078252827781095e-05, 'alpha': 1.351194480290391e-08, 'subsample': 0.773337724652124, 'colsample_bytree': 0.8299481960770384, 'max_depth': 9, 'min_child_weight': 4, 'eta': 0.07826379499512533, 'gamma': 0.001741404066539948, 'grow_policy': 'lossguide', 'sample_type': 'weighted', 'normalize_type': 'forest', 'rate_drop': 0.000315514701200501, 'skip_drop': 4.0843924363976636e-08}. Best is trial 132 with value: 0.9557109557109557.\u001b[0m\n",
      "\u001b[32m[I 2021-04-07 14:23:44,883]\u001b[0m Trial 143 finished with value: 0.9536907536907537 and parameters: {'n_estimators': 723, 'learning_rate': 0.23534722775429923, 'booster': 'gbtree', 'reg_lambda': 9.92713580866289e-05, 'alpha': 4.878330634686247e-08, 'subsample': 0.9260109086917032, 'colsample_bytree': 0.8424936933242075, 'max_depth': 9, 'min_child_weight': 3, 'eta': 0.12970797935462916, 'gamma': 0.5875256743272826, 'grow_policy': 'lossguide'}. Best is trial 132 with value: 0.9557109557109557.\u001b[0m\n",
      "\u001b[32m[I 2021-04-07 14:23:45,424]\u001b[0m Trial 144 finished with value: 0.956021756021756 and parameters: {'n_estimators': 690, 'learning_rate': 0.3917114986734955, 'booster': 'gbtree', 'reg_lambda': 1.9040011449212134e-05, 'alpha': 2.594111166350005e-08, 'subsample': 0.997522324526165, 'colsample_bytree': 0.817500760413142, 'max_depth': 9, 'min_child_weight': 2, 'eta': 0.037409157001123794, 'gamma': 0.013127896580127005, 'grow_policy': 'lossguide'}. Best is trial 144 with value: 0.956021756021756.\u001b[0m\n",
      "\u001b[32m[I 2021-04-07 14:23:45,899]\u001b[0m Trial 145 finished with value: 0.954001554001554 and parameters: {'n_estimators': 699, 'learning_rate': 0.4343557327249282, 'booster': 'gbtree', 'reg_lambda': 2.2090925649965833e-05, 'alpha': 1.463102114608565e-07, 'subsample': 0.7432969325873592, 'colsample_bytree': 0.8816720131705624, 'max_depth': 9, 'min_child_weight': 2, 'eta': 0.04742861051970231, 'gamma': 0.011178792672993912, 'grow_policy': 'lossguide'}. Best is trial 144 with value: 0.956021756021756.\u001b[0m\n",
      "\u001b[32m[I 2021-04-07 14:23:45,968]\u001b[0m Trial 146 finished with value: 0.9165501165501165 and parameters: {'n_estimators': 666, 'learning_rate': 0.39762902088541713, 'booster': 'gblinear', 'reg_lambda': 3.5276696359097805e-06, 'alpha': 2.7731321818001662e-08, 'subsample': 0.995091850855754, 'colsample_bytree': 0.7959250277155887}. Best is trial 144 with value: 0.956021756021756.\u001b[0m\n",
      "\u001b[32m[I 2021-04-07 14:23:46,500]\u001b[0m Trial 147 finished with value: 0.9529137529137529 and parameters: {'n_estimators': 314, 'learning_rate': 0.2988704558865127, 'booster': 'dart', 'reg_lambda': 1.7961064839649583e-05, 'alpha': 1.748181754857426e-08, 'subsample': 0.7599374019703317, 'colsample_bytree': 0.8191922749868321, 'max_depth': 9, 'min_child_weight': 5, 'eta': 0.005985437779479534, 'gamma': 0.01455149530002642, 'grow_policy': 'lossguide', 'sample_type': 'weighted', 'normalize_type': 'forest', 'rate_drop': 0.0001261631204910195, 'skip_drop': 0.002956386628682376}. Best is trial 144 with value: 0.956021756021756.\u001b[0m\n",
      "\u001b[32m[I 2021-04-07 14:23:47,060]\u001b[0m Trial 148 finished with value: 0.9529137529137529 and parameters: {'n_estimators': 643, 'learning_rate': 0.26734843270152236, 'booster': 'dart', 'reg_lambda': 8.215753907395915e-06, 'alpha': 2.7367551992819e-07, 'subsample': 0.8937511041900361, 'colsample_bytree': 0.8579494839000512, 'max_depth': 9, 'min_child_weight': 4, 'eta': 0.009850800886405048, 'gamma': 0.07214116748301773, 'grow_policy': 'lossguide', 'sample_type': 'weighted', 'normalize_type': 'tree', 'rate_drop': 0.006782342276187177, 'skip_drop': 0.33542416175113765}. Best is trial 144 with value: 0.956021756021756.\u001b[0m\n",
      "\u001b[32m[I 2021-04-07 14:23:47,566]\u001b[0m Trial 149 finished with value: 0.9535353535353536 and parameters: {'n_estimators': 227, 'learning_rate': 0.3431949566095544, 'booster': 'dart', 'reg_lambda': 2.4904758243667666e-06, 'alpha': 9.326394647644413e-08, 'subsample': 0.7998919037029766, 'colsample_bytree': 0.776241861615406, 'max_depth': 9, 'min_child_weight': 5, 'eta': 0.001593791951717552, 'gamma': 0.04504666182536474, 'grow_policy': 'lossguide', 'sample_type': 'weighted', 'normalize_type': 'forest', 'rate_drop': 0.0005901982400672845, 'skip_drop': 0.12623011595380934}. Best is trial 144 with value: 0.956021756021756.\u001b[0m\n",
      "\u001b[32m[I 2021-04-07 14:23:48,061]\u001b[0m Trial 150 finished with value: 0.9527583527583527 and parameters: {'n_estimators': 804, 'learning_rate': 0.39738396066421894, 'booster': 'dart', 'reg_lambda': 5.252188508274933e-05, 'alpha': 6.311058368434828e-08, 'subsample': 0.7774917094213886, 'colsample_bytree': 0.8118938198876526, 'max_depth': 9, 'min_child_weight': 4, 'eta': 0.3391602708126446, 'gamma': 0.003001924172932718, 'grow_policy': 'lossguide', 'sample_type': 'weighted', 'normalize_type': 'forest', 'rate_drop': 0.044581900280629055, 'skip_drop': 0.0067038914984601135}. Best is trial 144 with value: 0.956021756021756.\u001b[0m\n",
      "\u001b[32m[I 2021-04-07 14:23:48,596]\u001b[0m Trial 151 finished with value: 0.9538461538461539 and parameters: {'n_estimators': 684, 'learning_rate': 0.32093339764752365, 'booster': 'dart', 'reg_lambda': 6.210330661085905e-07, 'alpha': 2.917198279332661e-08, 'subsample': 0.8178124620535518, 'colsample_bytree': 0.7853429041961363, 'max_depth': 9, 'min_child_weight': 4, 'eta': 0.08403050625394078, 'gamma': 0.0005694789228364069, 'grow_policy': 'lossguide', 'sample_type': 'weighted', 'normalize_type': 'forest', 'rate_drop': 1.1033874410253236e-08, 'skip_drop': 0.001234840738825604}. Best is trial 144 with value: 0.956021756021756.\u001b[0m\n",
      "\u001b[32m[I 2021-04-07 14:23:49,149]\u001b[0m Trial 152 finished with value: 0.9532245532245532 and parameters: {'n_estimators': 724, 'learning_rate': 0.36056748476320744, 'booster': 'gbtree', 'reg_lambda': 0.0003341211372324348, 'alpha': 1.0098878788562456e-08, 'subsample': 0.9792622697692471, 'colsample_bytree': 0.7465718636903939, 'max_depth': 9, 'min_child_weight': 2, 'eta': 0.022536210389185393, 'gamma': 0.020940615919220276, 'grow_policy': 'lossguide'}. Best is trial 144 with value: 0.956021756021756.\u001b[0m\n",
      "\u001b[32m[I 2021-04-07 14:23:49,741]\u001b[0m Trial 153 finished with value: 0.9535353535353536 and parameters: {'n_estimators': 707, 'learning_rate': 0.2518508695864588, 'booster': 'gbtree', 'reg_lambda': 0.00015540442498136568, 'alpha': 3.746363044236379e-08, 'subsample': 0.9901513094768316, 'colsample_bytree': 0.820557442391367, 'max_depth': 9, 'min_child_weight': 3, 'eta': 0.02921803012833334, 'gamma': 0.007226406327035125, 'grow_policy': 'lossguide'}. Best is trial 144 with value: 0.956021756021756.\u001b[0m\n",
      "\u001b[32m[I 2021-04-07 14:23:50,287]\u001b[0m Trial 154 finished with value: 0.9530691530691531 and parameters: {'n_estimators': 747, 'learning_rate': 0.3088264099692323, 'booster': 'dart', 'reg_lambda': 7.087488396890698e-05, 'alpha': 7.70977594281262e-08, 'subsample': 0.8506243544608947, 'colsample_bytree': 0.8333698509504555, 'max_depth': 9, 'min_child_weight': 4, 'eta': 0.03494394047293657, 'gamma': 0.0011199497294592739, 'grow_policy': 'lossguide', 'sample_type': 'weighted', 'normalize_type': 'forest', 'rate_drop': 0.001812384389274461, 'skip_drop': 0.01437669725231307}. Best is trial 144 with value: 0.956021756021756.\u001b[0m\n",
      "\u001b[32m[I 2021-04-07 14:23:50,873]\u001b[0m Trial 155 finished with value: 0.9543123543123543 and parameters: {'n_estimators': 736, 'learning_rate': 0.28831510940404353, 'booster': 'gbtree', 'reg_lambda': 0.00012937154206257699, 'alpha': 2.0553916945898106e-08, 'subsample': 0.945049911364214, 'colsample_bytree': 0.8514444336530801, 'max_depth': 9, 'min_child_weight': 2, 'eta': 0.015985953506588216, 'gamma': 0.027009983004174457, 'grow_policy': 'lossguide'}. Best is trial 144 with value: 0.956021756021756.\u001b[0m\n",
      "\u001b[32m[I 2021-04-07 14:23:51,356]\u001b[0m Trial 156 finished with value: 0.9533799533799534 and parameters: {'n_estimators': 787, 'learning_rate': 0.46975054322105514, 'booster': 'gbtree', 'reg_lambda': 3.714046500712545e-05, 'alpha': 9.410112571295229e-07, 'subsample': 0.8190881927099848, 'colsample_bytree': 0.870267149372798, 'max_depth': 9, 'min_child_weight': 2, 'eta': 0.003683286408955703, 'gamma': 0.1303989640390528, 'grow_policy': 'lossguide'}. Best is trial 144 with value: 0.956021756021756.\u001b[0m\n",
      "\u001b[32m[I 2021-04-07 14:23:51,887]\u001b[0m Trial 157 finished with value: 0.9524475524475524 and parameters: {'n_estimators': 717, 'learning_rate': 0.2807051667700347, 'booster': 'gbtree', 'reg_lambda': 0.00012141609631378392, 'alpha': 1.7334075760376714e-08, 'subsample': 0.9617981195390073, 'colsample_bytree': 0.8564064197041212, 'max_depth': 9, 'min_child_weight': 10, 'eta': 2.2642980222287255e-07, 'gamma': 0.021948836713705875, 'grow_policy': 'lossguide'}. Best is trial 144 with value: 0.956021756021756.\u001b[0m\n",
      "\u001b[32m[I 2021-04-07 14:23:52,411]\u001b[0m Trial 158 finished with value: 0.9529137529137529 and parameters: {'n_estimators': 764, 'learning_rate': 0.24902064466749982, 'booster': 'gbtree', 'reg_lambda': 5.311652428846537e-06, 'alpha': 2.84133860808019e-06, 'subsample': 0.6998793481788235, 'colsample_bytree': 0.8979232232503073, 'max_depth': 9, 'min_child_weight': 5, 'eta': 0.005509285318255076, 'gamma': 0.060328920903041594, 'grow_policy': 'lossguide'}. Best is trial 144 with value: 0.956021756021756.\u001b[0m\n",
      "\u001b[32m[I 2021-04-07 14:23:52,981]\u001b[0m Trial 159 finished with value: 0.9544677544677544 and parameters: {'n_estimators': 328, 'learning_rate': 0.34753329388276694, 'booster': 'dart', 'reg_lambda': 1.327127828905416e-05, 'alpha': 5.136334164445555e-08, 'subsample': 0.7977359678843506, 'colsample_bytree': 0.8452790716857008, 'max_depth': 9, 'min_child_weight': 4, 'eta': 0.16476241808900313, 'gamma': 0.011439858066891037, 'grow_policy': 'lossguide', 'sample_type': 'weighted', 'normalize_type': 'forest', 'rate_drop': 3.690678988842749e-05, 'skip_drop': 0.0036717300975734704}. Best is trial 144 with value: 0.956021756021756.\u001b[0m\n",
      "\u001b[32m[I 2021-04-07 14:23:53,307]\u001b[0m Trial 160 finished with value: 0.9524475524475524 and parameters: {'n_estimators': 342, 'learning_rate': 0.3625691267331887, 'booster': 'dart', 'reg_lambda': 1.1835351778793333e-05, 'alpha': 4.7639915076168373e-07, 'subsample': 0.7935353592754535, 'colsample_bytree': 0.8778434109901323, 'max_depth': 5, 'min_child_weight': 2, 'eta': 0.6858476358749496, 'gamma': 0.01188147980946039, 'grow_policy': 'lossguide', 'sample_type': 'weighted', 'normalize_type': 'forest', 'rate_drop': 6.41080528123321e-05, 'skip_drop': 0.0046003243732048015}. Best is trial 144 with value: 0.956021756021756.\u001b[0m\n",
      "\u001b[32m[I 2021-04-07 14:23:53,789]\u001b[0m Trial 161 finished with value: 0.9532245532245532 and parameters: {'n_estimators': 372, 'learning_rate': 0.3231396402383587, 'booster': 'dart', 'reg_lambda': 0.00022330209098677954, 'alpha': 4.69815915038516e-08, 'subsample': 0.7432911251851719, 'colsample_bytree': 0.8301957157497343, 'max_depth': 9, 'min_child_weight': 4, 'eta': 0.010361004614924946, 'gamma': 0.0053494615025332926, 'grow_policy': 'lossguide', 'sample_type': 'weighted', 'normalize_type': 'forest', 'rate_drop': 4.330090669351183e-05, 'skip_drop': 0.0024616601265074435}. Best is trial 144 with value: 0.956021756021756.\u001b[0m\n",
      "\u001b[32m[I 2021-04-07 14:23:54,363]\u001b[0m Trial 162 finished with value: 0.9533799533799534 and parameters: {'n_estimators': 313, 'learning_rate': 0.3333476454293258, 'booster': 'dart', 'reg_lambda': 9.616274960328971e-05, 'alpha': 1.0847351492796115e-07, 'subsample': 0.837284635328399, 'colsample_bytree': 0.8034321992650342, 'max_depth': 9, 'min_child_weight': 4, 'eta': 0.18112893276338207, 'gamma': 0.09527685526347736, 'grow_policy': 'lossguide', 'sample_type': 'weighted', 'normalize_type': 'forest', 'rate_drop': 0.0002553076142154517, 'skip_drop': 0.008097448924338849}. Best is trial 144 with value: 0.956021756021756.\u001b[0m\n",
      "\u001b[32m[I 2021-04-07 14:23:55,075]\u001b[0m Trial 163 finished with value: 0.9526029526029526 and parameters: {'n_estimators': 291, 'learning_rate': 0.4094905611767905, 'booster': 'dart', 'reg_lambda': 1.1772569740121432e-06, 'alpha': 5.6514815427059266e-08, 'subsample': 0.806747900068222, 'colsample_bytree': 0.7972075806212171, 'max_depth': 9, 'min_child_weight': 4, 'eta': 0.060817615301450606, 'gamma': 0.00366398485761173, 'grow_policy': 'lossguide', 'sample_type': 'weighted', 'normalize_type': 'forest', 'rate_drop': 0.00010504691992347649, 'skip_drop': 0.003582455968860126}. Best is trial 144 with value: 0.956021756021756.\u001b[0m\n",
      "\u001b[32m[I 2021-04-07 14:23:55,681]\u001b[0m Trial 164 finished with value: 0.9533799533799534 and parameters: {'n_estimators': 393, 'learning_rate': 0.23051311727718327, 'booster': 'dart', 'reg_lambda': 3.939448677311903e-06, 'alpha': 1.9680982146023978e-07, 'subsample': 0.9667491795485279, 'colsample_bytree': 0.8413154357023068, 'max_depth': 9, 'min_child_weight': 3, 'eta': 0.020877411934122663, 'gamma': 0.016328212479159835, 'grow_policy': 'lossguide', 'sample_type': 'weighted', 'normalize_type': 'forest', 'rate_drop': 6.257982792872301e-06, 'skip_drop': 0.0016546738944765173}. Best is trial 144 with value: 0.956021756021756.\u001b[0m\n",
      "\u001b[32m[I 2021-04-07 14:23:56,175]\u001b[0m Trial 165 finished with value: 0.9535353535353536 and parameters: {'n_estimators': 816, 'learning_rate': 0.2851574715638818, 'booster': 'gbtree', 'reg_lambda': 6.200683743684355e-05, 'alpha': 4.220008922718092e-08, 'subsample': 0.7725713501157433, 'colsample_bytree': 0.8513108918177171, 'max_depth': 9, 'min_child_weight': 2, 'eta': 0.11751690024379223, 'gamma': 0.02990349221589837, 'grow_policy': 'lossguide'}. Best is trial 144 with value: 0.956021756021756.\u001b[0m\n",
      "\u001b[32m[I 2021-04-07 14:23:56,659]\u001b[0m Trial 166 finished with value: 0.9547785547785548 and parameters: {'n_estimators': 331, 'learning_rate': 0.3772243991745002, 'booster': 'dart', 'reg_lambda': 1.7436321714161513e-05, 'alpha': 1.5965919071944656e-07, 'subsample': 0.7888404925280573, 'colsample_bytree': 0.8216444202944492, 'max_depth': 9, 'min_child_weight': 5, 'eta': 0.014185501993560123, 'gamma': 0.2977231919032602, 'grow_policy': 'lossguide', 'sample_type': 'weighted', 'normalize_type': 'forest', 'rate_drop': 2.3071032170477104e-05, 'skip_drop': 0.029749497537964315}. Best is trial 144 with value: 0.956021756021756.\u001b[0m\n",
      "\u001b[32m[I 2021-04-07 14:23:57,152]\u001b[0m Trial 167 finished with value: 0.9527583527583527 and parameters: {'n_estimators': 347, 'learning_rate': 0.38190544041317015, 'booster': 'dart', 'reg_lambda': 2.1082785066364767e-05, 'alpha': 1.5061128544372107e-07, 'subsample': 0.759885679324247, 'colsample_bytree': 0.8165415970641944, 'max_depth': 9, 'min_child_weight': 5, 'eta': 0.007223521376932757, 'gamma': 0.2924336464922923, 'grow_policy': 'depthwise', 'sample_type': 'weighted', 'normalize_type': 'forest', 'rate_drop': 2.6986036144424532e-05, 'skip_drop': 0.0036457330622565436}. Best is trial 144 with value: 0.956021756021756.\u001b[0m\n",
      "\u001b[32m[I 2021-04-07 14:23:57,688]\u001b[0m Trial 168 finished with value: 0.9529137529137529 and parameters: {'n_estimators': 326, 'learning_rate': 0.26399883196376267, 'booster': 'dart', 'reg_lambda': 1.3641218823961157e-05, 'alpha': 9.23150003657423e-08, 'subsample': 0.8773755287296873, 'colsample_bytree': 0.7609636065813306, 'max_depth': 9, 'min_child_weight': 5, 'eta': 0.0030687329492714217, 'gamma': 0.19886754566028728, 'grow_policy': 'lossguide', 'sample_type': 'weighted', 'normalize_type': 'forest', 'rate_drop': 1.715914522905347e-05, 'skip_drop': 0.009448442761985927}. Best is trial 144 with value: 0.956021756021756.\u001b[0m\n",
      "\u001b[32m[I 2021-04-07 14:23:58,178]\u001b[0m Trial 169 finished with value: 0.9547785547785548 and parameters: {'n_estimators': 371, 'learning_rate': 0.4177634160224023, 'booster': 'dart', 'reg_lambda': 6.559821523489997e-06, 'alpha': 2.533261011162008e-08, 'subsample': 0.859090588793668, 'colsample_bytree': 0.7993690470088852, 'max_depth': 9, 'min_child_weight': 6, 'eta': 0.04341635487354406, 'gamma': 0.7681445665854603, 'grow_policy': 'lossguide', 'sample_type': 'weighted', 'normalize_type': 'forest', 'rate_drop': 3.3894080995622846e-06, 'skip_drop': 0.09137286762781559}. Best is trial 144 with value: 0.956021756021756.\u001b[0m\n",
      "\u001b[32m[I 2021-04-07 14:23:58,658]\u001b[0m Trial 170 finished with value: 0.9501165501165502 and parameters: {'n_estimators': 266, 'learning_rate': 0.06305604885577062, 'booster': 'dart', 'reg_lambda': 9.637836142978468e-06, 'alpha': 2.168317308307381e-07, 'subsample': 0.7864050163951442, 'colsample_bytree': 0.775016591634914, 'max_depth': 9, 'min_child_weight': 6, 'eta': 0.09151768366933914, 'gamma': 0.43613175195324205, 'grow_policy': 'lossguide', 'sample_type': 'uniform', 'normalize_type': 'forest', 'rate_drop': 3.99633497319883e-06, 'skip_drop': 0.07996230510250228}. Best is trial 144 with value: 0.956021756021756.\u001b[0m\n",
      "\u001b[32m[I 2021-04-07 14:23:59,145]\u001b[0m Trial 171 finished with value: 0.9533799533799534 and parameters: {'n_estimators': 370, 'learning_rate': 0.4266508719806336, 'booster': 'dart', 'reg_lambda': 7.0007029605555565e-06, 'alpha': 7.13953949682058e-08, 'subsample': 0.8204853732365771, 'colsample_bytree': 0.8136082379660351, 'max_depth': 9, 'min_child_weight': 5, 'eta': 0.04662452819587427, 'gamma': 0.6429969841383113, 'grow_policy': 'lossguide', 'sample_type': 'weighted', 'normalize_type': 'forest', 'rate_drop': 8.749379330560478e-06, 'skip_drop': 0.03902283924750173}. Best is trial 144 with value: 0.956021756021756.\u001b[0m\n",
      "\u001b[32m[I 2021-04-07 14:23:59,618]\u001b[0m Trial 172 finished with value: 0.9532245532245532 and parameters: {'n_estimators': 302, 'learning_rate': 0.36569385609115285, 'booster': 'dart', 'reg_lambda': 3.089767757517728e-05, 'alpha': 1.2486755606694309e-07, 'subsample': 0.8017527133086517, 'colsample_bytree': 0.7875937502791579, 'max_depth': 9, 'min_child_weight': 6, 'eta': 0.06469659344279617, 'gamma': 0.36647812298472077, 'grow_policy': 'lossguide', 'sample_type': 'weighted', 'normalize_type': 'forest', 'rate_drop': 3.0804506787271935e-06, 'skip_drop': 0.025919546138300765}. Best is trial 144 with value: 0.956021756021756.\u001b[0m\n",
      "\u001b[32m[I 2021-04-07 14:24:00,176]\u001b[0m Trial 173 finished with value: 0.9527583527583527 and parameters: {'n_estimators': 330, 'learning_rate': 0.4007481531373838, 'booster': 'dart', 'reg_lambda': 6.396187814538713e-06, 'alpha': 3.0757388726553535e-08, 'subsample': 0.9186818805544957, 'colsample_bytree': 0.9653420618179249, 'max_depth': 9, 'min_child_weight': 5, 'eta': 0.012034122615530144, 'gamma': 0.1602556779173133, 'grow_policy': 'lossguide', 'sample_type': 'weighted', 'normalize_type': 'forest', 'rate_drop': 3.0125858501267746e-05, 'skip_drop': 0.0011758996489837732}. Best is trial 144 with value: 0.956021756021756.\u001b[0m\n",
      "\u001b[32m[I 2021-04-07 14:24:00,689]\u001b[0m Trial 174 finished with value: 0.9543123543123543 and parameters: {'n_estimators': 237, 'learning_rate': 0.3139700938666617, 'booster': 'dart', 'reg_lambda': 1.97645769760978e-06, 'alpha': 2.465197285661014e-08, 'subsample': 0.8409541593052237, 'colsample_bytree': 0.7917876114010883, 'max_depth': 9, 'min_child_weight': 4, 'eta': 0.03495067715300759, 'gamma': 0.103222448637275, 'grow_policy': 'lossguide', 'sample_type': 'weighted', 'normalize_type': 'forest', 'rate_drop': 0.00017923507724605564, 'skip_drop': 0.06366376886118001}. Best is trial 144 with value: 0.956021756021756.\u001b[0m\n",
      "\u001b[32m[I 2021-04-07 14:24:01,209]\u001b[0m Trial 175 finished with value: 0.9527583527583527 and parameters: {'n_estimators': 250, 'learning_rate': 0.3038329234460189, 'booster': 'dart', 'reg_lambda': 2.2226298509891183e-06, 'alpha': 1.0856894316949163e-08, 'subsample': 0.8461022695700284, 'colsample_bytree': 0.8299532714635307, 'max_depth': 9, 'min_child_weight': 6, 'eta': 0.01419304087386872, 'gamma': 0.05290842692055904, 'grow_policy': 'lossguide', 'sample_type': 'weighted', 'normalize_type': 'forest', 'rate_drop': 4.042203052366989e-05, 'skip_drop': 0.10622121424719447}. Best is trial 144 with value: 0.956021756021756.\u001b[0m\n",
      "\u001b[32m[I 2021-04-07 14:24:01,721]\u001b[0m Trial 176 finished with value: 0.9547785547785548 and parameters: {'n_estimators': 352, 'learning_rate': 0.49514386135005684, 'booster': 'dart', 'reg_lambda': 1.5634676803205595e-05, 'alpha': 1.713154336602036e-08, 'subsample': 0.8620656742933988, 'colsample_bytree': 0.8505339596206887, 'max_depth': 9, 'min_child_weight': 4, 'eta': 0.002101283563277572, 'gamma': 0.8504735815380459, 'grow_policy': 'lossguide', 'sample_type': 'weighted', 'normalize_type': 'forest', 'rate_drop': 1.7508738403455441e-06, 'skip_drop': 6.031776221051237e-05}. Best is trial 144 with value: 0.956021756021756.\u001b[0m\n",
      "\u001b[32m[I 2021-04-07 14:24:01,947]\u001b[0m Trial 177 finished with value: 0.9516705516705517 and parameters: {'n_estimators': 410, 'learning_rate': 0.48803789513047513, 'booster': 'dart', 'reg_lambda': 1.809019998077757e-05, 'alpha': 1.420054348042968e-08, 'subsample': 0.8614468321262381, 'colsample_bytree': 0.8662158758954848, 'max_depth': 3, 'min_child_weight': 5, 'eta': 0.001459925677769658, 'gamma': 0.9900021119732301, 'grow_policy': 'lossguide', 'sample_type': 'weighted', 'normalize_type': 'forest', 'rate_drop': 1.938312085040852e-06, 'skip_drop': 4.823732177398417e-05}. Best is trial 144 with value: 0.956021756021756.\u001b[0m\n",
      "\u001b[32m[I 2021-04-07 14:24:02,497]\u001b[0m Trial 178 finished with value: 0.9550893550893551 and parameters: {'n_estimators': 349, 'learning_rate': 0.4558430173950154, 'booster': 'dart', 'reg_lambda': 1.4471207547893994e-05, 'alpha': 2.0969062929760568e-08, 'subsample': 0.9022925483855982, 'colsample_bytree': 0.8924041762783721, 'max_depth': 9, 'min_child_weight': 4, 'eta': 0.00241211578611267, 'gamma': 0.9982611639181808, 'grow_policy': 'lossguide', 'sample_type': 'weighted', 'normalize_type': 'forest', 'rate_drop': 5.02385354446515e-06, 'skip_drop': 5.150247074551493e-05}. Best is trial 144 with value: 0.956021756021756.\u001b[0m\n",
      "\u001b[32m[I 2021-04-07 14:24:02,996]\u001b[0m Trial 179 finished with value: 0.9547785547785548 and parameters: {'n_estimators': 361, 'learning_rate': 0.48738167868324644, 'booster': 'dart', 'reg_lambda': 8.813306010675511e-06, 'alpha': 1.7400078211663742e-06, 'subsample': 0.8791358426780566, 'colsample_bytree': 0.914133545288399, 'max_depth': 9, 'min_child_weight': 8, 'eta': 0.00240396971082249, 'gamma': 0.7907834632170625, 'grow_policy': 'lossguide', 'sample_type': 'weighted', 'normalize_type': 'forest', 'rate_drop': 1.2958978423952867e-06, 'skip_drop': 6.839143013295171e-05}. Best is trial 144 with value: 0.956021756021756.\u001b[0m\n",
      "\u001b[32m[I 2021-04-07 14:24:03,499]\u001b[0m Trial 180 finished with value: 0.9538461538461539 and parameters: {'n_estimators': 351, 'learning_rate': 0.4724992523432994, 'booster': 'dart', 'reg_lambda': 1.3194036540646937e-05, 'alpha': 1.4433625900750898e-08, 'subsample': 0.8915722771725498, 'colsample_bytree': 0.9130163528875361, 'max_depth': 9, 'min_child_weight': 8, 'eta': 0.0013093752559330087, 'gamma': 0.9868579128348617, 'grow_policy': 'lossguide', 'sample_type': 'weighted', 'normalize_type': 'forest', 'rate_drop': 2.4354850965309613e-06, 'skip_drop': 5.8138219313833503e-05}. Best is trial 144 with value: 0.956021756021756.\u001b[0m\n",
      "\u001b[32m[I 2021-04-07 14:24:03,998]\u001b[0m Trial 181 finished with value: 0.9527583527583527 and parameters: {'n_estimators': 377, 'learning_rate': 0.4445693023012362, 'booster': 'dart', 'reg_lambda': 9.24738912837699e-06, 'alpha': 2.04982249976294e-06, 'subsample': 0.8676137990953652, 'colsample_bytree': 0.8924569776021342, 'max_depth': 9, 'min_child_weight': 8, 'eta': 0.00214202942960385, 'gamma': 0.784663240396817, 'grow_policy': 'lossguide', 'sample_type': 'weighted', 'normalize_type': 'forest', 'rate_drop': 5.4528923853658705e-06, 'skip_drop': 2.783989055751337e-05}. Best is trial 144 with value: 0.956021756021756.\u001b[0m\n",
      "\u001b[32m[I 2021-04-07 14:24:04,536]\u001b[0m Trial 182 finished with value: 0.9524475524475524 and parameters: {'n_estimators': 333, 'learning_rate': 0.45568953187654165, 'booster': 'dart', 'reg_lambda': 3.796271847796562e-06, 'alpha': 2.4395126966555975e-08, 'subsample': 0.896463831078796, 'colsample_bytree': 0.9253387150777311, 'max_depth': 9, 'min_child_weight': 4, 'eta': 0.0009676912886131543, 'gamma': 0.556940705925004, 'grow_policy': 'lossguide', 'sample_type': 'weighted', 'normalize_type': 'forest', 'rate_drop': 1.2536299627947e-06, 'skip_drop': 0.00013049564334965158}. Best is trial 144 with value: 0.956021756021756.\u001b[0m\n",
      "\u001b[32m[I 2021-04-07 14:24:05,046]\u001b[0m Trial 183 finished with value: 0.951981351981352 and parameters: {'n_estimators': 358, 'learning_rate': 0.40948735908720335, 'booster': 'dart', 'reg_lambda': 6.4937095492117565e-06, 'alpha': 1.4634012401534223e-06, 'subsample': 0.8711088178202792, 'colsample_bytree': 0.8756201512575001, 'max_depth': 9, 'min_child_weight': 8, 'eta': 0.0025995723798557485, 'gamma': 0.2547100466222142, 'grow_policy': 'lossguide', 'sample_type': 'weighted', 'normalize_type': 'forest', 'rate_drop': 9.231666403016529e-07, 'skip_drop': 1.4614335238826163e-05}. Best is trial 144 with value: 0.956021756021756.\u001b[0m\n",
      "\u001b[32m[I 2021-04-07 14:24:05,569]\u001b[0m Trial 184 finished with value: 0.9547785547785548 and parameters: {'n_estimators': 397, 'learning_rate': 0.3529713659524734, 'booster': 'dart', 'reg_lambda': 1.7595673180760573e-05, 'alpha': 2.1966152749983954e-08, 'subsample': 0.8854827128164884, 'colsample_bytree': 0.8911151411120648, 'max_depth': 9, 'min_child_weight': 5, 'eta': 0.004039797673560832, 'gamma': 0.44754854469125543, 'grow_policy': 'lossguide', 'sample_type': 'weighted', 'normalize_type': 'forest', 'rate_drop': 1.8213603474685148e-06, 'skip_drop': 7.362948700351824e-05}. Best is trial 144 with value: 0.956021756021756.\u001b[0m\n",
      "\u001b[32m[I 2021-04-07 14:24:06,084]\u001b[0m Trial 185 finished with value: 0.954001554001554 and parameters: {'n_estimators': 403, 'learning_rate': 0.376445753807289, 'booster': 'dart', 'reg_lambda': 1.741393750776248e-05, 'alpha': 6.779131946600272e-07, 'subsample': 0.8823193411252508, 'colsample_bytree': 0.9026402247211237, 'max_depth': 9, 'min_child_weight': 5, 'eta': 0.00399289958726409, 'gamma': 0.9706761128912371, 'grow_policy': 'lossguide', 'sample_type': 'weighted', 'normalize_type': 'forest', 'rate_drop': 1.6054771888363525e-06, 'skip_drop': 7.63155435019345e-05}. Best is trial 144 with value: 0.956021756021756.\u001b[0m\n",
      "\u001b[32m[I 2021-04-07 14:24:06,612]\u001b[0m Trial 186 finished with value: 0.9547785547785548 and parameters: {'n_estimators': 388, 'learning_rate': 0.49616892037184956, 'booster': 'dart', 'reg_lambda': 2.5672703093059302e-05, 'alpha': 1.0612972011726977e-08, 'subsample': 0.9106796393020163, 'colsample_bytree': 0.9222571516456866, 'max_depth': 9, 'min_child_weight': 5, 'eta': 0.005035169307010378, 'gamma': 0.4674862960642874, 'grow_policy': 'lossguide', 'sample_type': 'weighted', 'normalize_type': 'forest', 'rate_drop': 3.4677226142796165e-06, 'skip_drop': 3.987650103093938e-05}. Best is trial 144 with value: 0.956021756021756.\u001b[0m\n",
      "\u001b[32m[I 2021-04-07 14:24:07,130]\u001b[0m Trial 187 finished with value: 0.9538461538461539 and parameters: {'n_estimators': 395, 'learning_rate': 0.4604275312547119, 'booster': 'dart', 'reg_lambda': 2.8404041688544887e-05, 'alpha': 1.0298437239538538e-08, 'subsample': 0.8618193284679144, 'colsample_bytree': 0.9191066124528359, 'max_depth': 9, 'min_child_weight': 5, 'eta': 0.001758237801426207, 'gamma': 0.4257721240374563, 'grow_policy': 'lossguide', 'sample_type': 'weighted', 'normalize_type': 'forest', 'rate_drop': 1.358546175810458e-06, 'skip_drop': 4.356661647201969e-05}. Best is trial 144 with value: 0.956021756021756.\u001b[0m\n",
      "\u001b[32m[I 2021-04-07 14:24:07,663]\u001b[0m Trial 188 finished with value: 0.9535353535353536 and parameters: {'n_estimators': 382, 'learning_rate': 0.47970761747310287, 'booster': 'dart', 'reg_lambda': 1.06064343037372e-05, 'alpha': 1.0133784742524082e-08, 'subsample': 0.9029404714510387, 'colsample_bytree': 0.9444204484486228, 'max_depth': 9, 'min_child_weight': 5, 'eta': 0.003040502627712218, 'gamma': 0.6306763832773048, 'grow_policy': 'lossguide', 'sample_type': 'weighted', 'normalize_type': 'forest', 'rate_drop': 3.8919177054293476e-06, 'skip_drop': 8.390393424591425e-05}. Best is trial 144 with value: 0.956021756021756.\u001b[0m\n",
      "\u001b[32m[I 2021-04-07 14:24:08,193]\u001b[0m Trial 189 finished with value: 0.9538461538461539 and parameters: {'n_estimators': 432, 'learning_rate': 0.4118534997350423, 'booster': 'dart', 'reg_lambda': 2.6044003120260045e-05, 'alpha': 1.7171135529990258e-08, 'subsample': 0.9142438471522748, 'colsample_bytree': 0.895756127165052, 'max_depth': 9, 'min_child_weight': 5, 'eta': 0.004615469928381662, 'gamma': 0.3517889685088269, 'grow_policy': 'lossguide', 'sample_type': 'weighted', 'normalize_type': 'forest', 'rate_drop': 2.880109312610489e-06, 'skip_drop': 2.5088554377664618e-05}. Best is trial 144 with value: 0.956021756021756.\u001b[0m\n",
      "\u001b[32m[I 2021-04-07 14:24:08,590]\u001b[0m Trial 190 finished with value: 0.9513597513597514 and parameters: {'n_estimators': 353, 'learning_rate': 0.4307015587699063, 'booster': 'dart', 'reg_lambda': 1.5820009734050792e-05, 'alpha': 3.201431374827862e-08, 'subsample': 0.4745782381515188, 'colsample_bytree': 0.9889579610142541, 'max_depth': 9, 'min_child_weight': 5, 'eta': 0.002129066553400697, 'gamma': 0.7596782028286378, 'grow_policy': 'lossguide', 'sample_type': 'weighted', 'normalize_type': 'forest', 'rate_drop': 6.743572194247125e-06, 'skip_drop': 0.00014120524005056936}. Best is trial 144 with value: 0.956021756021756.\u001b[0m\n",
      "\u001b[32m[I 2021-04-07 14:24:09,098]\u001b[0m Trial 191 finished with value: 0.9541569541569541 and parameters: {'n_estimators': 309, 'learning_rate': 0.4928152607242942, 'booster': 'dart', 'reg_lambda': 5.571146353379791e-06, 'alpha': 2.0256721538210093e-08, 'subsample': 0.8850769863595396, 'colsample_bytree': 0.8825654978774827, 'max_depth': 9, 'min_child_weight': 5, 'eta': 0.007604929232361179, 'gamma': 0.23853602585293496, 'grow_policy': 'lossguide', 'sample_type': 'weighted', 'normalize_type': 'forest', 'rate_drop': 2.1621734972091876e-06, 'skip_drop': 2.099470262384763e-05}. Best is trial 144 with value: 0.956021756021756.\u001b[0m\n",
      "\u001b[32m[I 2021-04-07 14:24:09,633]\u001b[0m Trial 192 finished with value: 0.9549339549339549 and parameters: {'n_estimators': 371, 'learning_rate': 0.49591284266632246, 'booster': 'dart', 'reg_lambda': 9.344113611385015e-06, 'alpha': 1.9696973198253477e-08, 'subsample': 0.9459412242777999, 'colsample_bytree': 0.910602597562697, 'max_depth': 9, 'min_child_weight': 5, 'eta': 0.005473015298236326, 'gamma': 0.369207477002855, 'grow_policy': 'lossguide', 'sample_type': 'weighted', 'normalize_type': 'forest', 'rate_drop': 4.3706035225073444e-07, 'skip_drop': 0.00023172542669710396}. Best is trial 144 with value: 0.956021756021756.\u001b[0m\n",
      "\u001b[32m[I 2021-04-07 14:24:10,161]\u001b[0m Trial 193 finished with value: 0.9522921522921522 and parameters: {'n_estimators': 373, 'learning_rate': 0.49081216979440323, 'booster': 'dart', 'reg_lambda': 9.545733004270184e-06, 'alpha': 1.4070083400493676e-08, 'subsample': 0.9033451055653317, 'colsample_bytree': 0.9110632816016938, 'max_depth': 9, 'min_child_weight': 5, 'eta': 5.476077668157748e-08, 'gamma': 0.5481619695002325, 'grow_policy': 'lossguide', 'sample_type': 'weighted', 'normalize_type': 'forest', 'rate_drop': 6.189353202499725e-07, 'skip_drop': 0.00010289771666614272}. Best is trial 144 with value: 0.956021756021756.\u001b[0m\n",
      "\u001b[32m[I 2021-04-07 14:24:10,693]\u001b[0m Trial 194 finished with value: 0.9541569541569541 and parameters: {'n_estimators': 419, 'learning_rate': 0.3534287210981853, 'booster': 'dart', 'reg_lambda': 1.2586860497514514e-05, 'alpha': 3.363303075518285e-08, 'subsample': 0.8827598460802947, 'colsample_bytree': 0.9361219671457837, 'max_depth': 9, 'min_child_weight': 5, 'eta': 0.003378319389793646, 'gamma': 0.3858228935613155, 'grow_policy': 'lossguide', 'sample_type': 'weighted', 'normalize_type': 'forest', 'rate_drop': 3.156385173178524e-07, 'skip_drop': 5.570182246649093e-05}. Best is trial 144 with value: 0.956021756021756.\u001b[0m\n",
      "\u001b[32m[I 2021-04-07 14:24:11,183]\u001b[0m Trial 195 finished with value: 0.9521367521367521 and parameters: {'n_estimators': 339, 'learning_rate': 0.3990175490719375, 'booster': 'dart', 'reg_lambda': 4.382888409626027e-06, 'alpha': 0.11276592167184543, 'subsample': 0.8563858357406329, 'colsample_bytree': 0.95205398484945, 'max_depth': 9, 'min_child_weight': 5, 'eta': 0.006001306987992921, 'gamma': 0.8120186930494885, 'grow_policy': 'lossguide', 'sample_type': 'weighted', 'normalize_type': 'forest', 'rate_drop': 1.2434567761794366e-07, 'skip_drop': 0.00022208135050418446}. Best is trial 144 with value: 0.956021756021756.\u001b[0m\n",
      "\u001b[32m[I 2021-04-07 14:24:11,726]\u001b[0m Trial 196 finished with value: 0.9532245532245532 and parameters: {'n_estimators': 389, 'learning_rate': 0.4989078613605308, 'booster': 'dart', 'reg_lambda': 2.0399853479431686e-05, 'alpha': 2.147150328490674e-08, 'subsample': 0.9425287994806217, 'colsample_bytree': 0.9667286342951159, 'max_depth': 9, 'min_child_weight': 5, 'eta': 0.0008160870702021828, 'gamma': 0.21710332540777422, 'grow_policy': 'lossguide', 'sample_type': 'weighted', 'normalize_type': 'forest', 'rate_drop': 1.0286232624438265e-06, 'skip_drop': 3.445671170841247e-05}. Best is trial 144 with value: 0.956021756021756.\u001b[0m\n",
      "\u001b[32m[I 2021-04-07 14:24:12,267]\u001b[0m Trial 197 finished with value: 0.9550893550893551 and parameters: {'n_estimators': 361, 'learning_rate': 0.43965457978360484, 'booster': 'dart', 'reg_lambda': 2.8672599971403886e-06, 'alpha': 1.0323209595243682e-08, 'subsample': 0.9193502915765759, 'colsample_bytree': 0.9176321876023091, 'max_depth': 9, 'min_child_weight': 5, 'eta': 0.0019914855279838544, 'gamma': 0.164579660685691, 'grow_policy': 'lossguide', 'sample_type': 'weighted', 'normalize_type': 'forest', 'rate_drop': 4.362029092861982e-06, 'skip_drop': 4.412659343436104e-05}. Best is trial 144 with value: 0.956021756021756.\u001b[0m\n",
      "\u001b[32m[I 2021-04-07 14:24:12,794]\u001b[0m Trial 198 finished with value: 0.9522921522921522 and parameters: {'n_estimators': 359, 'learning_rate': 0.43718531525653104, 'booster': 'dart', 'reg_lambda': 3.3705315227124813e-06, 'alpha': 1.1563748435309585e-08, 'subsample': 0.9304355932133992, 'colsample_bytree': 0.9176826823328867, 'max_depth': 9, 'min_child_weight': 9, 'eta': 0.001320966705798422, 'gamma': 0.15422045888153843, 'grow_policy': 'lossguide', 'sample_type': 'weighted', 'normalize_type': 'forest', 'rate_drop': 3.7546128902243337e-06, 'skip_drop': 4.22176804547747e-05}. Best is trial 144 with value: 0.956021756021756.\u001b[0m\n",
      "\u001b[32m[I 2021-04-07 14:24:13,343]\u001b[0m Trial 199 finished with value: 0.9544677544677544 and parameters: {'n_estimators': 411, 'learning_rate': 0.3871483113490647, 'booster': 'dart', 'reg_lambda': 7.3912428406106625e-06, 'alpha': 1.3343593059385225e-08, 'subsample': 0.9136505478730016, 'colsample_bytree': 0.9310065318621121, 'max_depth': 9, 'min_child_weight': 5, 'eta': 0.0019970175516257262, 'gamma': 0.2762428702777285, 'grow_policy': 'lossguide', 'sample_type': 'weighted', 'normalize_type': 'forest', 'rate_drop': 1.6991852415104827e-06, 'skip_drop': 0.00017248621043552387}. Best is trial 144 with value: 0.956021756021756.\u001b[0m\n",
      "\u001b[32m[I 2021-04-07 14:24:13,873]\u001b[0m Trial 200 finished with value: 0.9555555555555556 and parameters: {'n_estimators': 451, 'learning_rate': 0.49662574790547076, 'booster': 'dart', 'reg_lambda': 5.561860636202879e-06, 'alpha': 3.6909243525615336e-06, 'subsample': 0.8977312944095619, 'colsample_bytree': 0.9013324036079647, 'max_depth': 9, 'min_child_weight': 5, 'eta': 0.0025233898982754965, 'gamma': 0.3871567233292356, 'grow_policy': 'lossguide', 'sample_type': 'weighted', 'normalize_type': 'tree', 'rate_drop': 4.2179000149168253e-07, 'skip_drop': 1.9919619415535245e-05}. Best is trial 144 with value: 0.956021756021756.\u001b[0m\n",
      "\u001b[32m[I 2021-04-07 14:24:14,401]\u001b[0m Trial 201 finished with value: 0.9535353535353536 and parameters: {'n_estimators': 458, 'learning_rate': 0.44364876507219747, 'booster': 'dart', 'reg_lambda': 7.49275932713966e-06, 'alpha': 3.60506863570713e-06, 'subsample': 0.9135107932049293, 'colsample_bytree': 0.9257779667772016, 'max_depth': 9, 'min_child_weight': 5, 'eta': 0.0022571040185303867, 'gamma': 0.42318243941904815, 'grow_policy': 'lossguide', 'sample_type': 'weighted', 'normalize_type': 'tree', 'rate_drop': 5.101261506312071e-07, 'skip_drop': 9.56198395684022e-05}. Best is trial 144 with value: 0.956021756021756.\u001b[0m\n",
      "\u001b[32m[I 2021-04-07 14:24:14,924]\u001b[0m Trial 202 finished with value: 0.9521367521367521 and parameters: {'n_estimators': 430, 'learning_rate': 0.4981518216738732, 'booster': 'dart', 'reg_lambda': 2.8603726569606955e-06, 'alpha': 7.989306453556765e-05, 'subsample': 0.8933265716819935, 'colsample_bytree': 0.9063728514876555, 'max_depth': 9, 'min_child_weight': 5, 'eta': 0.001780121463670912, 'gamma': 0.3131702541931558, 'grow_policy': 'lossguide', 'sample_type': 'weighted', 'normalize_type': 'tree', 'rate_drop': 1.6950874434756555e-06, 'skip_drop': 6.121909258675833e-05}. Best is trial 144 with value: 0.956021756021756.\u001b[0m\n",
      "\u001b[32m[I 2021-04-07 14:24:15,470]\u001b[0m Trial 203 finished with value: 0.9549339549339549 and parameters: {'n_estimators': 408, 'learning_rate': 0.49619828281515815, 'booster': 'dart', 'reg_lambda': 5.408362031163322e-06, 'alpha': 1.3041510694351235e-08, 'subsample': 0.9524815885456146, 'colsample_bytree': 0.8924254152945095, 'max_depth': 9, 'min_child_weight': 5, 'eta': 0.0037414315289589204, 'gamma': 0.5384866524317559, 'grow_policy': 'lossguide', 'sample_type': 'weighted', 'normalize_type': 'tree', 'rate_drop': 7.028936952849233e-07, 'skip_drop': 0.0002517621852722672}. Best is trial 144 with value: 0.956021756021756.\u001b[0m\n",
      "\u001b[32m[I 2021-04-07 14:24:16,034]\u001b[0m Trial 204 finished with value: 0.9533799533799534 and parameters: {'n_estimators': 413, 'learning_rate': 0.38651812851673367, 'booster': 'dart', 'reg_lambda': 4.960615982545558e-06, 'alpha': 1.4438138621515743e-08, 'subsample': 0.9500331896812727, 'colsample_bytree': 0.8906236460865266, 'max_depth': 9, 'min_child_weight': 5, 'eta': 0.002971194753827211, 'gamma': 0.27275633846897124, 'grow_policy': 'lossguide', 'sample_type': 'weighted', 'normalize_type': 'forest', 'rate_drop': 4.140960642370784e-07, 'skip_drop': 0.00029637213789841343}. Best is trial 144 with value: 0.956021756021756.\u001b[0m\n",
      "\u001b[32m[I 2021-04-07 14:24:16,090]\u001b[0m Trial 205 finished with value: 0.9232323232323232 and parameters: {'n_estimators': 479, 'learning_rate': 0.46271752756575457, 'booster': 'gblinear', 'reg_lambda': 8.768410582566614e-06, 'alpha': 1.0668201570026207e-08, 'subsample': 0.9285281290585062, 'colsample_bytree': 0.9018160225358006}. Best is trial 144 with value: 0.956021756021756.\u001b[0m\n",
      "\u001b[32m[I 2021-04-07 14:24:16,640]\u001b[0m Trial 206 finished with value: 0.954001554001554 and parameters: {'n_estimators': 385, 'learning_rate': 0.42985271236013967, 'booster': 'dart', 'reg_lambda': 1.825349230097206e-06, 'alpha': 1.850294800912078e-08, 'subsample': 0.9571750120288202, 'colsample_bytree': 0.8808034667560415, 'max_depth': 9, 'min_child_weight': 5, 'eta': 0.004586536496844509, 'gamma': 0.55851396233798, 'grow_policy': 'lossguide', 'sample_type': 'weighted', 'normalize_type': 'tree', 'rate_drop': 7.127901182228597e-07, 'skip_drop': 0.00045146911306518143}. Best is trial 144 with value: 0.956021756021756.\u001b[0m\n",
      "\u001b[32m[I 2021-04-07 14:24:17,188]\u001b[0m Trial 207 finished with value: 0.951048951048951 and parameters: {'n_estimators': 364, 'learning_rate': 0.49722650280508457, 'booster': 'dart', 'reg_lambda': 1.3045588996781858e-05, 'alpha': 1.390228963896722e-06, 'subsample': 0.9004442533280067, 'colsample_bytree': 0.9482202094379294, 'max_depth': 9, 'min_child_weight': 5, 'eta': 0.008472754670771077, 'gamma': 0.9768160659313361, 'grow_policy': 'lossguide', 'sample_type': 'weighted', 'normalize_type': 'tree', 'rate_drop': 1.8961873674751496e-07, 'skip_drop': 2.16077484134273e-05}. Best is trial 144 with value: 0.956021756021756.\u001b[0m\n",
      "\u001b[32m[I 2021-04-07 14:24:17,747]\u001b[0m Trial 208 finished with value: 0.9533799533799534 and parameters: {'n_estimators': 448, 'learning_rate': 0.40006451592308007, 'booster': 'dart', 'reg_lambda': 6.4993012969064305e-06, 'alpha': 1.0071316583098008e-08, 'subsample': 0.9165244549733564, 'colsample_bytree': 0.9238237170652542, 'max_depth': 9, 'min_child_weight': 5, 'eta': 0.00404814488739796, 'gamma': 0.5101809945241886, 'grow_policy': 'lossguide', 'sample_type': 'weighted', 'normalize_type': 'tree', 'rate_drop': 1.1160889823244429e-06, 'skip_drop': 7.97134765217454e-05}. Best is trial 144 with value: 0.956021756021756.\u001b[0m\n",
      "\u001b[32m[I 2021-04-07 14:24:18,260]\u001b[0m Trial 209 finished with value: 0.9530691530691531 and parameters: {'n_estimators': 340, 'learning_rate': 0.49418193758646767, 'booster': 'dart', 'reg_lambda': 3.253601192104124e-06, 'alpha': 9.206829699355521e-07, 'subsample': 0.8740599256870827, 'colsample_bytree': 0.8921254733964207, 'max_depth': 9, 'min_child_weight': 6, 'eta': 0.0010641969642559176, 'gamma': 0.9648584078849378, 'grow_policy': 'lossguide', 'sample_type': 'weighted', 'normalize_type': 'tree', 'rate_drop': 5.498762106777137e-06, 'skip_drop': 0.00012422853018874202}. Best is trial 144 with value: 0.956021756021756.\u001b[0m\n",
      "\u001b[32m[I 2021-04-07 14:24:18,815]\u001b[0m Trial 210 finished with value: 0.9504273504273504 and parameters: {'n_estimators': 399, 'learning_rate': 0.03721502258532771, 'booster': 'dart', 'reg_lambda': 4.774251046678801e-06, 'alpha': 2.6286156622660492e-06, 'subsample': 0.8882833170915548, 'colsample_bytree': 0.9079411103624989, 'max_depth': 9, 'min_child_weight': 8, 'eta': 0.002619959575837003, 'gamma': 0.1426337287551199, 'grow_policy': 'lossguide', 'sample_type': 'weighted', 'normalize_type': 'tree', 'rate_drop': 2.389701679030307e-06, 'skip_drop': 1.0215323679110798e-05}. Best is trial 144 with value: 0.956021756021756.\u001b[0m\n",
      "\u001b[32m[I 2021-04-07 14:24:19,399]\u001b[0m Trial 211 finished with value: 0.9546231546231546 and parameters: {'n_estimators': 373, 'learning_rate': 0.34613192820701505, 'booster': 'dart', 'reg_lambda': 4.03495015583931e-05, 'alpha': 2.2282083998094266e-08, 'subsample': 0.9360971843531138, 'colsample_bytree': 0.9419281010957811, 'max_depth': 9, 'min_child_weight': 5, 'eta': 0.005594178936322964, 'gamma': 0.6669696321439845, 'grow_policy': 'lossguide', 'sample_type': 'weighted', 'normalize_type': 'tree', 'rate_drop': 3.7633613693785244e-06, 'skip_drop': 2.8965680354051567e-05}. Best is trial 144 with value: 0.956021756021756.\u001b[0m\n",
      "\u001b[32m[I 2021-04-07 14:24:19,956]\u001b[0m Trial 212 finished with value: 0.9544677544677544 and parameters: {'n_estimators': 375, 'learning_rate': 0.37147096856872774, 'booster': 'dart', 'reg_lambda': 2.9306022852008924e-05, 'alpha': 2.5765589839482653e-08, 'subsample': 0.9360411352424871, 'colsample_bytree': 0.9421488581831482, 'max_depth': 9, 'min_child_weight': 5, 'eta': 0.0053017546021929506, 'gamma': 0.3544630629650424, 'grow_policy': 'lossguide', 'sample_type': 'weighted', 'normalize_type': 'tree', 'rate_drop': 8.790070672193653e-06, 'skip_drop': 3.4052871022341586e-05}. Best is trial 144 with value: 0.956021756021756.\u001b[0m\n",
      "\u001b[32m[I 2021-04-07 14:24:20,554]\u001b[0m Trial 213 finished with value: 0.9541569541569541 and parameters: {'n_estimators': 321, 'learning_rate': 0.3507560674794728, 'booster': 'dart', 'reg_lambda': 1.9072549796664954e-05, 'alpha': 2.224268442570343e-08, 'subsample': 0.9751502445989807, 'colsample_bytree': 0.9615728457954761, 'max_depth': 9, 'min_child_weight': 5, 'eta': 0.006298333749981541, 'gamma': 0.7003681099425119, 'grow_policy': 'lossguide', 'sample_type': 'weighted', 'normalize_type': 'tree', 'rate_drop': 3.4192349505182446e-06, 'skip_drop': 5.032236404215077e-05}. Best is trial 144 with value: 0.956021756021756.\u001b[0m\n",
      "\u001b[32m[I 2021-04-07 14:24:21,125]\u001b[0m Trial 214 finished with value: 0.9554001554001554 and parameters: {'n_estimators': 350, 'learning_rate': 0.4307242770859142, 'booster': 'dart', 'reg_lambda': 1.3873341731780862e-06, 'alpha': 1.7590668748615e-08, 'subsample': 0.9386298623672253, 'colsample_bytree': 0.9799687263135395, 'max_depth': 9, 'min_child_weight': 5, 'eta': 0.0033940952491927326, 'gamma': 0.20357491275516093, 'grow_policy': 'lossguide', 'sample_type': 'weighted', 'normalize_type': 'tree', 'rate_drop': 4.790432072611089e-06, 'skip_drop': 1.8857992712090183e-05}. Best is trial 144 with value: 0.956021756021756.\u001b[0m\n",
      "\u001b[32m[I 2021-04-07 14:24:21,686]\u001b[0m Trial 215 finished with value: 0.9546231546231546 and parameters: {'n_estimators': 363, 'learning_rate': 0.44917382863199196, 'booster': 'dart', 'reg_lambda': 9.85142020698711e-07, 'alpha': 1.7635072665574805e-08, 'subsample': 0.9413411323952967, 'colsample_bytree': 0.9273255472379215, 'max_depth': 9, 'min_child_weight': 5, 'eta': 0.0031369089758048092, 'gamma': 0.18641018244185825, 'grow_policy': 'lossguide', 'sample_type': 'weighted', 'normalize_type': 'tree', 'rate_drop': 5.317934695171866e-06, 'skip_drop': 1.7429380823866354e-05}. Best is trial 144 with value: 0.956021756021756.\u001b[0m\n",
      "\u001b[32m[I 2021-04-07 14:24:22,233]\u001b[0m Trial 216 finished with value: 0.9530691530691531 and parameters: {'n_estimators': 368, 'learning_rate': 0.4980515420502018, 'booster': 'dart', 'reg_lambda': 1.0252395376614498e-06, 'alpha': 1.6614075376714558e-08, 'subsample': 0.9354878569495976, 'colsample_bytree': 0.9118600619486856, 'max_depth': 9, 'min_child_weight': 5, 'eta': 0.0035921859083598235, 'gamma': 0.5329846628121482, 'grow_policy': 'lossguide', 'sample_type': 'weighted', 'normalize_type': 'tree', 'rate_drop': 5.298755791532327e-06, 'skip_drop': 1.999914459793465e-05}. Best is trial 144 with value: 0.956021756021756.\u001b[0m\n",
      "\u001b[32m[I 2021-04-07 14:24:22,828]\u001b[0m Trial 217 finished with value: 0.9512043512043512 and parameters: {'n_estimators': 389, 'learning_rate': 0.08585263042132447, 'booster': 'dart', 'reg_lambda': 2.57006815125684e-06, 'alpha': 1.7196269723260688e-08, 'subsample': 0.9534567835641333, 'colsample_bytree': 0.9250333407019425, 'max_depth': 9, 'min_child_weight': 5, 'eta': 0.009255940584971666, 'gamma': 0.19000543343841406, 'grow_policy': 'lossguide', 'sample_type': 'weighted', 'normalize_type': 'tree', 'rate_drop': 1.068020036118849e-05, 'skip_drop': 1.4676188507855084e-05}. Best is trial 144 with value: 0.956021756021756.\u001b[0m\n",
      "\u001b[32m[I 2021-04-07 14:24:23,202]\u001b[0m Trial 218 finished with value: 0.9530691530691531 and parameters: {'n_estimators': 429, 'learning_rate': 0.4397188420450409, 'booster': 'dart', 'reg_lambda': 3.822273359913715e-05, 'alpha': 1.0426889706428784e-08, 'subsample': 0.9161919568601627, 'colsample_bytree': 0.3694485177558003, 'max_depth': 9, 'min_child_weight': 5, 'eta': 0.0021206444203200558, 'gamma': 0.2776818013489619, 'grow_policy': 'depthwise', 'sample_type': 'weighted', 'normalize_type': 'tree', 'rate_drop': 1.7514593605310493e-06, 'skip_drop': 2.856540250419469e-05}. Best is trial 144 with value: 0.956021756021756.\u001b[0m\n",
      "\u001b[32m[I 2021-04-07 14:24:23,753]\u001b[0m Trial 219 finished with value: 0.956021756021756 and parameters: {'n_estimators': 360, 'learning_rate': 0.45683123575173396, 'booster': 'dart', 'reg_lambda': 4.3343263239304644e-05, 'alpha': 1.0193774765498088e-08, 'subsample': 0.9379110169843697, 'colsample_bytree': 0.8879033607709104, 'max_depth': 9, 'min_child_weight': 5, 'eta': 0.005485840321710819, 'gamma': 0.9839894506405682, 'grow_policy': 'lossguide', 'sample_type': 'weighted', 'normalize_type': 'tree', 'rate_drop': 3.961728408367333e-06, 'skip_drop': 7.429685974041919e-06}. Best is trial 144 with value: 0.956021756021756.\u001b[0m\n",
      "\u001b[32m[I 2021-04-07 14:24:24,326]\u001b[0m Trial 220 finished with value: 0.9538461538461539 and parameters: {'n_estimators': 353, 'learning_rate': 0.4995994979341749, 'booster': 'dart', 'reg_lambda': 1.4991546844348546e-06, 'alpha': 1.3842022908750614e-08, 'subsample': 0.9908465542506221, 'colsample_bytree': 0.8880902345849041, 'max_depth': 9, 'min_child_weight': 5, 'eta': 0.006382284587339208, 'gamma': 0.7616701490654869, 'grow_policy': 'lossguide', 'sample_type': 'weighted', 'normalize_type': 'tree', 'rate_drop': 4.318114463943147e-06, 'skip_drop': 1.4598439321797079e-05}. Best is trial 144 with value: 0.956021756021756.\u001b[0m\n",
      "\u001b[32m[I 2021-04-07 14:24:24,916]\u001b[0m Trial 221 finished with value: 0.9538461538461539 and parameters: {'n_estimators': 377, 'learning_rate': 0.42388653689973677, 'booster': 'dart', 'reg_lambda': 2.8132452816679824e-05, 'alpha': 2.6991911927890487e-08, 'subsample': 0.9391764796524106, 'colsample_bytree': 0.9392301713816461, 'max_depth': 9, 'min_child_weight': 5, 'eta': 0.005155683525681783, 'gamma': 0.36879981213977225, 'grow_policy': 'lossguide', 'sample_type': 'weighted', 'normalize_type': 'tree', 'rate_drop': 8.248182278703673e-06, 'skip_drop': 6.875597579233008e-06}. Best is trial 144 with value: 0.956021756021756.\u001b[0m\n",
      "\u001b[32m[I 2021-04-07 14:24:25,497]\u001b[0m Trial 222 finished with value: 0.9527583527583527 and parameters: {'n_estimators': 374, 'learning_rate': 0.45625889070995573, 'booster': 'dart', 'reg_lambda': 2.616514353706793e-05, 'alpha': 2.744820431511997e-08, 'subsample': 0.9405115521332492, 'colsample_bytree': 0.9085434064289061, 'max_depth': 9, 'min_child_weight': 5, 'eta': 0.003841422190125199, 'gamma': 0.979441793896607, 'grow_policy': 'lossguide', 'sample_type': 'weighted', 'normalize_type': 'tree', 'rate_drop': 8.431396499506103e-06, 'skip_drop': 3.5313310694038374e-05}. Best is trial 144 with value: 0.956021756021756.\u001b[0m\n",
      "\u001b[32m[I 2021-04-07 14:24:26,065]\u001b[0m Trial 223 finished with value: 0.9546231546231546 and parameters: {'n_estimators': 348, 'learning_rate': 0.4547982911106547, 'booster': 'dart', 'reg_lambda': 7.080823295302216e-07, 'alpha': 1.8019209450776162e-08, 'subsample': 0.9607731720795999, 'colsample_bytree': 0.8951659896672022, 'max_depth': 9, 'min_child_weight': 5, 'eta': 0.0029813597885013795, 'gamma': 0.45508534115223476, 'grow_policy': 'lossguide', 'sample_type': 'weighted', 'normalize_type': 'tree', 'rate_drop': 2.8699334387358876e-06, 'skip_drop': 9.134763275313855e-06}. Best is trial 144 with value: 0.956021756021756.\u001b[0m\n",
      "\u001b[32m[I 2021-04-07 14:24:26,625]\u001b[0m Trial 224 finished with value: 0.9541569541569541 and parameters: {'n_estimators': 401, 'learning_rate': 0.4514756777662349, 'booster': 'dart', 'reg_lambda': 9.324345891615711e-07, 'alpha': 1.0032024433925987e-08, 'subsample': 0.9559636699571697, 'colsample_bytree': 0.8710053497887564, 'max_depth': 9, 'min_child_weight': 5, 'eta': 0.0026699752995493057, 'gamma': 0.45351659275425077, 'grow_policy': 'lossguide', 'sample_type': 'weighted', 'normalize_type': 'tree', 'rate_drop': 2.9974576009785954e-06, 'skip_drop': 1.1999450528300918e-05}. Best is trial 144 with value: 0.956021756021756.\u001b[0m\n",
      "\u001b[32m[I 2021-04-07 14:24:27,203]\u001b[0m Trial 225 finished with value: 0.9541569541569541 and parameters: {'n_estimators': 345, 'learning_rate': 0.4980912505299689, 'booster': 'dart', 'reg_lambda': 7.890554883415174e-07, 'alpha': 1.8133967647547114e-08, 'subsample': 0.9788075263569014, 'colsample_bytree': 0.8986984088506501, 'max_depth': 9, 'min_child_weight': 5, 'eta': 0.008111040516470457, 'gamma': 0.6940751913151415, 'grow_policy': 'lossguide', 'sample_type': 'weighted', 'normalize_type': 'tree', 'rate_drop': 4.1876309708782875e-06, 'skip_drop': 8.074361196223312e-06}. Best is trial 144 with value: 0.956021756021756.\u001b[0m\n",
      "\u001b[32m[I 2021-04-07 14:24:27,774]\u001b[0m Trial 226 finished with value: 0.9530691530691531 and parameters: {'n_estimators': 35, 'learning_rate': 0.4123562463961209, 'booster': 'dart', 'reg_lambda': 4.7302253625844544e-05, 'alpha': 1.4947450227504307e-08, 'subsample': 0.9644049046893322, 'colsample_bytree': 0.8880506400894838, 'max_depth': 9, 'min_child_weight': 5, 'eta': 0.003219458911816468, 'gamma': 0.45126158068550515, 'grow_policy': 'lossguide', 'sample_type': 'weighted', 'normalize_type': 'tree', 'rate_drop': 2.570204827944202e-06, 'skip_drop': 5.114205520413249e-06}. Best is trial 144 with value: 0.956021756021756.\u001b[0m\n",
      "\u001b[32m[I 2021-04-07 14:24:28,349]\u001b[0m Trial 227 finished with value: 0.9529137529137529 and parameters: {'n_estimators': 361, 'learning_rate': 0.4244377372093216, 'booster': 'dart', 'reg_lambda': 1.7213325280433378e-06, 'alpha': 2.075596566612755e-08, 'subsample': 0.929364990927615, 'colsample_bytree': 0.9193090043381418, 'max_depth': 9, 'min_child_weight': 5, 'eta': 0.0016442454985604797, 'gamma': 0.9880115468094098, 'grow_policy': 'lossguide', 'sample_type': 'weighted', 'normalize_type': 'tree', 'rate_drop': 8.231241772481284e-07, 'skip_drop': 2.218200979081789e-06}. Best is trial 144 with value: 0.956021756021756.\u001b[0m\n",
      "\u001b[32m[I 2021-04-07 14:24:28,898]\u001b[0m Trial 228 finished with value: 0.9544677544677544 and parameters: {'n_estimators': 400, 'learning_rate': 0.4608983853597494, 'booster': 'dart', 'reg_lambda': 5.25134456923641e-07, 'alpha': 1.0183066686905973e-08, 'subsample': 0.9083654131804775, 'colsample_bytree': 0.929356993939383, 'max_depth': 9, 'min_child_weight': 5, 'eta': 0.004479704095163345, 'gamma': 0.25273909215228557, 'grow_policy': 'lossguide', 'sample_type': 'weighted', 'normalize_type': 'tree', 'rate_drop': 6.674644386535422e-06, 'skip_drop': 2.048977814213927e-05}. Best is trial 144 with value: 0.956021756021756.\u001b[0m\n",
      "\u001b[32m[I 2021-04-07 14:24:29,485]\u001b[0m Trial 229 finished with value: 0.9527583527583527 and parameters: {'n_estimators': 338, 'learning_rate': 0.38533784098114215, 'booster': 'dart', 'reg_lambda': 1.632017419108129e-05, 'alpha': 1.0192793867089863e-08, 'subsample': 0.9996426069315731, 'colsample_bytree': 0.8751192936923221, 'max_depth': 9, 'min_child_weight': 5, 'eta': 0.0024883104710556555, 'gamma': 0.21041918353025774, 'grow_policy': 'lossguide', 'sample_type': 'weighted', 'normalize_type': 'tree', 'rate_drop': 1.2483048096336609e-06, 'skip_drop': 0.29328708144897947}. Best is trial 144 with value: 0.956021756021756.\u001b[0m\n",
      "\u001b[32m[I 2021-04-07 14:24:30,035]\u001b[0m Trial 230 finished with value: 0.9552447552447553 and parameters: {'n_estimators': 356, 'learning_rate': 0.46188368457744117, 'booster': 'dart', 'reg_lambda': 3.8574276917144675e-06, 'alpha': 3.4559349994239955e-08, 'subsample': 0.9282876385789978, 'colsample_bytree': 0.8982822569302228, 'max_depth': 9, 'min_child_weight': 5, 'eta': 0.0066919797383887996, 'gamma': 0.6482243429149318, 'grow_policy': 'lossguide', 'sample_type': 'uniform', 'normalize_type': 'tree', 'rate_drop': 4.652772371794205e-06, 'skip_drop': 8.893816763972268e-06}. Best is trial 144 with value: 0.956021756021756.\u001b[0m\n",
      "\u001b[32m[I 2021-04-07 14:24:30,587]\u001b[0m Trial 231 finished with value: 0.9558663558663558 and parameters: {'n_estimators': 359, 'learning_rate': 0.45531937354537527, 'booster': 'dart', 'reg_lambda': 2.9716730745781985e-06, 'alpha': 3.1769022807442646e-08, 'subsample': 0.9217956000849198, 'colsample_bytree': 0.9012424478225537, 'max_depth': 9, 'min_child_weight': 5, 'eta': 0.0066610313176645435, 'gamma': 0.6683509669692509, 'grow_policy': 'lossguide', 'sample_type': 'uniform', 'normalize_type': 'tree', 'rate_drop': 4.612961882352506e-06, 'skip_drop': 4.7934788923258e-06}. Best is trial 144 with value: 0.956021756021756.\u001b[0m\n",
      "\u001b[32m[I 2021-04-07 14:24:31,118]\u001b[0m Trial 232 finished with value: 0.9544677544677544 and parameters: {'n_estimators': 347, 'learning_rate': 0.498907772459513, 'booster': 'dart', 'reg_lambda': 4.371173782689129e-06, 'alpha': 3.575689170085714e-08, 'subsample': 0.9273966754583959, 'colsample_bytree': 0.8994612817972064, 'max_depth': 9, 'min_child_weight': 5, 'eta': 0.00996834831279557, 'gamma': 0.7155728655709802, 'grow_policy': 'lossguide', 'sample_type': 'uniform', 'normalize_type': 'tree', 'rate_drop': 3.246902003150909e-06, 'skip_drop': 3.742961911273542e-06}. Best is trial 144 with value: 0.956021756021756.\u001b[0m\n",
      "\u001b[32m[I 2021-04-07 14:24:31,663]\u001b[0m Trial 233 finished with value: 0.9550893550893551 and parameters: {'n_estimators': 386, 'learning_rate': 0.4647802336121034, 'booster': 'dart', 'reg_lambda': 3.406819056766417e-06, 'alpha': 3.500187326899995e-08, 'subsample': 0.9524270304914113, 'colsample_bytree': 0.8640984746572178, 'max_depth': 9, 'min_child_weight': 5, 'eta': 0.007113185731414424, 'gamma': 0.9767082024045954, 'grow_policy': 'lossguide', 'sample_type': 'uniform', 'normalize_type': 'tree', 'rate_drop': 4.087781313566002e-06, 'skip_drop': 8.718649299177933e-06}. Best is trial 144 with value: 0.956021756021756.\u001b[0m\n",
      "\u001b[32m[I 2021-04-07 14:24:32,215]\u001b[0m Trial 234 finished with value: 0.9493395493395493 and parameters: {'n_estimators': 390, 'learning_rate': 0.493074316141403, 'booster': 'dart', 'reg_lambda': 5.696936207925859e-06, 'alpha': 3.4950117587732815e-08, 'subsample': 0.9019984440763036, 'colsample_bytree': 0.8746661729411678, 'max_depth': 9, 'min_child_weight': 5, 'eta': 0.0076760134637313664, 'gamma': 2.3385885782170367e-05, 'grow_policy': 'lossguide', 'sample_type': 'uniform', 'normalize_type': 'tree', 'rate_drop': 5.452530641028282e-06, 'skip_drop': 5.447976498062578e-06}. Best is trial 144 with value: 0.956021756021756.\u001b[0m\n",
      "\u001b[32m[I 2021-04-07 14:24:32,770]\u001b[0m Trial 235 finished with value: 0.9527583527583527 and parameters: {'n_estimators': 362, 'learning_rate': 0.49864911448257476, 'booster': 'dart', 'reg_lambda': 1.3205499125556264e-06, 'alpha': 2.3445654199265708e-08, 'subsample': 0.9548618934474501, 'colsample_bytree': 0.885031284783686, 'max_depth': 9, 'min_child_weight': 5, 'eta': 0.006068662459600295, 'gamma': 0.5587272151318939, 'grow_policy': 'lossguide', 'sample_type': 'uniform', 'normalize_type': 'tree', 'rate_drop': 2.3339236514865333e-06, 'skip_drop': 7.65007774978656e-06}. Best is trial 144 with value: 0.956021756021756.\u001b[0m\n",
      "\u001b[32m[I 2021-04-07 14:24:33,320]\u001b[0m Trial 236 finished with value: 0.9533799533799534 and parameters: {'n_estimators': 320, 'learning_rate': 0.4546528912712283, 'booster': 'dart', 'reg_lambda': 2.999934803958634e-06, 'alpha': 1.9144493668002837e-08, 'subsample': 0.9474942680727467, 'colsample_bytree': 0.8644518903748203, 'max_depth': 9, 'min_child_weight': 5, 'eta': 0.014054773561031669, 'gamma': 0.738687402795341, 'grow_policy': 'lossguide', 'sample_type': 'uniform', 'normalize_type': 'tree', 'rate_drop': 1.2604409767959342e-05, 'skip_drop': 9.704623725806598e-06}. Best is trial 144 with value: 0.956021756021756.\u001b[0m\n",
      "\u001b[32m[I 2021-04-07 14:24:33,869]\u001b[0m Trial 237 finished with value: 0.9543123543123543 and parameters: {'n_estimators': 376, 'learning_rate': 0.40843236987267406, 'booster': 'dart', 'reg_lambda': 9.373734872609943e-06, 'alpha': 3.212686958086562e-08, 'subsample': 0.9231782597115743, 'colsample_bytree': 0.8591409719334406, 'max_depth': 9, 'min_child_weight': 5, 'eta': 0.004913353061425393, 'gamma': 0.8455497072215111, 'grow_policy': 'lossguide', 'sample_type': 'uniform', 'normalize_type': 'tree', 'rate_drop': 4.7178824648797116e-06, 'skip_drop': 2.7867876181114957e-06}. Best is trial 144 with value: 0.956021756021756.\u001b[0m\n",
      "\u001b[32m[I 2021-04-07 14:24:34,427]\u001b[0m Trial 238 finished with value: 0.9550893550893551 and parameters: {'n_estimators': 355, 'learning_rate': 0.4601389384634391, 'booster': 'dart', 'reg_lambda': 4.0029922597539645e-05, 'alpha': 3.962935592791028e-08, 'subsample': 0.9748965628368781, 'colsample_bytree': 0.9068020511169976, 'max_depth': 9, 'min_child_weight': 5, 'eta': 0.003914107638665771, 'gamma': 0.3899849784016204, 'grow_policy': 'lossguide', 'sample_type': 'uniform', 'normalize_type': 'tree', 'rate_drop': 1.8040622392282302e-06, 'skip_drop': 1.5256391812642643e-05}. Best is trial 144 with value: 0.956021756021756.\u001b[0m\n",
      "\u001b[32m[I 2021-04-07 14:24:34,996]\u001b[0m Trial 239 finished with value: 0.9554001554001554 and parameters: {'n_estimators': 413, 'learning_rate': 0.4247325100327953, 'booster': 'dart', 'reg_lambda': 4.9190402931586264e-05, 'alpha': 3.7823143301336646e-08, 'subsample': 0.9705402740731282, 'colsample_bytree': 0.9171833946473565, 'max_depth': 9, 'min_child_weight': 5, 'eta': 0.004320128834098083, 'gamma': 0.339891563729817, 'grow_policy': 'lossguide', 'sample_type': 'uniform', 'normalize_type': 'tree', 'rate_drop': 4.213616718400498e-06, 'skip_drop': 1.5383401210336436e-05}. Best is trial 144 with value: 0.956021756021756.\u001b[0m\n",
      "\u001b[32m[I 2021-04-07 14:24:35,566]\u001b[0m Trial 240 finished with value: 0.9524475524475524 and parameters: {'n_estimators': 438, 'learning_rate': 0.4120307215956739, 'booster': 'dart', 'reg_lambda': 4.2563353757897235e-05, 'alpha': 3.884680409941147e-08, 'subsample': 0.9925369136058682, 'colsample_bytree': 0.9150612555251321, 'max_depth': 9, 'min_child_weight': 5, 'eta': 0.004017234333959228, 'gamma': 0.3498967319914744, 'grow_policy': 'lossguide', 'sample_type': 'uniform', 'normalize_type': 'tree', 'rate_drop': 5.223142787814484e-07, 'skip_drop': 1.400111887927506e-05}. Best is trial 144 with value: 0.956021756021756.\u001b[0m\n",
      "\u001b[32m[I 2021-04-07 14:24:36,122]\u001b[0m Trial 241 finished with value: 0.9554001554001554 and parameters: {'n_estimators': 408, 'learning_rate': 0.4581319766549534, 'booster': 'dart', 'reg_lambda': 4.2354652695476e-05, 'alpha': 2.503403334687238e-08, 'subsample': 0.9754219681353312, 'colsample_bytree': 0.8970399916933599, 'max_depth': 9, 'min_child_weight': 5, 'eta': 0.003237838626144587, 'gamma': 0.46641999975556686, 'grow_policy': 'lossguide', 'sample_type': 'uniform', 'normalize_type': 'tree', 'rate_drop': 2.8249874580957296e-06, 'skip_drop': 1.0587810781354532e-05}. Best is trial 144 with value: 0.956021756021756.\u001b[0m\n",
      "\u001b[32m[I 2021-04-07 14:24:36,688]\u001b[0m Trial 242 finished with value: 0.9535353535353536 and parameters: {'n_estimators': 416, 'learning_rate': 0.4621287951578636, 'booster': 'dart', 'reg_lambda': 6.102572104934409e-05, 'alpha': 2.7405318934899177e-08, 'subsample': 0.9840113112160767, 'colsample_bytree': 0.9094777253894475, 'max_depth': 9, 'min_child_weight': 5, 'eta': 0.006171619964321764, 'gamma': 0.5554472487237232, 'grow_policy': 'lossguide', 'sample_type': 'uniform', 'normalize_type': 'tree', 'rate_drop': 3.3227078388359053e-06, 'skip_drop': 1.8787264860471884e-05}. Best is trial 144 with value: 0.956021756021756.\u001b[0m\n",
      "\u001b[32m[I 2021-04-07 14:24:37,238]\u001b[0m Trial 243 finished with value: 0.9529137529137529 and parameters: {'n_estimators': 407, 'learning_rate': 0.49905324554823693, 'booster': 'dart', 'reg_lambda': 1.9142718544505215e-05, 'alpha': 4.2502932098235716e-08, 'subsample': 0.9703129688820256, 'colsample_bytree': 0.8902431582755646, 'max_depth': 9, 'min_child_weight': 5, 'eta': 0.010717028403137846, 'gamma': 0.9750100943989665, 'grow_policy': 'lossguide', 'sample_type': 'uniform', 'normalize_type': 'tree', 'rate_drop': 2.137377800411433e-06, 'skip_drop': 8.747477827712288e-06}. Best is trial 144 with value: 0.956021756021756.\u001b[0m\n",
      "\u001b[32m[I 2021-04-07 14:24:37,797]\u001b[0m Trial 244 finished with value: 0.9550893550893551 and parameters: {'n_estimators': 386, 'learning_rate': 0.4999804215893772, 'booster': 'dart', 'reg_lambda': 4.293852011017669e-06, 'alpha': 1.4369688760879311e-08, 'subsample': 0.9743729848527654, 'colsample_bytree': 0.8982252845054026, 'max_depth': 9, 'min_child_weight': 5, 'eta': 0.0031714904278134087, 'gamma': 0.37487085754700417, 'grow_policy': 'lossguide', 'sample_type': 'uniform', 'normalize_type': 'tree', 'rate_drop': 1.39675782711209e-06, 'skip_drop': 5.199129746091841e-06}. Best is trial 144 with value: 0.956021756021756.\u001b[0m\n",
      "\u001b[32m[I 2021-04-07 14:24:38,337]\u001b[0m Trial 245 finished with value: 0.9524475524475524 and parameters: {'n_estimators': 388, 'learning_rate': 0.4995359307202141, 'booster': 'dart', 'reg_lambda': 3.7322524179111325e-06, 'alpha': 0.0001790059974383498, 'subsample': 0.9996679346447337, 'colsample_bytree': 0.8717543624705592, 'max_depth': 9, 'min_child_weight': 5, 'eta': 0.0038031714263599657, 'gamma': 0.34052016759130255, 'grow_policy': 'lossguide', 'sample_type': 'uniform', 'normalize_type': 'tree', 'rate_drop': 1.3970636374797034e-06, 'skip_drop': 4.8604984266985e-06}. Best is trial 144 with value: 0.956021756021756.\u001b[0m\n",
      "\u001b[32m[I 2021-04-07 14:24:38,908]\u001b[0m Trial 246 finished with value: 0.9533799533799534 and parameters: {'n_estimators': 426, 'learning_rate': 0.4312840724688445, 'booster': 'dart', 'reg_lambda': 1.1970417078493731e-05, 'alpha': 3.029856619001684e-08, 'subsample': 0.9745620402010525, 'colsample_bytree': 0.8971135287253134, 'max_depth': 9, 'min_child_weight': 5, 'eta': 0.0016839025657517138, 'gamma': 0.43163153943522486, 'grow_policy': 'lossguide', 'sample_type': 'uniform', 'normalize_type': 'tree', 'rate_drop': 9.168806261331631e-07, 'skip_drop': 1.057656513592556e-05}. Best is trial 144 with value: 0.956021756021756.\u001b[0m\n",
      "\u001b[32m[I 2021-04-07 14:24:39,473]\u001b[0m Trial 247 finished with value: 0.9532245532245532 and parameters: {'n_estimators': 400, 'learning_rate': 0.39631554336622354, 'booster': 'dart', 'reg_lambda': 4.871208382260014e-06, 'alpha': 1.3596047025595966e-08, 'subsample': 0.9828551490535106, 'colsample_bytree': 0.9060564021147313, 'max_depth': 9, 'min_child_weight': 5, 'eta': 0.007633392148605234, 'gamma': 0.9336468188371578, 'grow_policy': 'lossguide', 'sample_type': 'uniform', 'normalize_type': 'tree', 'rate_drop': 2.675964151441082e-07, 'skip_drop': 4.92847017324554e-05}. Best is trial 144 with value: 0.956021756021756.\u001b[0m\n",
      "\u001b[32m[I 2021-04-07 14:24:40,022]\u001b[0m Trial 248 finished with value: 0.9527583527583527 and parameters: {'n_estimators': 366, 'learning_rate': 0.4985108966319289, 'booster': 'dart', 'reg_lambda': 2.354132539678911e-06, 'alpha': 4.0676417014121724e-08, 'subsample': 0.9596776293790479, 'colsample_bytree': 0.8835207429795795, 'max_depth': 9, 'min_child_weight': 6, 'eta': 0.003046901727613134, 'gamma': 0.18296443641572005, 'grow_policy': 'lossguide', 'sample_type': 'uniform', 'normalize_type': 'tree', 'rate_drop': 1.5999566941878818e-06, 'skip_drop': 6.2291685419903015e-06}. Best is trial 144 with value: 0.956021756021756.\u001b[0m\n",
      "\u001b[32m[I 2021-04-07 14:24:40,577]\u001b[0m Trial 249 finished with value: 0.9541569541569541 and parameters: {'n_estimators': 335, 'learning_rate': 0.46333502489633543, 'booster': 'dart', 'reg_lambda': 5.3302964581735095e-05, 'alpha': 2.5255314546462592e-08, 'subsample': 0.9678818928021682, 'colsample_bytree': 0.8606522794168042, 'max_depth': 9, 'min_child_weight': 5, 'eta': 0.0022769588900246134, 'gamma': 0.4756570861862946, 'grow_policy': 'lossguide', 'sample_type': 'uniform', 'normalize_type': 'tree', 'rate_drop': 2.418442102744686e-06, 'skip_drop': 4.080719839378245e-06}. Best is trial 144 with value: 0.956021756021756.\u001b[0m\n",
      "\u001b[32m[I 2021-04-07 14:24:41,149]\u001b[0m Trial 250 finished with value: 0.9544677544677544 and parameters: {'n_estimators': 449, 'learning_rate': 0.3714921271889329, 'booster': 'dart', 'reg_lambda': 3.694767245447517e-05, 'alpha': 2.2671744889669317e-08, 'subsample': 0.924370464660679, 'colsample_bytree': 0.9414193260710642, 'max_depth': 9, 'min_child_weight': 5, 'eta': 0.005116974320804412, 'gamma': 0.9974441880014084, 'grow_policy': 'lossguide', 'sample_type': 'uniform', 'normalize_type': 'tree', 'rate_drop': 7.100257321717339e-07, 'skip_drop': 3.426990025802945e-05}. Best is trial 144 with value: 0.956021756021756.\u001b[0m\n",
      "\u001b[32m[I 2021-04-07 14:24:41,676]\u001b[0m Trial 251 finished with value: 0.9544677544677544 and parameters: {'n_estimators': 381, 'learning_rate': 0.41996085367201197, 'booster': 'dart', 'reg_lambda': 3.6992437208265774e-05, 'alpha': 5.000912163853886e-08, 'subsample': 0.8965422857581534, 'colsample_bytree': 0.9121989469503041, 'max_depth': 9, 'min_child_weight': 5, 'eta': 0.004358884455947269, 'gamma': 0.5988797866204526, 'grow_policy': 'lossguide', 'sample_type': 'uniform', 'normalize_type': 'tree', 'rate_drop': 1.1520242112155034e-06, 'skip_drop': 2.8299533937565464e-05}. Best is trial 144 with value: 0.956021756021756.\u001b[0m\n",
      "\u001b[32m[I 2021-04-07 14:24:42,041]\u001b[0m Trial 252 finished with value: 0.9547785547785548 and parameters: {'n_estimators': 412, 'learning_rate': 0.3778024378193903, 'booster': 'dart', 'reg_lambda': 2.0939576728133682e-05, 'alpha': 1.0367524662372607e-08, 'subsample': 0.9452208467525544, 'colsample_bytree': 0.8867557823392114, 'max_depth': 5, 'min_child_weight': 5, 'eta': 0.006550395314604679, 'gamma': 0.6717275615571852, 'grow_policy': 'lossguide', 'sample_type': 'uniform', 'normalize_type': 'tree', 'rate_drop': 3.902674712662545e-07, 'skip_drop': 1.2463295639979764e-05}. Best is trial 144 with value: 0.956021756021756.\u001b[0m\n",
      "\u001b[32m[I 2021-04-07 14:24:42,389]\u001b[0m Trial 253 finished with value: 0.9529137529137529 and parameters: {'n_estimators': 422, 'learning_rate': 0.4984462130212803, 'booster': 'dart', 'reg_lambda': 2.101153749300568e-05, 'alpha': 1.2910156499414721e-08, 'subsample': 0.8783013684257401, 'colsample_bytree': 0.8645174437608265, 'max_depth': 5, 'min_child_weight': 6, 'eta': 0.011424334509286573, 'gamma': 0.3400098243008069, 'grow_policy': 'lossguide', 'sample_type': 'uniform', 'normalize_type': 'tree', 'rate_drop': 3.535506897852597e-07, 'skip_drop': 1.5444675781212834e-06}. Best is trial 144 with value: 0.956021756021756.\u001b[0m\n",
      "\u001b[32m[I 2021-04-07 14:24:42,448]\u001b[0m Trial 254 finished with value: 0.9165501165501165 and parameters: {'n_estimators': 403, 'learning_rate': 0.389007352004321, 'booster': 'gblinear', 'reg_lambda': 2.324894984822018e-05, 'alpha': 1.0236113702299208e-08, 'subsample': 0.911106585744465, 'colsample_bytree': 0.8805529257130554}. Best is trial 144 with value: 0.956021756021756.\u001b[0m\n",
      "\u001b[32m[I 2021-04-07 14:24:42,801]\u001b[0m Trial 255 finished with value: 0.9549339549339549 and parameters: {'n_estimators': 469, 'learning_rate': 0.4283017698940349, 'booster': 'dart', 'reg_lambda': 8.068682159716197e-06, 'alpha': 3.378155940742207e-08, 'subsample': 0.945064142015159, 'colsample_bytree': 0.895735557337632, 'max_depth': 5, 'min_child_weight': 5, 'eta': 0.0013623639109896488, 'gamma': 0.6710905937890433, 'grow_policy': 'lossguide', 'sample_type': 'uniform', 'normalize_type': 'tree', 'rate_drop': 5.042282013209468e-07, 'skip_drop': 1.44120871711205e-05}. Best is trial 144 with value: 0.956021756021756.\u001b[0m\n",
      "\u001b[32m[I 2021-04-07 14:24:43,112]\u001b[0m Trial 256 finished with value: 0.9498057498057498 and parameters: {'n_estimators': 464, 'learning_rate': 0.4280681762687924, 'booster': 'dart', 'reg_lambda': 8.256850379949365e-06, 'alpha': 0.0012366857689761828, 'subsample': 0.9989047950588593, 'colsample_bytree': 0.5379596933119838, 'max_depth': 5, 'min_child_weight': 5, 'eta': 0.0014948925025467183, 'gamma': 0.9856689749578565, 'grow_policy': 'lossguide', 'sample_type': 'uniform', 'normalize_type': 'tree', 'rate_drop': 6.994751752531697e-07, 'skip_drop': 0.5427051552675106}. Best is trial 144 with value: 0.956021756021756.\u001b[0m\n",
      "\u001b[32m[I 2021-04-07 14:24:43,678]\u001b[0m Trial 257 finished with value: 0.9544677544677544 and parameters: {'n_estimators': 464, 'learning_rate': 0.3840529255745514, 'booster': 'dart', 'reg_lambda': 1.2804475730827004e-05, 'alpha': 3.646581270317081e-08, 'subsample': 0.9500663775278618, 'colsample_bytree': 0.8893305265148702, 'max_depth': 9, 'min_child_weight': 5, 'eta': 0.0013383404799993388, 'gamma': 0.6899557916953103, 'grow_policy': 'lossguide', 'sample_type': 'uniform', 'normalize_type': 'tree', 'rate_drop': 4.117753446407981e-07, 'skip_drop': 1.2808260392901485e-05}. Best is trial 144 with value: 0.956021756021756.\u001b[0m\n",
      "\u001b[32m[I 2021-04-07 14:24:44,029]\u001b[0m Trial 258 finished with value: 0.951981351981352 and parameters: {'n_estimators': 501, 'learning_rate': 0.4194852457339764, 'booster': 'dart', 'reg_lambda': 1.5593211546150316e-05, 'alpha': 6.241456032529281e-08, 'subsample': 0.980146282489599, 'colsample_bytree': 0.8639271846449573, 'max_depth': 5, 'min_child_weight': 6, 'eta': 0.000728740527883965, 'gamma': 0.2974325711949891, 'grow_policy': 'lossguide', 'sample_type': 'uniform', 'normalize_type': 'tree', 'rate_drop': 4.849052750737177e-07, 'skip_drop': 6.8763930908030966e-06}. Best is trial 144 with value: 0.956021756021756.\u001b[0m\n",
      "\u001b[32m[I 2021-04-07 14:24:44,387]\u001b[0m Trial 259 finished with value: 0.9526029526029526 and parameters: {'n_estimators': 486, 'learning_rate': 0.4547688297755734, 'booster': 'dart', 'reg_lambda': 2.5347463730940824e-05, 'alpha': 1.308628398672845e-08, 'subsample': 0.9466963893104153, 'colsample_bytree': 0.9019225469964208, 'max_depth': 5, 'min_child_weight': 5, 'eta': 0.0021205706627636057, 'gamma': 0.4546690887716296, 'grow_policy': 'lossguide', 'sample_type': 'uniform', 'normalize_type': 'tree', 'rate_drop': 9.293403766764782e-07, 'skip_drop': 1.21467035267127e-05}. Best is trial 144 with value: 0.956021756021756.\u001b[0m\n",
      "\u001b[32m[I 2021-04-07 14:24:44,673]\u001b[0m Trial 260 finished with value: 0.9513597513597514 and parameters: {'n_estimators': 321, 'learning_rate': 0.4980935922808644, 'booster': 'dart', 'reg_lambda': 3.3777652499068865e-06, 'alpha': 3.169187995453436e-08, 'subsample': 0.9318961569930383, 'colsample_bytree': 0.5928550543713207, 'max_depth': 5, 'min_child_weight': 5, 'eta': 0.0026821563197900744, 'gamma': 0.7038972907871671, 'grow_policy': 'lossguide', 'sample_type': 'uniform', 'normalize_type': 'tree', 'rate_drop': 2.5934866949873193e-07, 'skip_drop': 1.9595530808397285e-05}. Best is trial 144 with value: 0.956021756021756.\u001b[0m\n",
      "\u001b[32m[I 2021-04-07 14:24:45,045]\u001b[0m Trial 261 finished with value: 0.9524475524475524 and parameters: {'n_estimators': 439, 'learning_rate': 0.37181173241958276, 'booster': 'dart', 'reg_lambda': 6.35927648857673e-06, 'alpha': 1.2334565566924642e-05, 'subsample': 0.9688369699999657, 'colsample_bytree': 0.9159200670986216, 'max_depth': 5, 'min_child_weight': 5, 'eta': 0.007890676928343868, 'gamma': 0.36704471217036766, 'grow_policy': 'lossguide', 'sample_type': 'uniform', 'normalize_type': 'tree', 'rate_drop': 6.624682948449117e-06, 'skip_drop': 8.882565209466695e-06}. Best is trial 144 with value: 0.956021756021756.\u001b[0m\n",
      "\u001b[32m[I 2021-04-07 14:24:45,392]\u001b[0m Trial 262 finished with value: 0.9535353535353536 and parameters: {'n_estimators': 392, 'learning_rate': 0.4677150996908905, 'booster': 'dart', 'reg_lambda': 8.649402403166581e-06, 'alpha': 1.8500746447391503e-08, 'subsample': 0.891488936039905, 'colsample_bytree': 0.8828089250329917, 'max_depth': 5, 'min_child_weight': 5, 'eta': 0.0010804114955526322, 'gamma': 0.4985815230836225, 'grow_policy': 'lossguide', 'sample_type': 'uniform', 'normalize_type': 'tree', 'rate_drop': 1.6040318061731774e-06, 'skip_drop': 6.457514364700606e-05}. Best is trial 144 with value: 0.956021756021756.\u001b[0m\n",
      "\u001b[32m[I 2021-04-07 14:24:45,954]\u001b[0m Trial 263 finished with value: 0.954001554001554 and parameters: {'n_estimators': 356, 'learning_rate': 0.46036362765861466, 'booster': 'dart', 'reg_lambda': 4.7463237773272986e-06, 'alpha': 4.341740253989196e-08, 'subsample': 0.9140141426997591, 'colsample_bytree': 0.9213903763231645, 'max_depth': 9, 'min_child_weight': 5, 'eta': 0.0035818072483567867, 'gamma': 0.23832890391387015, 'grow_policy': 'lossguide', 'sample_type': 'uniform', 'normalize_type': 'tree', 'rate_drop': 2.092042445772707e-06, 'skip_drop': 3.334921104430148e-06}. Best is trial 144 with value: 0.956021756021756.\u001b[0m\n",
      "\u001b[32m[I 2021-04-07 14:24:46,313]\u001b[0m Trial 264 finished with value: 0.9530691530691531 and parameters: {'n_estimators': 420, 'learning_rate': 0.40493280117074515, 'booster': 'dart', 'reg_lambda': 5.80790016871551e-05, 'alpha': 2.611804370562192e-08, 'subsample': 0.9524704875997823, 'colsample_bytree': 0.8989335798431214, 'max_depth': 5, 'min_child_weight': 5, 'eta': 0.00595710360292865, 'gamma': 0.537238315757736, 'grow_policy': 'depthwise', 'sample_type': 'uniform', 'normalize_type': 'tree', 'rate_drop': 5.847762526446406e-07, 'skip_drop': 0.19392452902901217}. Best is trial 144 with value: 0.956021756021756.\u001b[0m\n",
      "\u001b[32m[I 2021-04-07 14:24:46,828]\u001b[0m Trial 265 finished with value: 0.9526029526029526 and parameters: {'n_estimators': 334, 'learning_rate': 0.49861961183891945, 'booster': 'dart', 'reg_lambda': 9.831232480435982e-06, 'alpha': 2.61176333183499e-05, 'subsample': 0.8653646096841233, 'colsample_bytree': 0.8550628070133975, 'max_depth': 9, 'min_child_weight': 5, 'eta': 0.001759524213670276, 'gamma': 0.9616838850638644, 'grow_policy': 'lossguide', 'sample_type': 'uniform', 'normalize_type': 'tree', 'rate_drop': 3.66091271330288e-06, 'skip_drop': 8.521014843926222e-05}. Best is trial 144 with value: 0.956021756021756.\u001b[0m\n",
      "\u001b[32m[I 2021-04-07 14:24:47,367]\u001b[0m Trial 266 finished with value: 0.9532245532245532 and parameters: {'n_estimators': 381, 'learning_rate': 0.44168859794969995, 'booster': 'dart', 'reg_lambda': 2.4432634560158357e-06, 'alpha': 6.154943796395265e-08, 'subsample': 0.882884854792995, 'colsample_bytree': 0.9070304696448513, 'max_depth': 9, 'min_child_weight': 5, 'eta': 0.002498489806884893, 'gamma': 0.28514356936528584, 'grow_policy': 'lossguide', 'sample_type': 'uniform', 'normalize_type': 'tree', 'rate_drop': 1.1587083675642637e-06, 'skip_drop': 5.356819764852031e-06}. Best is trial 144 with value: 0.956021756021756.\u001b[0m\n",
      "\u001b[32m[I 2021-04-07 14:24:47,723]\u001b[0m Trial 267 finished with value: 0.9505827505827505 and parameters: {'n_estimators': 414, 'learning_rate': 0.04872545830543071, 'booster': 'dart', 'reg_lambda': 6.415737471752014e-06, 'alpha': 1.1051798643238657e-08, 'subsample': 0.9234514705048923, 'colsample_bytree': 0.8862779088343999, 'max_depth': 5, 'min_child_weight': 5, 'eta': 0.010146438590705685, 'gamma': 0.3654553367701506, 'grow_policy': 'lossguide', 'sample_type': 'uniform', 'normalize_type': 'tree', 'rate_drop': 3.0188585341405295e-07, 'skip_drop': 2.0174726384712752e-05}. Best is trial 144 with value: 0.956021756021756.\u001b[0m\n",
      "\u001b[32m[I 2021-04-07 14:24:48,200]\u001b[0m Trial 268 finished with value: 0.9527583527583527 and parameters: {'n_estimators': 452, 'learning_rate': 0.3787806474327319, 'booster': 'dart', 'reg_lambda': 1.4301403345831902e-05, 'alpha': 2.4682516210336566e-08, 'subsample': 0.9706388237511295, 'colsample_bytree': 0.8714768708753533, 'max_depth': 7, 'min_child_weight': 5, 'eta': 0.0035748027740140267, 'gamma': 0.7093291966688593, 'grow_policy': 'lossguide', 'sample_type': 'uniform', 'normalize_type': 'tree', 'rate_drop': 7.919747992593882e-07, 'skip_drop': 1.4423829106448806e-05}. Best is trial 144 with value: 0.956021756021756.\u001b[0m\n",
      "\u001b[32m[I 2021-04-07 14:24:48,554]\u001b[0m Trial 269 finished with value: 0.951048951048951 and parameters: {'n_estimators': 355, 'learning_rate': 0.3522139196075121, 'booster': 'dart', 'reg_lambda': 4.015360418110358e-06, 'alpha': 4.295614828510064e-08, 'subsample': 0.9489139219167287, 'colsample_bytree': 0.8421065317139894, 'max_depth': 5, 'min_child_weight': 10, 'eta': 0.001811828851014475, 'gamma': 0.939401152277729, 'grow_policy': 'lossguide', 'sample_type': 'uniform', 'normalize_type': 'tree', 'rate_drop': 4.13260911482173e-07, 'skip_drop': 7.1992512761493545e-06}. Best is trial 144 with value: 0.956021756021756.\u001b[0m\n",
      "\u001b[32m[I 2021-04-07 14:24:49,109]\u001b[0m Trial 270 finished with value: 0.9555555555555556 and parameters: {'n_estimators': 396, 'learning_rate': 0.421109955996145, 'booster': 'dart', 'reg_lambda': 3.0932709327550427e-05, 'alpha': 1.627749313966482e-08, 'subsample': 0.9378385476443754, 'colsample_bytree': 0.931951395543225, 'max_depth': 9, 'min_child_weight': 5, 'eta': 0.006219342833448282, 'gamma': 0.23535849420489746, 'grow_policy': 'lossguide', 'sample_type': 'uniform', 'normalize_type': 'tree', 'rate_drop': 4.576184743620901e-06, 'skip_drop': 1.0493692123323175e-05}. Best is trial 144 with value: 0.956021756021756.\u001b[0m\n",
      "\u001b[32m[I 2021-04-07 14:24:49,670]\u001b[0m Trial 271 finished with value: 0.9544677544677544 and parameters: {'n_estimators': 433, 'learning_rate': 0.4000591128425085, 'booster': 'dart', 'reg_lambda': 3.404325929657466e-05, 'alpha': 3.102599547639704e-08, 'subsample': 0.9381941816193584, 'colsample_bytree': 0.9333299473779466, 'max_depth': 9, 'min_child_weight': 5, 'eta': 0.00713122204673739, 'gamma': 0.15083887111864022, 'grow_policy': 'lossguide', 'sample_type': 'uniform', 'normalize_type': 'tree', 'rate_drop': 5.216612183448125e-06, 'skip_drop': 1.0819090487354356e-05}. Best is trial 144 with value: 0.956021756021756.\u001b[0m\n",
      "\u001b[32m[I 2021-04-07 14:24:50,240]\u001b[0m Trial 272 finished with value: 0.9546231546231546 and parameters: {'n_estimators': 311, 'learning_rate': 0.4334187196292446, 'booster': 'dart', 'reg_lambda': 2.0616910387892805e-06, 'alpha': 1.7105780749944076e-08, 'subsample': 0.9822565132473897, 'colsample_bytree': 0.9019362582214395, 'max_depth': 9, 'min_child_weight': 5, 'eta': 0.24721144667459322, 'gamma': 0.23018544855786818, 'grow_policy': 'lossguide', 'sample_type': 'uniform', 'normalize_type': 'tree', 'rate_drop': 2.2429551614665714e-06, 'skip_drop': 4.835874112556908e-06}. Best is trial 144 with value: 0.956021756021756.\u001b[0m\n",
      "\u001b[32m[I 2021-04-07 14:24:50,489]\u001b[0m Trial 273 finished with value: 0.9522921522921522 and parameters: {'n_estimators': 402, 'learning_rate': 0.3633683851438427, 'booster': 'dart', 'reg_lambda': 1.9232885910544656e-05, 'alpha': 1.4836678782942356e-08, 'subsample': 0.9613386805346201, 'colsample_bytree': 0.8526361032970619, 'max_depth': 3, 'min_child_weight': 6, 'eta': 0.01724769545852329, 'gamma': 0.19568524185261, 'grow_policy': 'lossguide', 'sample_type': 'uniform', 'normalize_type': 'tree', 'rate_drop': 4.02955962237126e-06, 'skip_drop': 1.6876527252392942e-05}. Best is trial 144 with value: 0.956021756021756.\u001b[0m\n",
      "\u001b[32m[I 2021-04-07 14:24:51,038]\u001b[0m Trial 274 finished with value: 0.9513597513597514 and parameters: {'n_estimators': 380, 'learning_rate': 0.49953995609392515, 'booster': 'dart', 'reg_lambda': 5.120499536214673e-05, 'alpha': 2.0604416072156802e-08, 'subsample': 0.9052633674596291, 'colsample_bytree': 0.9209557047002979, 'max_depth': 9, 'min_child_weight': 5, 'eta': 0.0036652244852757965, 'gamma': 0.4585878735221005, 'grow_policy': 'lossguide', 'sample_type': 'uniform', 'normalize_type': 'tree', 'rate_drop': 0.7266957062616146, 'skip_drop': 4.2375525600647e-05}. Best is trial 144 with value: 0.956021756021756.\u001b[0m\n",
      "\u001b[32m[I 2021-04-07 14:24:51,578]\u001b[0m Trial 275 finished with value: 0.9541569541569541 and parameters: {'n_estimators': 389, 'learning_rate': 0.4552065769320755, 'booster': 'dart', 'reg_lambda': 2.9099126778209354e-05, 'alpha': 1.0157468917529287e-08, 'subsample': 0.9211690247555879, 'colsample_bytree': 0.9304088533512022, 'max_depth': 9, 'min_child_weight': 5, 'eta': 0.004634486721258815, 'gamma': 0.32808890138776725, 'grow_policy': 'lossguide', 'sample_type': 'uniform', 'normalize_type': 'tree', 'rate_drop': 1.5097112072094702e-06, 'skip_drop': 2.704403212811941e-05}. Best is trial 144 with value: 0.956021756021756.\u001b[0m\n",
      "\u001b[32m[I 2021-04-07 14:24:52,114]\u001b[0m Trial 276 finished with value: 0.9535353535353536 and parameters: {'n_estimators': 416, 'learning_rate': 0.49801534627326005, 'booster': 'dart', 'reg_lambda': 4.574247888424037e-05, 'alpha': 1.017998510825197e-08, 'subsample': 0.927653139457257, 'colsample_bytree': 0.8891087136712729, 'max_depth': 9, 'min_child_weight': 5, 'eta': 0.0011239513837353016, 'gamma': 0.5910689435256516, 'grow_policy': 'lossguide', 'sample_type': 'uniform', 'normalize_type': 'tree', 'rate_drop': 5.295589331723517e-07, 'skip_drop': 1.1516283660320752e-05}. Best is trial 144 with value: 0.956021756021756.\u001b[0m\n",
      "\u001b[32m[I 2021-04-07 14:24:52,657]\u001b[0m Trial 277 finished with value: 0.9541569541569541 and parameters: {'n_estimators': 355, 'learning_rate': 0.417041159380057, 'booster': 'dart', 'reg_lambda': 3.0851970519411727e-06, 'alpha': 5.038922220908986e-08, 'subsample': 0.8718063220125263, 'colsample_bytree': 0.9087512943103173, 'max_depth': 9, 'min_child_weight': 5, 'eta': 0.002490464584048616, 'gamma': 4.560523237305565e-05, 'grow_policy': 'lossguide', 'sample_type': 'uniform', 'normalize_type': 'tree', 'rate_drop': 7.211145746478166e-06, 'skip_drop': 0.13282507263200394}. Best is trial 144 with value: 0.956021756021756.\u001b[0m\n",
      "\u001b[32m[I 2021-04-07 14:24:53,241]\u001b[0m Trial 278 finished with value: 0.9546231546231546 and parameters: {'n_estimators': 357, 'learning_rate': 0.4633839545139111, 'booster': 'dart', 'reg_lambda': 6.317810529907825e-06, 'alpha': 3.3998681568006106e-08, 'subsample': 0.9970387324697573, 'colsample_bytree': 0.9501490912690409, 'max_depth': 9, 'min_child_weight': 5, 'eta': 0.013820756594436167, 'gamma': 0.22875834907714088, 'grow_policy': 'lossguide', 'sample_type': 'uniform', 'normalize_type': 'tree', 'rate_drop': 1.4978136811249126e-05, 'skip_drop': 2.5705220308680727e-06}. Best is trial 144 with value: 0.956021756021756.\u001b[0m\n",
      "\u001b[32m[I 2021-04-07 14:24:53,797]\u001b[0m Trial 279 finished with value: 0.9524475524475524 and parameters: {'n_estimators': 332, 'learning_rate': 0.4184402578770631, 'booster': 'dart', 'reg_lambda': 1.0897411170848846e-05, 'alpha': 7.310338305621697e-08, 'subsample': 0.9431133298270027, 'colsample_bytree': 0.8773179074278626, 'max_depth': 9, 'min_child_weight': 5, 'eta': 0.008498740373103206, 'gamma': 0.7918251671392028, 'grow_policy': 'lossguide', 'sample_type': 'uniform', 'normalize_type': 'tree', 'rate_drop': 2.7977413012200343e-06, 'skip_drop': 6.3861906596864694e-06}. Best is trial 144 with value: 0.956021756021756.\u001b[0m\n",
      "\u001b[32m[I 2021-04-07 14:24:54,348]\u001b[0m Trial 280 finished with value: 0.9532245532245532 and parameters: {'n_estimators': 375, 'learning_rate': 0.42661077954438503, 'booster': 'dart', 'reg_lambda': 3.914665280521714e-06, 'alpha': 1.6573193966456802e-08, 'subsample': 0.9593358572503179, 'colsample_bytree': 0.8999045052883943, 'max_depth': 9, 'min_child_weight': 6, 'eta': 0.0007178123504925333, 'gamma': 0.7088685414091476, 'grow_policy': 'lossguide', 'sample_type': 'uniform', 'normalize_type': 'tree', 'rate_drop': 1.1273093922400737e-06, 'skip_drop': 8.388870797546687e-06}. Best is trial 144 with value: 0.956021756021756.\u001b[0m\n",
      "\u001b[32m[I 2021-04-07 14:24:54,867]\u001b[0m Trial 281 finished with value: 0.9526029526029526 and parameters: {'n_estimators': 447, 'learning_rate': 0.4976151958372161, 'booster': 'gbtree', 'reg_lambda': 7.184699966346094e-05, 'alpha': 1.0398733831812344e-08, 'subsample': 0.9362484715639062, 'colsample_bytree': 0.9219407524043115, 'max_depth': 9, 'min_child_weight': 5, 'eta': 0.0016043125160120407, 'gamma': 0.5994525632345059, 'grow_policy': 'lossguide'}. Best is trial 144 with value: 0.956021756021756.\u001b[0m\n",
      "\u001b[32m[I 2021-04-07 14:24:55,406]\u001b[0m Trial 282 finished with value: 0.9526029526029526 and parameters: {'n_estimators': 405, 'learning_rate': 0.4575981211284356, 'booster': 'dart', 'reg_lambda': 2.496149285803072e-05, 'alpha': 1.5103604877885554e-08, 'subsample': 0.9036573482010932, 'colsample_bytree': 0.891067228778289, 'max_depth': 9, 'min_child_weight': 5, 'eta': 0.004529053450266386, 'gamma': 0.9862407730920288, 'grow_policy': 'lossguide', 'sample_type': 'uniform', 'normalize_type': 'tree', 'rate_drop': 1.4039537076493401e-07, 'skip_drop': 0.00011189815975768354}. Best is trial 144 with value: 0.956021756021756.\u001b[0m\n",
      "\u001b[32m[I 2021-04-07 14:24:55,464]\u001b[0m Trial 283 finished with value: 0.9235431235431235 and parameters: {'n_estimators': 963, 'learning_rate': 0.4973642424017954, 'booster': 'gblinear', 'reg_lambda': 5.912622650050684e-06, 'alpha': 2.417191075498371e-08, 'subsample': 0.8957872505249852, 'colsample_bytree': 0.95860268909266}. Best is trial 144 with value: 0.956021756021756.\u001b[0m\n",
      "\u001b[32m[I 2021-04-07 14:24:56,032]\u001b[0m Trial 284 finished with value: 0.9533799533799534 and parameters: {'n_estimators': 302, 'learning_rate': 0.39741212889095673, 'booster': 'dart', 'reg_lambda': 1.032674607386113e-05, 'alpha': 5.025646283367135e-06, 'subsample': 0.9556818814299325, 'colsample_bytree': 0.8686058155347786, 'max_depth': 9, 'min_child_weight': 4, 'eta': 0.0062754520710145865, 'gamma': 0.9770252431784537, 'grow_policy': 'lossguide', 'sample_type': 'uniform', 'normalize_type': 'tree', 'rate_drop': 7.3417475335917464e-06, 'skip_drop': 1.5692717936076577e-05}. Best is trial 144 with value: 0.956021756021756.\u001b[0m\n",
      "\u001b[32m[I 2021-04-07 14:24:56,589]\u001b[0m Trial 285 finished with value: 0.9552447552447553 and parameters: {'n_estimators': 386, 'learning_rate': 0.3700263410420465, 'booster': 'dart', 'reg_lambda': 2.1301546470542917e-06, 'alpha': 3.7680590585632703e-08, 'subsample': 0.913197111181224, 'colsample_bytree': 0.9189699278894508, 'max_depth': 9, 'min_child_weight': 5, 'eta': 0.0035190516839646783, 'gamma': 0.4110282565188102, 'grow_policy': 'lossguide', 'sample_type': 'uniform', 'normalize_type': 'tree', 'rate_drop': 4.027348594473403e-06, 'skip_drop': 2.574992626662148e-05}. Best is trial 144 with value: 0.956021756021756.\u001b[0m\n",
      "\u001b[32m[I 2021-04-07 14:24:57,156]\u001b[0m Trial 286 finished with value: 0.9527583527583527 and parameters: {'n_estimators': 338, 'learning_rate': 0.3450578153345262, 'booster': 'dart', 'reg_lambda': 1.833110566952184e-06, 'alpha': 4.337208965309526e-08, 'subsample': 0.9823674677650182, 'colsample_bytree': 0.8230062892887516, 'max_depth': 9, 'min_child_weight': 6, 'eta': 0.003303663217470791, 'gamma': 0.32129194735981365, 'grow_policy': 'lossguide', 'sample_type': 'uniform', 'normalize_type': 'tree', 'rate_drop': 4.820507670745889e-06, 'skip_drop': 2.622753395166963e-05}. Best is trial 144 with value: 0.956021756021756.\u001b[0m\n",
      "\u001b[32m[I 2021-04-07 14:24:57,729]\u001b[0m Trial 287 finished with value: 0.9529137529137529 and parameters: {'n_estimators': 425, 'learning_rate': 0.3621671196860388, 'booster': 'dart', 'reg_lambda': 2.2852825367055066e-06, 'alpha': 1.0289498026598349e-08, 'subsample': 0.9167060007339832, 'colsample_bytree': 0.9304704355099239, 'max_depth': 9, 'min_child_weight': 5, 'eta': 0.004865784003881932, 'gamma': 0.43005148545899313, 'grow_policy': 'lossguide', 'sample_type': 'uniform', 'normalize_type': 'tree', 'rate_drop': 2.15370544520883e-07, 'skip_drop': 2.6391614998950087e-05}. Best is trial 144 with value: 0.956021756021756.\u001b[0m\n",
      "\u001b[32m[I 2021-04-07 14:24:58,302]\u001b[0m Trial 288 finished with value: 0.9541569541569541 and parameters: {'n_estimators': 352, 'learning_rate': 0.329860141876338, 'booster': 'dart', 'reg_lambda': 2.9922814931848804e-06, 'alpha': 6.789679667235248e-08, 'subsample': 0.8920892588880509, 'colsample_bytree': 0.9126409598868637, 'max_depth': 9, 'min_child_weight': 5, 'eta': 0.0022780522765188725, 'gamma': 0.1332123058174543, 'grow_policy': 'lossguide', 'sample_type': 'uniform', 'normalize_type': 'tree', 'rate_drop': 2.573547296100182e-06, 'skip_drop': 3.982732083543353e-06}. Best is trial 144 with value: 0.956021756021756.\u001b[0m\n",
      "\u001b[32m[I 2021-04-07 14:24:58,854]\u001b[0m Trial 289 finished with value: 0.9547785547785548 and parameters: {'n_estimators': 371, 'learning_rate': 0.4308982935600003, 'booster': 'dart', 'reg_lambda': 4.214919530593533e-06, 'alpha': 2.797752362571522e-08, 'subsample': 0.8640411334880517, 'colsample_bytree': 0.9404383443552957, 'max_depth': 9, 'min_child_weight': 4, 'eta': 0.0012935921953945142, 'gamma': 0.41918503188372613, 'grow_policy': 'lossguide', 'sample_type': 'uniform', 'normalize_type': 'tree', 'rate_drop': 1.7671293240810274e-06, 'skip_drop': 0.00024852943853589487}. Best is trial 144 with value: 0.956021756021756.\u001b[0m\n",
      "\u001b[32m[I 2021-04-07 14:24:59,426]\u001b[0m Trial 290 finished with value: 0.9549339549339549 and parameters: {'n_estimators': 476, 'learning_rate': 0.3860646370759629, 'booster': 'dart', 'reg_lambda': 1.6106309216180636e-06, 'alpha': 3.993525254459498e-05, 'subsample': 0.9371308039670846, 'colsample_bytree': 0.9121955999648538, 'max_depth': 9, 'min_child_weight': 5, 'eta': 0.003258051603759216, 'gamma': 0.2427754937713209, 'grow_policy': 'lossguide', 'sample_type': 'uniform', 'normalize_type': 'tree', 'rate_drop': 4.521595615619076e-06, 'skip_drop': 4.0940125944011226e-05}. Best is trial 144 with value: 0.956021756021756.\u001b[0m\n",
      "\u001b[32m[I 2021-04-07 14:24:59,969]\u001b[0m Trial 291 finished with value: 0.9533799533799534 and parameters: {'n_estimators': 522, 'learning_rate': 0.4607510501719778, 'booster': 'dart', 'reg_lambda': 1.4301525820177634e-06, 'alpha': 9.06026918728268e-05, 'subsample': 0.93271053717417, 'colsample_bytree': 0.9130320232353385, 'max_depth': 9, 'min_child_weight': 5, 'eta': 0.11059167328083554, 'gamma': 0.18099925122757468, 'grow_policy': 'lossguide', 'sample_type': 'uniform', 'normalize_type': 'tree', 'rate_drop': 4.406037204805282e-06, 'skip_drop': 4.86967197472237e-05}. Best is trial 144 with value: 0.956021756021756.\u001b[0m\n",
      "\u001b[32m[I 2021-04-07 14:25:00,543]\u001b[0m Trial 292 finished with value: 0.9532245532245532 and parameters: {'n_estimators': 482, 'learning_rate': 0.3876990146932914, 'booster': 'dart', 'reg_lambda': 1.913203420573447e-06, 'alpha': 0.00017238674761174447, 'subsample': 0.9995944527157096, 'colsample_bytree': 0.9306728511716559, 'max_depth': 9, 'min_child_weight': 5, 'eta': 0.002861912832200098, 'gamma': 0.28285428403945123, 'grow_policy': 'lossguide', 'sample_type': 'uniform', 'normalize_type': 'tree', 'rate_drop': 1.12549738449221e-05, 'skip_drop': 1.8993657278145105e-05}. Best is trial 144 with value: 0.956021756021756.\u001b[0m\n",
      "\u001b[32m[I 2021-04-07 14:25:01,088]\u001b[0m Trial 293 finished with value: 0.9536907536907537 and parameters: {'n_estimators': 492, 'learning_rate': 0.3933538324736215, 'booster': 'dart', 'reg_lambda': 2.467645304793421e-06, 'alpha': 0.000689733907012441, 'subsample': 0.9427422705538501, 'colsample_bytree': 0.9001341818737149, 'max_depth': 9, 'min_child_weight': 5, 'eta': 0.0018920525443787267, 'gamma': 0.1050731001334394, 'grow_policy': 'lossguide', 'sample_type': 'uniform', 'normalize_type': 'tree', 'rate_drop': 6.687787121653459e-07, 'skip_drop': 1.1568701323985948e-05}. Best is trial 144 with value: 0.956021756021756.\u001b[0m\n",
      "\u001b[32m[I 2021-04-07 14:25:01,465]\u001b[0m Trial 294 finished with value: 0.9527583527583527 and parameters: {'n_estimators': 460, 'learning_rate': 0.3388290085875577, 'booster': 'dart', 'reg_lambda': 1.3047263843270229e-06, 'alpha': 3.788466598856578e-08, 'subsample': 0.9681038904719879, 'colsample_bytree': 0.8793450603654005, 'max_depth': 5, 'min_child_weight': 5, 'eta': 0.010277550700266699, 'gamma': 0.23598556507125829, 'grow_policy': 'depthwise', 'sample_type': 'uniform', 'normalize_type': 'tree', 'rate_drop': 8.296379303162453e-06, 'skip_drop': 1.3175146947882919e-05}. Best is trial 144 with value: 0.956021756021756.\u001b[0m\n",
      "\u001b[32m[I 2021-04-07 14:25:02,028]\u001b[0m Trial 295 finished with value: 0.9543123543123543 and parameters: {'n_estimators': 443, 'learning_rate': 0.36696754579083846, 'booster': 'dart', 'reg_lambda': 3.659580244327037e-05, 'alpha': 1.8024731223395594e-08, 'subsample': 0.9256248933430264, 'colsample_bytree': 0.8900287138190951, 'max_depth': 9, 'min_child_weight': 5, 'eta': 0.003569650484056833, 'gamma': 0.3805820838414603, 'grow_policy': 'lossguide', 'sample_type': 'uniform', 'normalize_type': 'tree', 'rate_drop': 5.556358195094667e-06, 'skip_drop': 3.5864359141427265e-05}. Best is trial 144 with value: 0.956021756021756.\u001b[0m\n",
      "\u001b[32m[I 2021-04-07 14:25:02,608]\u001b[0m Trial 296 finished with value: 0.9507381507381507 and parameters: {'n_estimators': 473, 'learning_rate': 0.012708804189270017, 'booster': 'dart', 'reg_lambda': 6.220696770171953e-05, 'alpha': 5.322487160416424e-05, 'subsample': 0.952764678822361, 'colsample_bytree': 0.8521781948031851, 'max_depth': 9, 'min_child_weight': 5, 'eta': 0.006432343010358672, 'gamma': 0.23771211585443944, 'grow_policy': 'lossguide', 'sample_type': 'uniform', 'normalize_type': 'tree', 'rate_drop': 3.138253720314304e-06, 'skip_drop': 9.282145574227154e-06}. Best is trial 144 with value: 0.956021756021756.\u001b[0m\n",
      "\u001b[32m[I 2021-04-07 14:25:03,157]\u001b[0m Trial 297 finished with value: 0.9512043512043512 and parameters: {'n_estimators': 392, 'learning_rate': 0.4561813511231253, 'booster': 'gbtree', 'reg_lambda': 2.7595031935561166e-06, 'alpha': 2.4680711450789897e-08, 'subsample': 0.9108222154961136, 'colsample_bytree': 0.9561564658394368, 'max_depth': 9, 'min_child_weight': 5, 'eta': 0.004509081621958437, 'gamma': 0.5070956910474536, 'grow_policy': 'lossguide'}. Best is trial 144 with value: 0.956021756021756.\u001b[0m\n",
      "\u001b[32m[I 2021-04-07 14:25:03,701]\u001b[0m Trial 298 finished with value: 0.9544677544677544 and parameters: {'n_estimators': 331, 'learning_rate': 0.41728090068942225, 'booster': 'dart', 'reg_lambda': 4.029832795507443e-06, 'alpha': 5.0476348981987146e-08, 'subsample': 0.9636623105504866, 'colsample_bytree': 0.8389324670285677, 'max_depth': 9, 'min_child_weight': 6, 'eta': 0.003065699736509921, 'gamma': 0.133852902525054, 'grow_policy': 'lossguide', 'sample_type': 'uniform', 'normalize_type': 'tree', 'rate_drop': 3.941805193500061e-06, 'skip_drop': 0.30935804633925773}. Best is trial 144 with value: 0.956021756021756.\u001b[0m\n",
      "\u001b[32m[I 2021-04-07 14:25:04,257]\u001b[0m Trial 299 finished with value: 0.9518259518259519 and parameters: {'n_estimators': 414, 'learning_rate': 0.4975023874900651, 'booster': 'dart', 'reg_lambda': 1.396080052347694e-06, 'alpha': 1.3259387847796272e-08, 'subsample': 0.9335297025939454, 'colsample_bytree': 0.9144333618118818, 'max_depth': 9, 'min_child_weight': 5, 'eta': 0.005827037910118206, 'gamma': 0.5903878513586567, 'grow_policy': 'lossguide', 'sample_type': 'uniform', 'normalize_type': 'tree', 'rate_drop': 7.216773762611563e-06, 'skip_drop': 3.73352436824413e-05}. Best is trial 144 with value: 0.956021756021756.\u001b[0m\n"
     ]
    },
    {
     "name": "stdout",
     "output_type": "stream",
     "text": [
      "Number of finished trials: 300\n",
      "Best trial: {'n_estimators': 690, 'learning_rate': 0.3917114986734955, 'booster': 'gbtree', 'reg_lambda': 1.9040011449212134e-05, 'alpha': 2.594111166350005e-08, 'subsample': 0.997522324526165, 'colsample_bytree': 0.817500760413142, 'max_depth': 9, 'min_child_weight': 2, 'eta': 0.037409157001123794, 'gamma': 0.013127896580127005, 'grow_policy': 'lossguide'}\n",
      "CPU times: user 16min 44s, sys: 1min 4s, total: 17min 48s\n",
      "Wall time: 2min 21s\n"
     ]
    }
   ],
   "source": [
    "%%time\n",
    "def objective(trial):\n",
    "    train_x, valid_x, train_y, valid_y = train_test_split(all_feats, data['label'], \n",
    "                                                test_size = 0.2, \n",
    "                                                random_state = 35)\n",
    "    dtrain = xgb.DMatrix(train_x, label=train_y)\n",
    "    dvalid = xgb.DMatrix(valid_x, label=valid_y)\n",
    "\n",
    "    param = {\n",
    "        \"verbosity\": 0,\n",
    "        \"objective\": \"binary:logistic\",\n",
    "        \"eval_metric\": \"auc\",\n",
    "        \"n_estimators\": trial.suggest_int(\"n_estimators\", 0, 1000),\n",
    "        \"learning_rate\": trial.suggest_loguniform(\"learning_rate\", 0.005, 0.5),\n",
    "        \"nthread\": -1,\n",
    "        # use exact for small dataset.\n",
    "        \"tree_method\": \"exact\",\n",
    "        # defines booster, gblinear for linear functions.\n",
    "        \"booster\": trial.suggest_categorical(\"booster\", [\"gbtree\", \"gblinear\", \"dart\"]),\n",
    "        # L2 regularization weight.\n",
    "        \"reg_lambda\": trial.suggest_float(\"reg_lambda\", 1e-8, 1.0, log=True),\n",
    "        # L1 regularization weight.\n",
    "        \"alpha\": trial.suggest_float(\"alpha\", 1e-8, 1.0, log=True),\n",
    "        # sampling ratio for training data.\n",
    "        \"subsample\": trial.suggest_float(\"subsample\", 0.2, 1.0),\n",
    "        # sampling according to each tree.\n",
    "        \"colsample_bytree\": trial.suggest_float(\"colsample_bytree\", 0.2, 1.0),\n",
    "    }\n",
    "\n",
    "    if param[\"booster\"] in [\"gbtree\", \"dart\"]:\n",
    "        # maximum depth of the tree, signifies complexity of the tree.\n",
    "        param[\"max_depth\"] = trial.suggest_int(\"max_depth\", 3, 9, step=2)\n",
    "        # minimum child weight, larger the term more conservative the tree.\n",
    "        param[\"min_child_weight\"] = trial.suggest_int(\"min_child_weight\", 2, 10)\n",
    "        param[\"eta\"] = trial.suggest_float(\"eta\", 1e-8, 1.0, log=True)\n",
    "        # defines how selective algorithm is.\n",
    "        param[\"gamma\"] = trial.suggest_float(\"gamma\", 1e-8, 1.0, log=True)\n",
    "        param[\"grow_policy\"] = trial.suggest_categorical(\"grow_policy\", [\"depthwise\", \"lossguide\"])\n",
    "\n",
    "    if param[\"booster\"] == \"dart\":\n",
    "        param[\"sample_type\"] = trial.suggest_categorical(\"sample_type\", [\"uniform\", \"weighted\"])\n",
    "        param[\"normalize_type\"] = trial.suggest_categorical(\"normalize_type\", [\"tree\", \"forest\"])\n",
    "        param[\"rate_drop\"] = trial.suggest_float(\"rate_drop\", 1e-8, 1.0, log=True)\n",
    "        param[\"skip_drop\"] = trial.suggest_float(\"skip_drop\", 1e-8, 1.0, log=True)\n",
    "\n",
    "    bst = xgb.train(param, dtrain)\n",
    "    preds = bst.predict(dvalid)\n",
    "    pred_labels = np.rint(preds)\n",
    "    accuracy = accuracy_score(valid_y, pred_labels)\n",
    "    return accuracy\n",
    "\n",
    "study = optuna.create_study(direction=\"maximize\")\n",
    "study.optimize(objective, n_trials=300, timeout=600)\n",
    "\n",
    "print('Number of finished trials:', len(study.trials))\n",
    "print('Best trial:', study.best_trial.params)"
   ]
  },
  {
   "cell_type": "code",
   "execution_count": 104,
   "metadata": {},
   "outputs": [],
   "source": [
    "x_train, x_test, y_train, y_test = train_test_split(all_feats, data['label'], \n",
    "                                                test_size = 0.2, \n",
    "                                                random_state = 35)"
   ]
  },
  {
   "cell_type": "code",
   "execution_count": 105,
   "metadata": {},
   "outputs": [],
   "source": [
    "clf = XGBClassifier(\n",
    "    n_estimators= 690, \n",
    "    learning_rate= 0.3917114986734955, \n",
    "    booster= 'gbtree', \n",
    "    reg_lambda= 1.9040011449212134e-05, \n",
    "    alpha= 2.594111166350005e-08, \n",
    "    subsample= 0.997522324526165, \n",
    "    colsample_bytree= 0.817500760413142, \n",
    "    max_depth= 9, \n",
    "    min_child_weight= 2, \n",
    "    eta= 0.037409157001123794, \n",
    "    gamma= 0.013127896580127005, \n",
    "    grow_policy= 'lossguide')"
   ]
  },
  {
   "cell_type": "code",
   "execution_count": 106,
   "metadata": {},
   "outputs": [
    {
     "name": "stderr",
     "output_type": "stream",
     "text": [
      "/usr/local/Caskroom/miniconda/base/envs/smlproj/lib/python3.8/site-packages/xgboost/sklearn.py:888: UserWarning: The use of label encoder in XGBClassifier is deprecated and will be removed in a future release. To remove this warning, do the following: 1) Pass option use_label_encoder=False when constructing XGBClassifier object; and 2) Encode your labels (y) as integers starting with 0, i.e. 0, 1, 2, ..., [num_class - 1].\n",
      "  warnings.warn(label_encoder_deprecation_msg, UserWarning)\n"
     ]
    },
    {
     "data": {
      "text/plain": [
       "XGBClassifier(alpha=2.594111166350005e-08, base_score=0.5, booster='gbtree',\n",
       "              colsample_bylevel=1, colsample_bynode=1,\n",
       "              colsample_bytree=0.817500760413142, eta=0.037409157001123794,\n",
       "              gamma=0.013127896580127005, gpu_id=-1, grow_policy='lossguide',\n",
       "              importance_type='gain', interaction_constraints='',\n",
       "              learning_rate=0.3917114986734955, max_delta_step=0, max_depth=9,\n",
       "              min_child_weight=2, missing=nan, monotone_constraints='()',\n",
       "              n_estimators=690, n_jobs=8, num_parallel_tree=1, random_state=0,\n",
       "              reg_alpha=2.59411124e-08, reg_lambda=1.9040011449212134e-05,\n",
       "              scale_pos_weight=1, subsample=0.997522324526165,\n",
       "              tree_method='exact', validate_parameters=1, verbosity=None)"
      ]
     },
     "execution_count": 106,
     "metadata": {},
     "output_type": "execute_result"
    }
   ],
   "source": [
    "clf.fit(x_train,y_train)"
   ]
  },
  {
   "cell_type": "code",
   "execution_count": 107,
   "metadata": {},
   "outputs": [
    {
     "name": "stdout",
     "output_type": "stream",
     "text": [
      "0.9613053613053613\n",
      "0.9891986420951283\n"
     ]
    }
   ],
   "source": [
    "pre=clf.predict_proba(x_test)\n",
    "# print(pre)\n",
    "y_pre=[p[1] for p in pre]\n",
    "acc=clf.score(x_test,y_test)\n",
    "print(acc)\n",
    "auc=roc_auc_score(y_test,y_pre)\n",
    "print(auc)"
   ]
  },
  {
   "cell_type": "code",
   "execution_count": 108,
   "metadata": {},
   "outputs": [
    {
     "data": {
      "text/html": [
       "<div>\n",
       "<style scoped>\n",
       "    .dataframe tbody tr th:only-of-type {\n",
       "        vertical-align: middle;\n",
       "    }\n",
       "\n",
       "    .dataframe tbody tr th {\n",
       "        vertical-align: top;\n",
       "    }\n",
       "\n",
       "    .dataframe thead th {\n",
       "        text-align: right;\n",
       "    }\n",
       "</style>\n",
       "<table border=\"1\" class=\"dataframe\">\n",
       "  <thead>\n",
       "    <tr style=\"text-align: right;\">\n",
       "      <th></th>\n",
       "      <th>source_node</th>\n",
       "      <th>destination_node</th>\n",
       "    </tr>\n",
       "  </thead>\n",
       "  <tbody>\n",
       "    <tr>\n",
       "      <th>0</th>\n",
       "      <td>0</td>\n",
       "      <td>2917</td>\n",
       "    </tr>\n",
       "    <tr>\n",
       "      <th>1</th>\n",
       "      <td>0</td>\n",
       "      <td>2956</td>\n",
       "    </tr>\n",
       "    <tr>\n",
       "      <th>2</th>\n",
       "      <td>1</td>\n",
       "      <td>4038</td>\n",
       "    </tr>\n",
       "    <tr>\n",
       "      <th>3</th>\n",
       "      <td>2</td>\n",
       "      <td>1848</td>\n",
       "    </tr>\n",
       "    <tr>\n",
       "      <th>4</th>\n",
       "      <td>3</td>\n",
       "      <td>513</td>\n",
       "    </tr>\n",
       "    <tr>\n",
       "      <th>...</th>\n",
       "      <td>...</td>\n",
       "      <td>...</td>\n",
       "    </tr>\n",
       "    <tr>\n",
       "      <th>1995</th>\n",
       "      <td>3865</td>\n",
       "      <td>3924</td>\n",
       "    </tr>\n",
       "    <tr>\n",
       "      <th>1996</th>\n",
       "      <td>3917</td>\n",
       "      <td>4025</td>\n",
       "    </tr>\n",
       "    <tr>\n",
       "      <th>1997</th>\n",
       "      <td>3922</td>\n",
       "      <td>3947</td>\n",
       "    </tr>\n",
       "    <tr>\n",
       "      <th>1998</th>\n",
       "      <td>3955</td>\n",
       "      <td>3987</td>\n",
       "    </tr>\n",
       "    <tr>\n",
       "      <th>1999</th>\n",
       "      <td>3993</td>\n",
       "      <td>4063</td>\n",
       "    </tr>\n",
       "  </tbody>\n",
       "</table>\n",
       "<p>2000 rows × 2 columns</p>\n",
       "</div>"
      ],
      "text/plain": [
       "      source_node  destination_node\n",
       "0               0              2917\n",
       "1               0              2956\n",
       "2               1              4038\n",
       "3               2              1848\n",
       "4               3               513\n",
       "...           ...               ...\n",
       "1995         3865              3924\n",
       "1996         3917              4025\n",
       "1997         3922              3947\n",
       "1998         3955              3987\n",
       "1999         3993              4063\n",
       "\n",
       "[2000 rows x 2 columns]"
      ]
     },
     "execution_count": 108,
     "metadata": {},
     "output_type": "execute_result"
    }
   ],
   "source": [
    "testCols=['Id', 'source_node', 'destination_node'] \n",
    "df_test_public = pd.read_csv('test-public.csv')\n",
    "ids = df_test_public['Id'].values\n",
    "df_test_public.columns = testCols\n",
    "df_test_public = df_test_public.drop('Id', axis = 1)\n",
    "df_test_public"
   ]
  },
  {
   "cell_type": "code",
   "execution_count": 109,
   "metadata": {},
   "outputs": [
    {
     "name": "stderr",
     "output_type": "stream",
     "text": [
      "<ipython-input-109-2271668228b8>:1: DeprecationWarning: Call to deprecated `__getitem__` (Method will be removed in 4.0.0, use self.wv.__getitem__() instead).\n",
      "  x_testing_n2v = [(n2w_model[str(i)]+n2w_model[str(j)]) for i,j in zip(df_test_public['source_node'], df_test_public['destination_node'])]\n"
     ]
    }
   ],
   "source": [
    "x_testing_n2v = [(n2w_model[str(i)]+n2w_model[str(j)]) for i,j in zip(df_test_public['source_node'], df_test_public['destination_node'])]"
   ]
  },
  {
   "cell_type": "code",
   "execution_count": 111,
   "metadata": {},
   "outputs": [],
   "source": [
    "x_testing_n2v_1 = np.array(x_testing_n2v)"
   ]
  },
  {
   "cell_type": "code",
   "execution_count": 113,
   "metadata": {},
   "outputs": [],
   "source": [
    "test_edges = df_test_public.to_numpy()"
   ]
  },
  {
   "cell_type": "code",
   "execution_count": 114,
   "metadata": {},
   "outputs": [
    {
     "name": "stdout",
     "output_type": "stream",
     "text": [
      "features: 2000\n"
     ]
    }
   ],
   "source": [
    "features_test = generate_features(test_edges, test=True)"
   ]
  },
  {
   "cell_type": "code",
   "execution_count": 115,
   "metadata": {},
   "outputs": [],
   "source": [
    "def write_test_to_csv(features):\n",
    "    with open(\"test.csv\",\"w\",newline=\"\") as csvfile:\n",
    "        writer=csv.writer(csvfile)\n",
    "        writer.writerow([\"JC\",\"AA\",\"Label\"])\n",
    "        writer.writerows(features)"
   ]
  },
  {
   "cell_type": "code",
   "execution_count": 116,
   "metadata": {},
   "outputs": [],
   "source": [
    "write_test_to_csv(features_test)"
   ]
  },
  {
   "cell_type": "code",
   "execution_count": 117,
   "metadata": {},
   "outputs": [],
   "source": [
    "dataset_test_sim = pd.read_csv('test.csv')\n",
    "FEATURE_SIZE=2\n",
    "\n",
    "X_test_sim = dataset_test_sim.iloc[:,:FEATURE_SIZE].values\n",
    "y_test_sim = dataset_test_sim.iloc[:,FEATURE_SIZE].values"
   ]
  },
  {
   "cell_type": "code",
   "execution_count": 118,
   "metadata": {},
   "outputs": [],
   "source": [
    "x_testing_sim = sc.transform(X_test_sim)"
   ]
  },
  {
   "cell_type": "code",
   "execution_count": 120,
   "metadata": {},
   "outputs": [],
   "source": [
    "all_feats_testing = np.concatenate((x_testing_sim,x_testing_n2v_1),axis=1)"
   ]
  },
  {
   "cell_type": "code",
   "execution_count": 122,
   "metadata": {},
   "outputs": [],
   "source": [
    "predictions=clf.predict_proba(all_feats_testing)"
   ]
  },
  {
   "cell_type": "code",
   "execution_count": 124,
   "metadata": {},
   "outputs": [],
   "source": [
    "with open(\"XGBoost_results.csv\",\"w\",newline=\"\") as csvfile:\n",
    "    writer=csv.writer(csvfile)\n",
    "    writer.writerow([\"Id\",\"Predicted\"])\n",
    "    test_id=1\n",
    "    for prediction in predictions:\n",
    "        writer.writerow([test_id,prediction[1]])\n",
    "        test_id+=1"
   ]
  }
 ],
 "metadata": {
  "kernelspec": {
   "display_name": "Python 3",
   "language": "python",
   "name": "python3"
  },
  "language_info": {
   "codemirror_mode": {
    "name": "ipython",
    "version": 3
   },
   "file_extension": ".py",
   "mimetype": "text/x-python",
   "name": "python",
   "nbconvert_exporter": "python",
   "pygments_lexer": "ipython3",
   "version": "3.8.8"
  }
 },
 "nbformat": 4,
 "nbformat_minor": 4
}
